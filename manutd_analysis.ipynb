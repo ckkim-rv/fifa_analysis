{
 "cells": [
  {
   "cell_type": "markdown",
   "metadata": {},
   "source": [
    "# Manchester United Analysis\n",
    "by Jason Kim"
   ]
  },
  {
   "cell_type": "code",
   "execution_count": 119,
   "metadata": {
    "tags": [
     "remove_cell"
    ]
   },
   "outputs": [],
   "source": [
    "import pandas as pd\n",
    "import numpy as np\n",
    "import matplotlib.pyplot as plt\n",
    "import matplotlib.image as mpimg\n",
    "%matplotlib inline\n",
    "pd.set_option('display.max_rows', None)\n",
    "import plotly.offline as py\n",
    "import plotly.graph_objects as go\n",
    "import plotly.express as px\n",
    "from IPython.display import HTML,display,display_html\n",
    "import random"
   ]
  },
  {
   "cell_type": "code",
   "execution_count": 103,
   "metadata": {},
   "outputs": [
    {
     "data": {
      "text/html": [
       "\n",
       "        <script>\n",
       "            function code_toggle_15377437691463704228() {\n",
       "                $('div.cell.code_cell.rendered.selected').find('div.input').toggle();\n",
       "            }\n",
       "\n",
       "            \n",
       "        </script>\n",
       "\n",
       "        <a href=\"javascript:code_toggle_15377437691463704228()\">Toggle show/hide</a>\n",
       "    "
      ],
      "text/plain": [
       "<IPython.core.display.HTML object>"
      ]
     },
     "execution_count": 103,
     "metadata": {},
     "output_type": "execute_result"
    }
   ],
   "source": [
    "def hide_toggle(for_next=False):\n",
    "    this_cell = \"\"\"$('div.cell.code_cell.rendered.selected')\"\"\"\n",
    "    next_cell = this_cell + '.next()'\n",
    "\n",
    "    toggle_text = 'Toggle show/hide'  # text shown on toggle link\n",
    "    target_cell = this_cell  # target cell to control with toggle\n",
    "    js_hide_current = ''  # bit of JS to permanently hide code in current cell (only when toggling next cell)\n",
    "\n",
    "    if for_next:\n",
    "        target_cell = next_cell\n",
    "        toggle_text += ' next cell'\n",
    "        js_hide_current = this_cell + '.find(\"div.input\").hide();'\n",
    "\n",
    "    js_f_name = 'code_toggle_{}'.format(str(random.randint(1,2**64)))\n",
    "\n",
    "    html = \"\"\"\n",
    "        <script>\n",
    "            function {f_name}() {{\n",
    "                {cell_selector}.find('div.input').toggle();\n",
    "            }}\n",
    "\n",
    "            {js_hide_current}\n",
    "        </script>\n",
    "\n",
    "        <a href=\"javascript:{f_name}()\">{toggle_text}</a>\n",
    "    \"\"\".format(\n",
    "        f_name=js_f_name,\n",
    "        cell_selector=target_cell,\n",
    "        js_hide_current=js_hide_current, \n",
    "        toggle_text=toggle_text\n",
    "    )\n",
    "\n",
    "    return HTML(html)\n",
    "\n",
    "hide_toggle()"
   ]
  },
  {
   "cell_type": "code",
   "execution_count": 139,
   "metadata": {
    "slideshow": {
     "slide_type": "slide"
    },
    "tags": [
     "remove_cell"
    ]
   },
   "outputs": [
    {
     "data": {
      "text/html": [
       "\n",
       "        <script>\n",
       "            function code_toggle_10623928108847610333() {\n",
       "                $('div.cell.code_cell.rendered.selected').find('div.input').toggle();\n",
       "            }\n",
       "\n",
       "            \n",
       "        </script>\n",
       "\n",
       "        <a href=\"javascript:code_toggle_10623928108847610333()\">Toggle show/hide</a>\n",
       "    "
      ],
      "text/plain": [
       "<IPython.core.display.HTML object>"
      ]
     },
     "execution_count": 139,
     "metadata": {},
     "output_type": "execute_result"
    }
   ],
   "source": [
    "df = pd.read_csv(r'C:\\Users\\Chongkyung\\Documents\\github\\fifa_analysis\\FIFA-21 Complete.csv',sep=';', index_col='player_id')\n",
    "\n",
    "# in the FIFA21 player database, the team names had a space at the end: truncated.\n",
    "df['team'] = df['team'].str.rstrip()\n",
    "\n",
    "hide_toggle()"
   ]
  },
  {
   "cell_type": "markdown",
   "metadata": {},
   "source": [
    "### Let's look at the raw FIFA stats first and see how Manchester United compares to other clubs in the world and especially their PL rivals."
   ]
  },
  {
   "cell_type": "markdown",
   "metadata": {},
   "source": [
    "## Intro: Basic comparisons between top European teams"
   ]
  },
  {
   "cell_type": "code",
   "execution_count": 127,
   "metadata": {
    "tags": [
     "remove_cell"
    ]
   },
   "outputs": [
    {
     "data": {
      "text/html": [
       "<style  type=\"text/css\" >\n",
       "#T_71308_row0_col0{\n",
       "            background-color:  #fcfdbf;\n",
       "            color:  #000000;\n",
       "        }#T_71308_row1_col0{\n",
       "            background-color:  #fd9b6b;\n",
       "            color:  #000000;\n",
       "        }#T_71308_row2_col0{\n",
       "            background-color:  #c23b75;\n",
       "            color:  #f1f1f1;\n",
       "        }#T_71308_row3_col0{\n",
       "            background-color:  #ba3878;\n",
       "            color:  #f1f1f1;\n",
       "        }#T_71308_row4_col0{\n",
       "            background-color:  #8e2a81;\n",
       "            color:  #f1f1f1;\n",
       "        }#T_71308_row5_col0{\n",
       "            background-color:  #7c2382;\n",
       "            color:  #f1f1f1;\n",
       "        }#T_71308_row6_col0{\n",
       "            background-color:  #621980;\n",
       "            color:  #f1f1f1;\n",
       "        }#T_71308_row7_col0{\n",
       "            background-color:  #57157e;\n",
       "            color:  #f1f1f1;\n",
       "        }#T_71308_row8_col0{\n",
       "            background-color:  #1a1042;\n",
       "            color:  #f1f1f1;\n",
       "        }#T_71308_row9_col0{\n",
       "            background-color:  #0e0b2b;\n",
       "            color:  #f1f1f1;\n",
       "        }#T_71308_row10_col0{\n",
       "            background-color:  #0b0924;\n",
       "            color:  #f1f1f1;\n",
       "        }#T_71308_row11_col0{\n",
       "            background-color:  #090720;\n",
       "            color:  #f1f1f1;\n",
       "        }#T_71308_row12_col0{\n",
       "            background-color:  #08071e;\n",
       "            color:  #f1f1f1;\n",
       "        }#T_71308_row13_col0,#T_71308_row14_col0{\n",
       "            background-color:  #000004;\n",
       "            color:  #f1f1f1;\n",
       "        }</style><table id=\"T_71308_\" ><thead>    <tr>        <th class=\"blank level0\" ></th>        <th class=\"col_heading level0 col0\" >overall</th>    </tr>    <tr>        <th class=\"index_name level0\" >team</th>        <th class=\"blank\" ></th>    </tr></thead><tbody>\n",
       "                <tr>\n",
       "                        <th id=\"T_71308_level0_row0\" class=\"row_heading level0 row0\" >Juventus</th>\n",
       "                        <td id=\"T_71308_row0_col0\" class=\"data row0 col0\" >83.043478</td>\n",
       "            </tr>\n",
       "            <tr>\n",
       "                        <th id=\"T_71308_level0_row1\" class=\"row_heading level0 row1\" >FC Bayern München</th>\n",
       "                        <td id=\"T_71308_row1_col0\" class=\"data row1 col0\" >81.565217</td>\n",
       "            </tr>\n",
       "            <tr>\n",
       "                        <th id=\"T_71308_level0_row2\" class=\"row_heading level0 row2\" >Napoli</th>\n",
       "                        <td id=\"T_71308_row2_col0\" class=\"data row2 col0\" >79.730769</td>\n",
       "            </tr>\n",
       "            <tr>\n",
       "                        <th id=\"T_71308_level0_row3\" class=\"row_heading level0 row3\" >Real Madrid</th>\n",
       "                        <td id=\"T_71308_row3_col0\" class=\"data row3 col0\" >79.606061</td>\n",
       "            </tr>\n",
       "            <tr>\n",
       "                        <th id=\"T_71308_level0_row4\" class=\"row_heading level0 row4\" >Paris Saint-Germain</th>\n",
       "                        <td id=\"T_71308_row4_col0\" class=\"data row4 col0\" >78.866667</td>\n",
       "            </tr>\n",
       "            <tr>\n",
       "                        <th id=\"T_71308_level0_row5\" class=\"row_heading level0 row5\" >Inter</th>\n",
       "                        <td id=\"T_71308_row5_col0\" class=\"data row5 col0\" >78.576923</td>\n",
       "            </tr>\n",
       "            <tr>\n",
       "                        <th id=\"T_71308_level0_row6\" class=\"row_heading level0 row6\" >FC Barcelona</th>\n",
       "                        <td id=\"T_71308_row6_col0\" class=\"data row6 col0\" >78.090909</td>\n",
       "            </tr>\n",
       "            <tr>\n",
       "                        <th id=\"T_71308_level0_row7\" class=\"row_heading level0 row7\" >Bayer 04 Leverkusen</th>\n",
       "                        <td id=\"T_71308_row7_col0\" class=\"data row7 col0\" >77.916667</td>\n",
       "            </tr>\n",
       "            <tr>\n",
       "                        <th id=\"T_71308_level0_row8\" class=\"row_heading level0 row8\" >Manchester City</th>\n",
       "                        <td id=\"T_71308_row8_col0\" class=\"data row8 col0\" >76.875000</td>\n",
       "            </tr>\n",
       "            <tr>\n",
       "                        <th id=\"T_71308_level0_row9\" class=\"row_heading level0 row9\" >SL Benfica</th>\n",
       "                        <td id=\"T_71308_row9_col0\" class=\"data row9 col0\" >76.600000</td>\n",
       "            </tr>\n",
       "            <tr>\n",
       "                        <th id=\"T_71308_level0_row10\" class=\"row_heading level0 row10\" >Lazio</th>\n",
       "                        <td id=\"T_71308_row10_col0\" class=\"data row10 col0\" >76.500000</td>\n",
       "            </tr>\n",
       "            <tr>\n",
       "                        <th id=\"T_71308_level0_row11\" class=\"row_heading level0 row11\" >Liverpool</th>\n",
       "                        <td id=\"T_71308_row11_col0\" class=\"data row11 col0\" >76.454545</td>\n",
       "            </tr>\n",
       "            <tr>\n",
       "                        <th id=\"T_71308_level0_row12\" class=\"row_heading level0 row12\" >Atlético Madrid</th>\n",
       "                        <td id=\"T_71308_row12_col0\" class=\"data row12 col0\" >76.424242</td>\n",
       "            </tr>\n",
       "            <tr>\n",
       "                        <th id=\"T_71308_level0_row13\" class=\"row_heading level0 row13\" >Milan</th>\n",
       "                        <td id=\"T_71308_row13_col0\" class=\"data row13 col0\" >76.040000</td>\n",
       "            </tr>\n",
       "            <tr>\n",
       "                        <th id=\"T_71308_level0_row14\" class=\"row_heading level0 row14\" >Manchester United</th>\n",
       "                        <td id=\"T_71308_row14_col0\" class=\"data row14 col0\" >76.030303</td>\n",
       "            </tr>\n",
       "    </tbody></table>"
      ],
      "text/plain": [
       "<pandas.io.formats.style.Styler at 0x19788e79400>"
      ]
     },
     "execution_count": 127,
     "metadata": {},
     "output_type": "execute_result"
    }
   ],
   "source": [
    "team_stat = df.groupby(['team'])['overall'].mean().sort_values(ascending=False)\n",
    "team_stat.head(15).to_frame().style.background_gradient(cmap=\"magma\")"
   ]
  },
  {
   "cell_type": "markdown",
   "metadata": {
    "slideshow": {
     "slide_type": "slide"
    }
   },
   "source": [
    "### Manchester United ranks 15th in the world, by mean FIFA21 overall stats;\n",
    "### Man City and Liverpool are the only PL clubs with higher mean overall stats\n"
   ]
  },
  {
   "cell_type": "code",
   "execution_count": 133,
   "metadata": {
    "tags": [
     "remove_cell"
    ]
   },
   "outputs": [
    {
     "data": {
      "text/html": [
       "<style  type=\"text/css\" >\n",
       "#T_b8996_row0_col0,#T_b8996_row14_col0{\n",
       "            background-color:  #e2d9e2;\n",
       "            color:  #000000;\n",
       "        }#T_b8996_row1_col0,#T_b8996_row2_col0{\n",
       "            background-color:  #d0b39e;\n",
       "            color:  #000000;\n",
       "        }#T_b8996_row3_col0{\n",
       "            background-color:  #c0755e;\n",
       "            color:  #000000;\n",
       "        }#T_b8996_row4_col0{\n",
       "            background-color:  #9f3c50;\n",
       "            color:  #f1f1f1;\n",
       "        }#T_b8996_row5_col0,#T_b8996_row6_col0{\n",
       "            background-color:  #64194b;\n",
       "            color:  #f1f1f1;\n",
       "        }#T_b8996_row7_col0{\n",
       "            background-color:  #531e7c;\n",
       "            color:  #f1f1f1;\n",
       "        }#T_b8996_row8_col0,#T_b8996_row9_col0{\n",
       "            background-color:  #5f58b0;\n",
       "            color:  #f1f1f1;\n",
       "        }#T_b8996_row10_col0{\n",
       "            background-color:  #6d90c0;\n",
       "            color:  #000000;\n",
       "        }#T_b8996_row11_col0,#T_b8996_row12_col0,#T_b8996_row13_col0{\n",
       "            background-color:  #a6bfca;\n",
       "            color:  #000000;\n",
       "        }</style><table id=\"T_b8996_\" ><thead>    <tr>        <th class=\"blank level0\" ></th>        <th class=\"col_heading level0 col0\" >team</th>    </tr></thead><tbody>\n",
       "                <tr>\n",
       "                        <th id=\"T_b8996_level0_row0\" class=\"row_heading level0 row0\" >FC Barcelona</th>\n",
       "                        <td id=\"T_b8996_row0_col0\" class=\"data row0 col0\" >12</td>\n",
       "            </tr>\n",
       "            <tr>\n",
       "                        <th id=\"T_b8996_level0_row1\" class=\"row_heading level0 row1\" >Manchester City</th>\n",
       "                        <td id=\"T_b8996_row1_col0\" class=\"data row1 col0\" >11</td>\n",
       "            </tr>\n",
       "            <tr>\n",
       "                        <th id=\"T_b8996_level0_row2\" class=\"row_heading level0 row2\" >Real Madrid</th>\n",
       "                        <td id=\"T_b8996_row2_col0\" class=\"data row2 col0\" >11</td>\n",
       "            </tr>\n",
       "            <tr>\n",
       "                        <th id=\"T_b8996_level0_row3\" class=\"row_heading level0 row3\" >Liverpool</th>\n",
       "                        <td id=\"T_b8996_row3_col0\" class=\"data row3 col0\" >10</td>\n",
       "            </tr>\n",
       "            <tr>\n",
       "                        <th id=\"T_b8996_level0_row4\" class=\"row_heading level0 row4\" >Paris Saint-Germain</th>\n",
       "                        <td id=\"T_b8996_row4_col0\" class=\"data row4 col0\" >9</td>\n",
       "            </tr>\n",
       "            <tr>\n",
       "                        <th id=\"T_b8996_level0_row5\" class=\"row_heading level0 row5\" >FC Bayern München</th>\n",
       "                        <td id=\"T_b8996_row5_col0\" class=\"data row5 col0\" >8</td>\n",
       "            </tr>\n",
       "            <tr>\n",
       "                        <th id=\"T_b8996_level0_row6\" class=\"row_heading level0 row6\" >Juventus</th>\n",
       "                        <td id=\"T_b8996_row6_col0\" class=\"data row6 col0\" >8</td>\n",
       "            </tr>\n",
       "            <tr>\n",
       "                        <th id=\"T_b8996_level0_row7\" class=\"row_heading level0 row7\" >Inter</th>\n",
       "                        <td id=\"T_b8996_row7_col0\" class=\"data row7 col0\" >6</td>\n",
       "            </tr>\n",
       "            <tr>\n",
       "                        <th id=\"T_b8996_level0_row8\" class=\"row_heading level0 row8\" >Tottenham Hotspur</th>\n",
       "                        <td id=\"T_b8996_row8_col0\" class=\"data row8 col0\" >5</td>\n",
       "            </tr>\n",
       "            <tr>\n",
       "                        <th id=\"T_b8996_level0_row9\" class=\"row_heading level0 row9\" >Borussia Dortmund</th>\n",
       "                        <td id=\"T_b8996_row9_col0\" class=\"data row9 col0\" >5</td>\n",
       "            </tr>\n",
       "            <tr>\n",
       "                        <th id=\"T_b8996_level0_row10\" class=\"row_heading level0 row10\" >Atlético Madrid</th>\n",
       "                        <td id=\"T_b8996_row10_col0\" class=\"data row10 col0\" >4</td>\n",
       "            </tr>\n",
       "            <tr>\n",
       "                        <th id=\"T_b8996_level0_row11\" class=\"row_heading level0 row11\" >Manchester United</th>\n",
       "                        <td id=\"T_b8996_row11_col0\" class=\"data row11 col0\" >3</td>\n",
       "            </tr>\n",
       "            <tr>\n",
       "                        <th id=\"T_b8996_level0_row12\" class=\"row_heading level0 row12\" >Napoli</th>\n",
       "                        <td id=\"T_b8996_row12_col0\" class=\"data row12 col0\" >3</td>\n",
       "            </tr>\n",
       "            <tr>\n",
       "                        <th id=\"T_b8996_level0_row13\" class=\"row_heading level0 row13\" >Lazio</th>\n",
       "                        <td id=\"T_b8996_row13_col0\" class=\"data row13 col0\" >3</td>\n",
       "            </tr>\n",
       "            <tr>\n",
       "                        <th id=\"T_b8996_level0_row14\" class=\"row_heading level0 row14\" >Arsenal</th>\n",
       "                        <td id=\"T_b8996_row14_col0\" class=\"data row14 col0\" >2</td>\n",
       "            </tr>\n",
       "    </tbody></table>"
      ],
      "text/plain": [
       "<pandas.io.formats.style.Styler at 0x19787da2eb0>"
      ]
     },
     "execution_count": 133,
     "metadata": {},
     "output_type": "execute_result"
    }
   ],
   "source": [
    "best_itw=df.loc[df['overall'] > 84 ].sort_values(by = ['overall'],ascending=False)\n",
    "best_itw['team'].value_counts().head(15).to_frame().style.background_gradient(cmap=\"twilight\")"
   ]
  },
  {
   "cell_type": "markdown",
   "metadata": {},
   "source": [
    "### It is commonly accepted by FIFA fans that world class players have at least a 85 overall rating.  By this popular metric, Manchester United has only 3 world class players, less than Man City's 11, Liverpool's 10, and even Tottenham's 5."
   ]
  },
  {
   "cell_type": "markdown",
   "metadata": {},
   "source": [
    "## A Look inside Average League Positions for the past decade"
   ]
  },
  {
   "cell_type": "code",
   "execution_count": 21,
   "metadata": {
    "tags": [
     "remove_cell"
    ]
   },
   "outputs": [
    {
     "data": {
      "text/html": [
       "\n",
       "        <script>\n",
       "            function code_toggle_8478988581831180526() {\n",
       "                $('div.cell.code_cell.rendered.selected').find('div.input').toggle();\n",
       "            }\n",
       "\n",
       "            \n",
       "        </script>\n",
       "\n",
       "        <a href=\"javascript:code_toggle_8478988581831180526()\">Toggle show/hide</a>\n",
       "    "
      ],
      "text/plain": [
       "<IPython.core.display.HTML object>"
      ]
     },
     "execution_count": 21,
     "metadata": {},
     "output_type": "execute_result"
    }
   ],
   "source": [
    "# Average Position Analysis\n",
    "# Data pulled from Wikipedia\n",
    "# (not many sites and data sources keep track of teams' mid-season league positions)\n",
    "links = [\"https://en.wikipedia.org/wiki/2009%E2%80%9310_Manchester_United_F.C._season\",\"https://en.wikipedia.org/wiki/2010%E2%80%9311_Manchester_United_F.C._season\",\"https://en.wikipedia.org/wiki/2011%E2%80%9312_Manchester_United_F.C._season\",\"https://en.wikipedia.org/wiki/2012%E2%80%9313_Manchester_United_F.C._season\",\"https://en.wikipedia.org/wiki/2013%E2%80%9314_Manchester_United_F.C._season\",\"https://en.wikipedia.org/wiki/2014%E2%80%9315_Manchester_United_F.C._season\",\"https://en.wikipedia.org/wiki/2015%E2%80%9316_Manchester_United_F.C._season\",\"https://en.wikipedia.org/wiki/2016%E2%80%9317_Manchester_United_F.C._season\",\"https://en.wikipedia.org/wiki/2017%E2%80%9318_Manchester_United_F.C._season\",\"https://en.wikipedia.org/wiki/2018%E2%80%9319_Manchester_United_F.C._season\",\"https://en.wikipedia.org/wiki/2019%E2%80%9320_Manchester_United_F.C._season\"]\n",
    "league_pos = []\n",
    "\n",
    "def league_pos_extractor(link,league):\n",
    "    manu_df = pd.read_html(link)\n",
    "    if len(manu_df[4]) ==38:\n",
    "        positions = manu_df[4].iloc[:,-1].values.tolist()\n",
    "    elif link == \"https://en.wikipedia.org/wiki/2018%E2%80%9319_Manchester_United_F.C._season\":\n",
    "        positions = manu_df[3].iloc[:,-2].values.tolist()\n",
    "    else:\n",
    "        positions = manu_df[3].iloc[:,-1].values.tolist()\n",
    "    league.append(positions)\n",
    "\n",
    "for link in links:\n",
    "    league_pos_extractor(link,league_pos)\n",
    "agg_lg_pos = pd.DataFrame(league_pos)\n",
    "\n",
    "df2 = agg_lg_pos.T\n",
    "df2.columns = [\"09/10\",\"10/11\",\"11/12\",\"12/13\",\"13/14\",\"14/15\",\"15/16\",\"16/17\",\"17/18\",\"18/19\",\"19/20\"]\n",
    "\n",
    "for col in df2:\n",
    "    if col == \"15/16\":\n",
    "        df2[col] = df2[col].str[0]\n",
    "    else:\n",
    "        df2[col] = df2[col].str[:-2]\n",
    "    df2[col] = pd.to_numeric(df2[col])\n",
    "\n",
    "df2.index = range(1,39)\n",
    "\n",
    "avg_pos = []\n",
    "\n",
    "for col in df2:\n",
    "    avg_pos.append((np.mean(df2[col])))\n",
    "\n",
    "hide_toggle()"
   ]
  },
  {
   "cell_type": "code",
   "execution_count": 44,
   "metadata": {
    "tags": [
     "remove_cell"
    ]
   },
   "outputs": [
    {
     "data": {
      "application/vnd.plotly.v1+json": {
       "config": {
        "plotlyServerURL": "https://plot.ly"
       },
       "data": [
        {
         "hovertemplate": "season=09/10<br>Gameweek=%{x}<br>League Position=%{y}<extra></extra>",
         "legendgroup": "09/10",
         "line": {
          "color": "#636efa",
          "dash": "solid"
         },
         "mode": "lines",
         "name": "09/10",
         "orientation": "v",
         "showlegend": true,
         "type": "scatter",
         "x": [
          1,
          2,
          3,
          4,
          5,
          6,
          7,
          8,
          9,
          10,
          11,
          12,
          13,
          14,
          15,
          16,
          17,
          18,
          19,
          20,
          21,
          22,
          23,
          24,
          25,
          26,
          27,
          28,
          29,
          30,
          31,
          32,
          33,
          34,
          35,
          36,
          37,
          38
         ],
         "xaxis": "x",
         "y": [
          9,
          10,
          3,
          3,
          2,
          2,
          1,
          1,
          1,
          2,
          2,
          3,
          2,
          2,
          2,
          2,
          2,
          2,
          2,
          2,
          2,
          2,
          1,
          2,
          1,
          2,
          2,
          2,
          1,
          1,
          1,
          1,
          2,
          2,
          2,
          1,
          2,
          2
         ],
         "yaxis": "y"
        },
        {
         "hovertemplate": "season=10/11<br>Gameweek=%{x}<br>League Position=%{y}<extra></extra>",
         "legendgroup": "10/11",
         "line": {
          "color": "#EF553B",
          "dash": "solid"
         },
         "mode": "lines",
         "name": "10/11",
         "orientation": "v",
         "showlegend": true,
         "type": "scatter",
         "x": [
          1,
          2,
          3,
          4,
          5,
          6,
          7,
          8,
          9,
          10,
          11,
          12,
          13,
          14,
          15,
          16,
          17,
          18,
          19,
          20,
          21,
          22,
          23,
          24,
          25,
          26,
          27,
          28,
          29,
          30,
          31,
          32,
          33,
          34,
          35,
          36,
          37,
          38
         ],
         "xaxis": "x",
         "y": [
          4,
          3,
          3,
          3,
          3,
          2,
          3,
          3,
          3,
          3,
          2,
          2,
          3,
          2,
          1,
          1,
          1,
          1,
          1,
          1,
          1,
          1,
          1,
          1,
          1,
          1,
          1,
          1,
          1,
          1,
          1,
          1,
          1,
          1,
          1,
          1,
          1,
          1
         ],
         "yaxis": "y"
        },
        {
         "hovertemplate": "season=11/12<br>Gameweek=%{x}<br>League Position=%{y}<extra></extra>",
         "legendgroup": "11/12",
         "line": {
          "color": "#00cc96",
          "dash": "solid"
         },
         "mode": "lines",
         "name": "11/12",
         "orientation": "v",
         "showlegend": true,
         "type": "scatter",
         "x": [
          1,
          2,
          3,
          4,
          5,
          6,
          7,
          8,
          9,
          10,
          11,
          12,
          13,
          14,
          15,
          16,
          17,
          18,
          19,
          20,
          21,
          22,
          23,
          24,
          25,
          26,
          27,
          28,
          29,
          30,
          31,
          32,
          33,
          34,
          35,
          36,
          37,
          38
         ],
         "xaxis": "x",
         "y": [
          3,
          2,
          1,
          1,
          1,
          1,
          1,
          2,
          2,
          2,
          2,
          2,
          2,
          2,
          2,
          2,
          2,
          2,
          2,
          2,
          2,
          2,
          2,
          2,
          1,
          2,
          2,
          1,
          1,
          1,
          1,
          1,
          1,
          1,
          1,
          2,
          2,
          2
         ],
         "yaxis": "y"
        },
        {
         "hovertemplate": "season=12/13<br>Gameweek=%{x}<br>League Position=%{y}<extra></extra>",
         "legendgroup": "12/13",
         "line": {
          "color": "#ab63fa",
          "dash": "solid"
         },
         "mode": "lines",
         "name": "12/13",
         "orientation": "v",
         "showlegend": true,
         "type": "scatter",
         "x": [
          1,
          2,
          3,
          4,
          5,
          6,
          7,
          8,
          9,
          10,
          11,
          12,
          13,
          14,
          15,
          16,
          17,
          18,
          19,
          20,
          21,
          22,
          23,
          24,
          25,
          26,
          27,
          28,
          29,
          30,
          31,
          32,
          33,
          34,
          35,
          36,
          37,
          38
         ],
         "xaxis": "x",
         "y": [
          16,
          7,
          5,
          2,
          2,
          3,
          2,
          2,
          2,
          1,
          1,
          2,
          1,
          1,
          1,
          1,
          1,
          1,
          1,
          1,
          1,
          1,
          1,
          1,
          1,
          1,
          1,
          1,
          1,
          1,
          1,
          1,
          1,
          1,
          1,
          1,
          1,
          1
         ],
         "yaxis": "y"
        },
        {
         "hovertemplate": "season=13/14<br>Gameweek=%{x}<br>League Position=%{y}<extra></extra>",
         "legendgroup": "13/14",
         "line": {
          "color": "#FFA15A",
          "dash": "solid"
         },
         "mode": "lines",
         "name": "13/14",
         "orientation": "v",
         "showlegend": true,
         "type": "scatter",
         "x": [
          1,
          2,
          3,
          4,
          5,
          6,
          7,
          8,
          9,
          10,
          11,
          12,
          13,
          14,
          15,
          16,
          17,
          18,
          19,
          20,
          21,
          22,
          23,
          24,
          25,
          26,
          27,
          28,
          29,
          30,
          31,
          32,
          33,
          34,
          35,
          36,
          37,
          38
         ],
         "xaxis": "x",
         "y": [
          1,
          4,
          7,
          5,
          8,
          12,
          9,
          8,
          8,
          8,
          5,
          6,
          8,
          9,
          9,
          8,
          7,
          7,
          6,
          7,
          7,
          7,
          7,
          7,
          7,
          7,
          7,
          6,
          7,
          7,
          7,
          7,
          6,
          7,
          7,
          7,
          7,
          7
         ],
         "yaxis": "y"
        },
        {
         "hovertemplate": "season=14/15<br>Gameweek=%{x}<br>League Position=%{y}<extra></extra>",
         "legendgroup": "14/15",
         "line": {
          "color": "#19d3f3",
          "dash": "solid"
         },
         "mode": "lines",
         "name": "14/15",
         "orientation": "v",
         "showlegend": true,
         "type": "scatter",
         "x": [
          1,
          2,
          3,
          4,
          5,
          6,
          7,
          8,
          9,
          10,
          11,
          12,
          13,
          14,
          15,
          16,
          17,
          18,
          19,
          20,
          21,
          22,
          23,
          24,
          25,
          26,
          27,
          28,
          29,
          30,
          31,
          32,
          33,
          34,
          35,
          36,
          37,
          38
         ],
         "xaxis": "x",
         "y": [
          16,
          13,
          14,
          9,
          12,
          7,
          4,
          6,
          8,
          9,
          6,
          4,
          4,
          4,
          3,
          3,
          3,
          3,
          3,
          3,
          4,
          4,
          3,
          4,
          3,
          4,
          3,
          4,
          4,
          4,
          3,
          3,
          3,
          4,
          4,
          4,
          4,
          4
         ],
         "yaxis": "y"
        },
        {
         "hovertemplate": "season=15/16<br>Gameweek=%{x}<br>League Position=%{y}<extra></extra>",
         "legendgroup": "15/16",
         "line": {
          "color": "#FF6692",
          "dash": "solid"
         },
         "mode": "lines",
         "name": "15/16",
         "orientation": "v",
         "showlegend": true,
         "type": "scatter",
         "x": [
          1,
          2,
          3,
          4,
          5,
          6,
          7,
          8,
          9,
          10,
          11,
          12,
          13,
          14,
          15,
          16,
          17,
          18,
          19,
          20,
          21,
          22,
          23,
          24,
          25,
          26,
          27,
          28,
          29,
          30,
          31,
          32,
          33,
          34,
          35,
          36,
          37,
          38
         ],
         "xaxis": "x",
         "y": [
          4,
          1,
          2,
          5,
          2,
          2,
          1,
          3,
          2,
          4,
          4,
          4,
          2,
          3,
          4,
          4,
          5,
          6,
          6,
          5,
          6,
          5,
          5,
          5,
          5,
          5,
          5,
          5,
          6,
          6,
          5,
          5,
          5,
          5,
          5,
          5,
          5,
          5
         ],
         "yaxis": "y"
        },
        {
         "hovertemplate": "season=16/17<br>Gameweek=%{x}<br>League Position=%{y}<extra></extra>",
         "legendgroup": "16/17",
         "line": {
          "color": "#B6E880",
          "dash": "solid"
         },
         "mode": "lines",
         "name": "16/17",
         "orientation": "v",
         "showlegend": true,
         "type": "scatter",
         "x": [
          1,
          2,
          3,
          4,
          5,
          6,
          7,
          8,
          9,
          10,
          11,
          12,
          13,
          14,
          15,
          16,
          17,
          18,
          19,
          20,
          21,
          22,
          23,
          24,
          25,
          26,
          27,
          28,
          29,
          30,
          31,
          32,
          33,
          34,
          35,
          36,
          37,
          38
         ],
         "xaxis": "x",
         "y": [
          1,
          1,
          2,
          3,
          7,
          6,
          6,
          7,
          7,
          8,
          6,
          6,
          6,
          6,
          6,
          6,
          6,
          6,
          6,
          6,
          6,
          6,
          6,
          6,
          6,
          6,
          5,
          5,
          6,
          5,
          5,
          5,
          5,
          5,
          5,
          6,
          6,
          6
         ],
         "yaxis": "y"
        },
        {
         "hovertemplate": "season=17/18<br>Gameweek=%{x}<br>League Position=%{y}<extra></extra>",
         "legendgroup": "17/18",
         "line": {
          "color": "#FF97FF",
          "dash": "solid"
         },
         "mode": "lines",
         "name": "17/18",
         "orientation": "v",
         "showlegend": true,
         "type": "scatter",
         "x": [
          1,
          2,
          3,
          4,
          5,
          6,
          7,
          8,
          9,
          10,
          11,
          12,
          13,
          14,
          15,
          16,
          17,
          18,
          19,
          20,
          21,
          22,
          23,
          24,
          25,
          26,
          27,
          28,
          29,
          30,
          31,
          32,
          33,
          34,
          35,
          36,
          37,
          38
         ],
         "xaxis": "x",
         "y": [
          1,
          1,
          1,
          1,
          2,
          2,
          2,
          2,
          2,
          2,
          2,
          2,
          2,
          2,
          2,
          2,
          2,
          2,
          2,
          2,
          3,
          2,
          2,
          2,
          2,
          2,
          2,
          2,
          2,
          2,
          2,
          2,
          2,
          2,
          2,
          2,
          2,
          2
         ],
         "yaxis": "y"
        },
        {
         "hovertemplate": "season=18/19<br>Gameweek=%{x}<br>League Position=%{y}<extra></extra>",
         "legendgroup": "18/19",
         "line": {
          "color": "#FECB52",
          "dash": "solid"
         },
         "mode": "lines",
         "name": "18/19",
         "orientation": "v",
         "showlegend": true,
         "type": "scatter",
         "x": [
          1,
          2,
          3,
          4,
          5,
          6,
          7,
          8,
          9,
          10,
          11,
          12,
          13,
          14,
          15,
          16,
          17,
          18,
          19,
          20,
          21,
          22,
          23,
          24,
          25,
          26,
          27,
          28,
          29,
          30,
          31,
          32,
          33,
          34,
          35,
          36,
          37,
          38
         ],
         "xaxis": "x",
         "y": [
          7,
          9,
          13,
          10,
          8,
          7,
          10,
          8,
          10,
          8,
          7,
          8,
          7,
          7,
          8,
          6,
          6,
          6,
          6,
          6,
          6,
          6,
          6,
          6,
          5,
          4,
          5,
          5,
          4,
          5,
          5,
          6,
          6,
          6,
          6,
          6,
          6,
          6
         ],
         "yaxis": "y"
        },
        {
         "hovertemplate": "season=19/20<br>Gameweek=%{x}<br>League Position=%{y}<extra></extra>",
         "legendgroup": "19/20",
         "line": {
          "color": "#636efa",
          "dash": "solid"
         },
         "mode": "lines",
         "name": "19/20",
         "orientation": "v",
         "showlegend": true,
         "type": "scatter",
         "x": [
          1,
          2,
          3,
          4,
          5,
          6,
          7,
          8,
          9,
          10,
          11,
          12,
          13,
          14,
          15,
          16,
          17,
          18,
          19,
          20,
          21,
          22,
          23,
          24,
          25,
          26,
          27,
          28,
          29,
          30,
          31,
          32,
          33,
          34,
          35,
          36,
          37,
          38
         ],
         "xaxis": "x",
         "y": [
          2,
          4,
          5,
          7,
          4,
          8,
          10,
          12,
          14,
          7,
          10,
          7,
          9,
          9,
          6,
          5,
          6,
          8,
          8,
          5,
          5,
          5,
          5,
          5,
          7,
          7,
          5,
          5,
          5,
          5,
          5,
          5,
          5,
          5,
          5,
          5,
          3,
          3
         ],
         "yaxis": "y"
        }
       ],
       "layout": {
        "legend": {
         "title": {
          "text": "season"
         },
         "tracegroupgap": 0
        },
        "margin": {
         "t": 60
        },
        "template": {
         "data": {
          "bar": [
           {
            "error_x": {
             "color": "#2a3f5f"
            },
            "error_y": {
             "color": "#2a3f5f"
            },
            "marker": {
             "line": {
              "color": "#E5ECF6",
              "width": 0.5
             }
            },
            "type": "bar"
           }
          ],
          "barpolar": [
           {
            "marker": {
             "line": {
              "color": "#E5ECF6",
              "width": 0.5
             }
            },
            "type": "barpolar"
           }
          ],
          "carpet": [
           {
            "aaxis": {
             "endlinecolor": "#2a3f5f",
             "gridcolor": "white",
             "linecolor": "white",
             "minorgridcolor": "white",
             "startlinecolor": "#2a3f5f"
            },
            "baxis": {
             "endlinecolor": "#2a3f5f",
             "gridcolor": "white",
             "linecolor": "white",
             "minorgridcolor": "white",
             "startlinecolor": "#2a3f5f"
            },
            "type": "carpet"
           }
          ],
          "choropleth": [
           {
            "colorbar": {
             "outlinewidth": 0,
             "ticks": ""
            },
            "type": "choropleth"
           }
          ],
          "contour": [
           {
            "colorbar": {
             "outlinewidth": 0,
             "ticks": ""
            },
            "colorscale": [
             [
              0,
              "#0d0887"
             ],
             [
              0.1111111111111111,
              "#46039f"
             ],
             [
              0.2222222222222222,
              "#7201a8"
             ],
             [
              0.3333333333333333,
              "#9c179e"
             ],
             [
              0.4444444444444444,
              "#bd3786"
             ],
             [
              0.5555555555555556,
              "#d8576b"
             ],
             [
              0.6666666666666666,
              "#ed7953"
             ],
             [
              0.7777777777777778,
              "#fb9f3a"
             ],
             [
              0.8888888888888888,
              "#fdca26"
             ],
             [
              1,
              "#f0f921"
             ]
            ],
            "type": "contour"
           }
          ],
          "contourcarpet": [
           {
            "colorbar": {
             "outlinewidth": 0,
             "ticks": ""
            },
            "type": "contourcarpet"
           }
          ],
          "heatmap": [
           {
            "colorbar": {
             "outlinewidth": 0,
             "ticks": ""
            },
            "colorscale": [
             [
              0,
              "#0d0887"
             ],
             [
              0.1111111111111111,
              "#46039f"
             ],
             [
              0.2222222222222222,
              "#7201a8"
             ],
             [
              0.3333333333333333,
              "#9c179e"
             ],
             [
              0.4444444444444444,
              "#bd3786"
             ],
             [
              0.5555555555555556,
              "#d8576b"
             ],
             [
              0.6666666666666666,
              "#ed7953"
             ],
             [
              0.7777777777777778,
              "#fb9f3a"
             ],
             [
              0.8888888888888888,
              "#fdca26"
             ],
             [
              1,
              "#f0f921"
             ]
            ],
            "type": "heatmap"
           }
          ],
          "heatmapgl": [
           {
            "colorbar": {
             "outlinewidth": 0,
             "ticks": ""
            },
            "colorscale": [
             [
              0,
              "#0d0887"
             ],
             [
              0.1111111111111111,
              "#46039f"
             ],
             [
              0.2222222222222222,
              "#7201a8"
             ],
             [
              0.3333333333333333,
              "#9c179e"
             ],
             [
              0.4444444444444444,
              "#bd3786"
             ],
             [
              0.5555555555555556,
              "#d8576b"
             ],
             [
              0.6666666666666666,
              "#ed7953"
             ],
             [
              0.7777777777777778,
              "#fb9f3a"
             ],
             [
              0.8888888888888888,
              "#fdca26"
             ],
             [
              1,
              "#f0f921"
             ]
            ],
            "type": "heatmapgl"
           }
          ],
          "histogram": [
           {
            "marker": {
             "colorbar": {
              "outlinewidth": 0,
              "ticks": ""
             }
            },
            "type": "histogram"
           }
          ],
          "histogram2d": [
           {
            "colorbar": {
             "outlinewidth": 0,
             "ticks": ""
            },
            "colorscale": [
             [
              0,
              "#0d0887"
             ],
             [
              0.1111111111111111,
              "#46039f"
             ],
             [
              0.2222222222222222,
              "#7201a8"
             ],
             [
              0.3333333333333333,
              "#9c179e"
             ],
             [
              0.4444444444444444,
              "#bd3786"
             ],
             [
              0.5555555555555556,
              "#d8576b"
             ],
             [
              0.6666666666666666,
              "#ed7953"
             ],
             [
              0.7777777777777778,
              "#fb9f3a"
             ],
             [
              0.8888888888888888,
              "#fdca26"
             ],
             [
              1,
              "#f0f921"
             ]
            ],
            "type": "histogram2d"
           }
          ],
          "histogram2dcontour": [
           {
            "colorbar": {
             "outlinewidth": 0,
             "ticks": ""
            },
            "colorscale": [
             [
              0,
              "#0d0887"
             ],
             [
              0.1111111111111111,
              "#46039f"
             ],
             [
              0.2222222222222222,
              "#7201a8"
             ],
             [
              0.3333333333333333,
              "#9c179e"
             ],
             [
              0.4444444444444444,
              "#bd3786"
             ],
             [
              0.5555555555555556,
              "#d8576b"
             ],
             [
              0.6666666666666666,
              "#ed7953"
             ],
             [
              0.7777777777777778,
              "#fb9f3a"
             ],
             [
              0.8888888888888888,
              "#fdca26"
             ],
             [
              1,
              "#f0f921"
             ]
            ],
            "type": "histogram2dcontour"
           }
          ],
          "mesh3d": [
           {
            "colorbar": {
             "outlinewidth": 0,
             "ticks": ""
            },
            "type": "mesh3d"
           }
          ],
          "parcoords": [
           {
            "line": {
             "colorbar": {
              "outlinewidth": 0,
              "ticks": ""
             }
            },
            "type": "parcoords"
           }
          ],
          "pie": [
           {
            "automargin": true,
            "type": "pie"
           }
          ],
          "scatter": [
           {
            "marker": {
             "colorbar": {
              "outlinewidth": 0,
              "ticks": ""
             }
            },
            "type": "scatter"
           }
          ],
          "scatter3d": [
           {
            "line": {
             "colorbar": {
              "outlinewidth": 0,
              "ticks": ""
             }
            },
            "marker": {
             "colorbar": {
              "outlinewidth": 0,
              "ticks": ""
             }
            },
            "type": "scatter3d"
           }
          ],
          "scattercarpet": [
           {
            "marker": {
             "colorbar": {
              "outlinewidth": 0,
              "ticks": ""
             }
            },
            "type": "scattercarpet"
           }
          ],
          "scattergeo": [
           {
            "marker": {
             "colorbar": {
              "outlinewidth": 0,
              "ticks": ""
             }
            },
            "type": "scattergeo"
           }
          ],
          "scattergl": [
           {
            "marker": {
             "colorbar": {
              "outlinewidth": 0,
              "ticks": ""
             }
            },
            "type": "scattergl"
           }
          ],
          "scattermapbox": [
           {
            "marker": {
             "colorbar": {
              "outlinewidth": 0,
              "ticks": ""
             }
            },
            "type": "scattermapbox"
           }
          ],
          "scatterpolar": [
           {
            "marker": {
             "colorbar": {
              "outlinewidth": 0,
              "ticks": ""
             }
            },
            "type": "scatterpolar"
           }
          ],
          "scatterpolargl": [
           {
            "marker": {
             "colorbar": {
              "outlinewidth": 0,
              "ticks": ""
             }
            },
            "type": "scatterpolargl"
           }
          ],
          "scatterternary": [
           {
            "marker": {
             "colorbar": {
              "outlinewidth": 0,
              "ticks": ""
             }
            },
            "type": "scatterternary"
           }
          ],
          "surface": [
           {
            "colorbar": {
             "outlinewidth": 0,
             "ticks": ""
            },
            "colorscale": [
             [
              0,
              "#0d0887"
             ],
             [
              0.1111111111111111,
              "#46039f"
             ],
             [
              0.2222222222222222,
              "#7201a8"
             ],
             [
              0.3333333333333333,
              "#9c179e"
             ],
             [
              0.4444444444444444,
              "#bd3786"
             ],
             [
              0.5555555555555556,
              "#d8576b"
             ],
             [
              0.6666666666666666,
              "#ed7953"
             ],
             [
              0.7777777777777778,
              "#fb9f3a"
             ],
             [
              0.8888888888888888,
              "#fdca26"
             ],
             [
              1,
              "#f0f921"
             ]
            ],
            "type": "surface"
           }
          ],
          "table": [
           {
            "cells": {
             "fill": {
              "color": "#EBF0F8"
             },
             "line": {
              "color": "white"
             }
            },
            "header": {
             "fill": {
              "color": "#C8D4E3"
             },
             "line": {
              "color": "white"
             }
            },
            "type": "table"
           }
          ]
         },
         "layout": {
          "annotationdefaults": {
           "arrowcolor": "#2a3f5f",
           "arrowhead": 0,
           "arrowwidth": 1
          },
          "autotypenumbers": "strict",
          "coloraxis": {
           "colorbar": {
            "outlinewidth": 0,
            "ticks": ""
           }
          },
          "colorscale": {
           "diverging": [
            [
             0,
             "#8e0152"
            ],
            [
             0.1,
             "#c51b7d"
            ],
            [
             0.2,
             "#de77ae"
            ],
            [
             0.3,
             "#f1b6da"
            ],
            [
             0.4,
             "#fde0ef"
            ],
            [
             0.5,
             "#f7f7f7"
            ],
            [
             0.6,
             "#e6f5d0"
            ],
            [
             0.7,
             "#b8e186"
            ],
            [
             0.8,
             "#7fbc41"
            ],
            [
             0.9,
             "#4d9221"
            ],
            [
             1,
             "#276419"
            ]
           ],
           "sequential": [
            [
             0,
             "#0d0887"
            ],
            [
             0.1111111111111111,
             "#46039f"
            ],
            [
             0.2222222222222222,
             "#7201a8"
            ],
            [
             0.3333333333333333,
             "#9c179e"
            ],
            [
             0.4444444444444444,
             "#bd3786"
            ],
            [
             0.5555555555555556,
             "#d8576b"
            ],
            [
             0.6666666666666666,
             "#ed7953"
            ],
            [
             0.7777777777777778,
             "#fb9f3a"
            ],
            [
             0.8888888888888888,
             "#fdca26"
            ],
            [
             1,
             "#f0f921"
            ]
           ],
           "sequentialminus": [
            [
             0,
             "#0d0887"
            ],
            [
             0.1111111111111111,
             "#46039f"
            ],
            [
             0.2222222222222222,
             "#7201a8"
            ],
            [
             0.3333333333333333,
             "#9c179e"
            ],
            [
             0.4444444444444444,
             "#bd3786"
            ],
            [
             0.5555555555555556,
             "#d8576b"
            ],
            [
             0.6666666666666666,
             "#ed7953"
            ],
            [
             0.7777777777777778,
             "#fb9f3a"
            ],
            [
             0.8888888888888888,
             "#fdca26"
            ],
            [
             1,
             "#f0f921"
            ]
           ]
          },
          "colorway": [
           "#636efa",
           "#EF553B",
           "#00cc96",
           "#ab63fa",
           "#FFA15A",
           "#19d3f3",
           "#FF6692",
           "#B6E880",
           "#FF97FF",
           "#FECB52"
          ],
          "font": {
           "color": "#2a3f5f"
          },
          "geo": {
           "bgcolor": "white",
           "lakecolor": "white",
           "landcolor": "#E5ECF6",
           "showlakes": true,
           "showland": true,
           "subunitcolor": "white"
          },
          "hoverlabel": {
           "align": "left"
          },
          "hovermode": "closest",
          "mapbox": {
           "style": "light"
          },
          "paper_bgcolor": "white",
          "plot_bgcolor": "#E5ECF6",
          "polar": {
           "angularaxis": {
            "gridcolor": "white",
            "linecolor": "white",
            "ticks": ""
           },
           "bgcolor": "#E5ECF6",
           "radialaxis": {
            "gridcolor": "white",
            "linecolor": "white",
            "ticks": ""
           }
          },
          "scene": {
           "xaxis": {
            "backgroundcolor": "#E5ECF6",
            "gridcolor": "white",
            "gridwidth": 2,
            "linecolor": "white",
            "showbackground": true,
            "ticks": "",
            "zerolinecolor": "white"
           },
           "yaxis": {
            "backgroundcolor": "#E5ECF6",
            "gridcolor": "white",
            "gridwidth": 2,
            "linecolor": "white",
            "showbackground": true,
            "ticks": "",
            "zerolinecolor": "white"
           },
           "zaxis": {
            "backgroundcolor": "#E5ECF6",
            "gridcolor": "white",
            "gridwidth": 2,
            "linecolor": "white",
            "showbackground": true,
            "ticks": "",
            "zerolinecolor": "white"
           }
          },
          "shapedefaults": {
           "line": {
            "color": "#2a3f5f"
           }
          },
          "ternary": {
           "aaxis": {
            "gridcolor": "white",
            "linecolor": "white",
            "ticks": ""
           },
           "baxis": {
            "gridcolor": "white",
            "linecolor": "white",
            "ticks": ""
           },
           "bgcolor": "#E5ECF6",
           "caxis": {
            "gridcolor": "white",
            "linecolor": "white",
            "ticks": ""
           }
          },
          "title": {
           "x": 0.05
          },
          "xaxis": {
           "automargin": true,
           "gridcolor": "white",
           "linecolor": "white",
           "ticks": "",
           "title": {
            "standoff": 15
           },
           "zerolinecolor": "white",
           "zerolinewidth": 2
          },
          "yaxis": {
           "automargin": true,
           "gridcolor": "white",
           "linecolor": "white",
           "ticks": "",
           "title": {
            "standoff": 15
           },
           "zerolinecolor": "white",
           "zerolinewidth": 2
          }
         }
        },
        "xaxis": {
         "anchor": "y",
         "domain": [
          0,
          1
         ],
         "title": {
          "text": "Gameweek"
         }
        },
        "yaxis": {
         "anchor": "x",
         "autorange": "reversed",
         "domain": [
          0,
          1
         ],
         "title": {
          "text": "League Position"
         }
        }
       }
      },
      "text/html": [
       "<div>                            <div id=\"a564d6b6-7561-4a42-a047-d1e736949d4f\" class=\"plotly-graph-div\" style=\"height:525px; width:100%;\"></div>            <script type=\"text/javascript\">                require([\"plotly\"], function(Plotly) {                    window.PLOTLYENV=window.PLOTLYENV || {};                                    if (document.getElementById(\"a564d6b6-7561-4a42-a047-d1e736949d4f\")) {                    Plotly.newPlot(                        \"a564d6b6-7561-4a42-a047-d1e736949d4f\",                        [{\"hovertemplate\": \"season=09/10<br>Gameweek=%{x}<br>League Position=%{y}<extra></extra>\", \"legendgroup\": \"09/10\", \"line\": {\"color\": \"#636efa\", \"dash\": \"solid\"}, \"mode\": \"lines\", \"name\": \"09/10\", \"orientation\": \"v\", \"showlegend\": true, \"type\": \"scatter\", \"x\": [1, 2, 3, 4, 5, 6, 7, 8, 9, 10, 11, 12, 13, 14, 15, 16, 17, 18, 19, 20, 21, 22, 23, 24, 25, 26, 27, 28, 29, 30, 31, 32, 33, 34, 35, 36, 37, 38], \"xaxis\": \"x\", \"y\": [9, 10, 3, 3, 2, 2, 1, 1, 1, 2, 2, 3, 2, 2, 2, 2, 2, 2, 2, 2, 2, 2, 1, 2, 1, 2, 2, 2, 1, 1, 1, 1, 2, 2, 2, 1, 2, 2], \"yaxis\": \"y\"}, {\"hovertemplate\": \"season=10/11<br>Gameweek=%{x}<br>League Position=%{y}<extra></extra>\", \"legendgroup\": \"10/11\", \"line\": {\"color\": \"#EF553B\", \"dash\": \"solid\"}, \"mode\": \"lines\", \"name\": \"10/11\", \"orientation\": \"v\", \"showlegend\": true, \"type\": \"scatter\", \"x\": [1, 2, 3, 4, 5, 6, 7, 8, 9, 10, 11, 12, 13, 14, 15, 16, 17, 18, 19, 20, 21, 22, 23, 24, 25, 26, 27, 28, 29, 30, 31, 32, 33, 34, 35, 36, 37, 38], \"xaxis\": \"x\", \"y\": [4, 3, 3, 3, 3, 2, 3, 3, 3, 3, 2, 2, 3, 2, 1, 1, 1, 1, 1, 1, 1, 1, 1, 1, 1, 1, 1, 1, 1, 1, 1, 1, 1, 1, 1, 1, 1, 1], \"yaxis\": \"y\"}, {\"hovertemplate\": \"season=11/12<br>Gameweek=%{x}<br>League Position=%{y}<extra></extra>\", \"legendgroup\": \"11/12\", \"line\": {\"color\": \"#00cc96\", \"dash\": \"solid\"}, \"mode\": \"lines\", \"name\": \"11/12\", \"orientation\": \"v\", \"showlegend\": true, \"type\": \"scatter\", \"x\": [1, 2, 3, 4, 5, 6, 7, 8, 9, 10, 11, 12, 13, 14, 15, 16, 17, 18, 19, 20, 21, 22, 23, 24, 25, 26, 27, 28, 29, 30, 31, 32, 33, 34, 35, 36, 37, 38], \"xaxis\": \"x\", \"y\": [3, 2, 1, 1, 1, 1, 1, 2, 2, 2, 2, 2, 2, 2, 2, 2, 2, 2, 2, 2, 2, 2, 2, 2, 1, 2, 2, 1, 1, 1, 1, 1, 1, 1, 1, 2, 2, 2], \"yaxis\": \"y\"}, {\"hovertemplate\": \"season=12/13<br>Gameweek=%{x}<br>League Position=%{y}<extra></extra>\", \"legendgroup\": \"12/13\", \"line\": {\"color\": \"#ab63fa\", \"dash\": \"solid\"}, \"mode\": \"lines\", \"name\": \"12/13\", \"orientation\": \"v\", \"showlegend\": true, \"type\": \"scatter\", \"x\": [1, 2, 3, 4, 5, 6, 7, 8, 9, 10, 11, 12, 13, 14, 15, 16, 17, 18, 19, 20, 21, 22, 23, 24, 25, 26, 27, 28, 29, 30, 31, 32, 33, 34, 35, 36, 37, 38], \"xaxis\": \"x\", \"y\": [16, 7, 5, 2, 2, 3, 2, 2, 2, 1, 1, 2, 1, 1, 1, 1, 1, 1, 1, 1, 1, 1, 1, 1, 1, 1, 1, 1, 1, 1, 1, 1, 1, 1, 1, 1, 1, 1], \"yaxis\": \"y\"}, {\"hovertemplate\": \"season=13/14<br>Gameweek=%{x}<br>League Position=%{y}<extra></extra>\", \"legendgroup\": \"13/14\", \"line\": {\"color\": \"#FFA15A\", \"dash\": \"solid\"}, \"mode\": \"lines\", \"name\": \"13/14\", \"orientation\": \"v\", \"showlegend\": true, \"type\": \"scatter\", \"x\": [1, 2, 3, 4, 5, 6, 7, 8, 9, 10, 11, 12, 13, 14, 15, 16, 17, 18, 19, 20, 21, 22, 23, 24, 25, 26, 27, 28, 29, 30, 31, 32, 33, 34, 35, 36, 37, 38], \"xaxis\": \"x\", \"y\": [1, 4, 7, 5, 8, 12, 9, 8, 8, 8, 5, 6, 8, 9, 9, 8, 7, 7, 6, 7, 7, 7, 7, 7, 7, 7, 7, 6, 7, 7, 7, 7, 6, 7, 7, 7, 7, 7], \"yaxis\": \"y\"}, {\"hovertemplate\": \"season=14/15<br>Gameweek=%{x}<br>League Position=%{y}<extra></extra>\", \"legendgroup\": \"14/15\", \"line\": {\"color\": \"#19d3f3\", \"dash\": \"solid\"}, \"mode\": \"lines\", \"name\": \"14/15\", \"orientation\": \"v\", \"showlegend\": true, \"type\": \"scatter\", \"x\": [1, 2, 3, 4, 5, 6, 7, 8, 9, 10, 11, 12, 13, 14, 15, 16, 17, 18, 19, 20, 21, 22, 23, 24, 25, 26, 27, 28, 29, 30, 31, 32, 33, 34, 35, 36, 37, 38], \"xaxis\": \"x\", \"y\": [16, 13, 14, 9, 12, 7, 4, 6, 8, 9, 6, 4, 4, 4, 3, 3, 3, 3, 3, 3, 4, 4, 3, 4, 3, 4, 3, 4, 4, 4, 3, 3, 3, 4, 4, 4, 4, 4], \"yaxis\": \"y\"}, {\"hovertemplate\": \"season=15/16<br>Gameweek=%{x}<br>League Position=%{y}<extra></extra>\", \"legendgroup\": \"15/16\", \"line\": {\"color\": \"#FF6692\", \"dash\": \"solid\"}, \"mode\": \"lines\", \"name\": \"15/16\", \"orientation\": \"v\", \"showlegend\": true, \"type\": \"scatter\", \"x\": [1, 2, 3, 4, 5, 6, 7, 8, 9, 10, 11, 12, 13, 14, 15, 16, 17, 18, 19, 20, 21, 22, 23, 24, 25, 26, 27, 28, 29, 30, 31, 32, 33, 34, 35, 36, 37, 38], \"xaxis\": \"x\", \"y\": [4, 1, 2, 5, 2, 2, 1, 3, 2, 4, 4, 4, 2, 3, 4, 4, 5, 6, 6, 5, 6, 5, 5, 5, 5, 5, 5, 5, 6, 6, 5, 5, 5, 5, 5, 5, 5, 5], \"yaxis\": \"y\"}, {\"hovertemplate\": \"season=16/17<br>Gameweek=%{x}<br>League Position=%{y}<extra></extra>\", \"legendgroup\": \"16/17\", \"line\": {\"color\": \"#B6E880\", \"dash\": \"solid\"}, \"mode\": \"lines\", \"name\": \"16/17\", \"orientation\": \"v\", \"showlegend\": true, \"type\": \"scatter\", \"x\": [1, 2, 3, 4, 5, 6, 7, 8, 9, 10, 11, 12, 13, 14, 15, 16, 17, 18, 19, 20, 21, 22, 23, 24, 25, 26, 27, 28, 29, 30, 31, 32, 33, 34, 35, 36, 37, 38], \"xaxis\": \"x\", \"y\": [1, 1, 2, 3, 7, 6, 6, 7, 7, 8, 6, 6, 6, 6, 6, 6, 6, 6, 6, 6, 6, 6, 6, 6, 6, 6, 5, 5, 6, 5, 5, 5, 5, 5, 5, 6, 6, 6], \"yaxis\": \"y\"}, {\"hovertemplate\": \"season=17/18<br>Gameweek=%{x}<br>League Position=%{y}<extra></extra>\", \"legendgroup\": \"17/18\", \"line\": {\"color\": \"#FF97FF\", \"dash\": \"solid\"}, \"mode\": \"lines\", \"name\": \"17/18\", \"orientation\": \"v\", \"showlegend\": true, \"type\": \"scatter\", \"x\": [1, 2, 3, 4, 5, 6, 7, 8, 9, 10, 11, 12, 13, 14, 15, 16, 17, 18, 19, 20, 21, 22, 23, 24, 25, 26, 27, 28, 29, 30, 31, 32, 33, 34, 35, 36, 37, 38], \"xaxis\": \"x\", \"y\": [1, 1, 1, 1, 2, 2, 2, 2, 2, 2, 2, 2, 2, 2, 2, 2, 2, 2, 2, 2, 3, 2, 2, 2, 2, 2, 2, 2, 2, 2, 2, 2, 2, 2, 2, 2, 2, 2], \"yaxis\": \"y\"}, {\"hovertemplate\": \"season=18/19<br>Gameweek=%{x}<br>League Position=%{y}<extra></extra>\", \"legendgroup\": \"18/19\", \"line\": {\"color\": \"#FECB52\", \"dash\": \"solid\"}, \"mode\": \"lines\", \"name\": \"18/19\", \"orientation\": \"v\", \"showlegend\": true, \"type\": \"scatter\", \"x\": [1, 2, 3, 4, 5, 6, 7, 8, 9, 10, 11, 12, 13, 14, 15, 16, 17, 18, 19, 20, 21, 22, 23, 24, 25, 26, 27, 28, 29, 30, 31, 32, 33, 34, 35, 36, 37, 38], \"xaxis\": \"x\", \"y\": [7, 9, 13, 10, 8, 7, 10, 8, 10, 8, 7, 8, 7, 7, 8, 6, 6, 6, 6, 6, 6, 6, 6, 6, 5, 4, 5, 5, 4, 5, 5, 6, 6, 6, 6, 6, 6, 6], \"yaxis\": \"y\"}, {\"hovertemplate\": \"season=19/20<br>Gameweek=%{x}<br>League Position=%{y}<extra></extra>\", \"legendgroup\": \"19/20\", \"line\": {\"color\": \"#636efa\", \"dash\": \"solid\"}, \"mode\": \"lines\", \"name\": \"19/20\", \"orientation\": \"v\", \"showlegend\": true, \"type\": \"scatter\", \"x\": [1, 2, 3, 4, 5, 6, 7, 8, 9, 10, 11, 12, 13, 14, 15, 16, 17, 18, 19, 20, 21, 22, 23, 24, 25, 26, 27, 28, 29, 30, 31, 32, 33, 34, 35, 36, 37, 38], \"xaxis\": \"x\", \"y\": [2, 4, 5, 7, 4, 8, 10, 12, 14, 7, 10, 7, 9, 9, 6, 5, 6, 8, 8, 5, 5, 5, 5, 5, 7, 7, 5, 5, 5, 5, 5, 5, 5, 5, 5, 5, 3, 3], \"yaxis\": \"y\"}],                        {\"legend\": {\"title\": {\"text\": \"season\"}, \"tracegroupgap\": 0}, \"margin\": {\"t\": 60}, \"template\": {\"data\": {\"bar\": [{\"error_x\": {\"color\": \"#2a3f5f\"}, \"error_y\": {\"color\": \"#2a3f5f\"}, \"marker\": {\"line\": {\"color\": \"#E5ECF6\", \"width\": 0.5}}, \"type\": \"bar\"}], \"barpolar\": [{\"marker\": {\"line\": {\"color\": \"#E5ECF6\", \"width\": 0.5}}, \"type\": \"barpolar\"}], \"carpet\": [{\"aaxis\": {\"endlinecolor\": \"#2a3f5f\", \"gridcolor\": \"white\", \"linecolor\": \"white\", \"minorgridcolor\": \"white\", \"startlinecolor\": \"#2a3f5f\"}, \"baxis\": {\"endlinecolor\": \"#2a3f5f\", \"gridcolor\": \"white\", \"linecolor\": \"white\", \"minorgridcolor\": \"white\", \"startlinecolor\": \"#2a3f5f\"}, \"type\": \"carpet\"}], \"choropleth\": [{\"colorbar\": {\"outlinewidth\": 0, \"ticks\": \"\"}, \"type\": \"choropleth\"}], \"contour\": [{\"colorbar\": {\"outlinewidth\": 0, \"ticks\": \"\"}, \"colorscale\": [[0.0, \"#0d0887\"], [0.1111111111111111, \"#46039f\"], [0.2222222222222222, \"#7201a8\"], [0.3333333333333333, \"#9c179e\"], [0.4444444444444444, \"#bd3786\"], [0.5555555555555556, \"#d8576b\"], [0.6666666666666666, \"#ed7953\"], [0.7777777777777778, \"#fb9f3a\"], [0.8888888888888888, \"#fdca26\"], [1.0, \"#f0f921\"]], \"type\": \"contour\"}], \"contourcarpet\": [{\"colorbar\": {\"outlinewidth\": 0, \"ticks\": \"\"}, \"type\": \"contourcarpet\"}], \"heatmap\": [{\"colorbar\": {\"outlinewidth\": 0, \"ticks\": \"\"}, \"colorscale\": [[0.0, \"#0d0887\"], [0.1111111111111111, \"#46039f\"], [0.2222222222222222, \"#7201a8\"], [0.3333333333333333, \"#9c179e\"], [0.4444444444444444, \"#bd3786\"], [0.5555555555555556, \"#d8576b\"], [0.6666666666666666, \"#ed7953\"], [0.7777777777777778, \"#fb9f3a\"], [0.8888888888888888, \"#fdca26\"], [1.0, \"#f0f921\"]], \"type\": \"heatmap\"}], \"heatmapgl\": [{\"colorbar\": {\"outlinewidth\": 0, \"ticks\": \"\"}, \"colorscale\": [[0.0, \"#0d0887\"], [0.1111111111111111, \"#46039f\"], [0.2222222222222222, \"#7201a8\"], [0.3333333333333333, \"#9c179e\"], [0.4444444444444444, \"#bd3786\"], [0.5555555555555556, \"#d8576b\"], [0.6666666666666666, \"#ed7953\"], [0.7777777777777778, \"#fb9f3a\"], [0.8888888888888888, \"#fdca26\"], [1.0, \"#f0f921\"]], \"type\": \"heatmapgl\"}], \"histogram\": [{\"marker\": {\"colorbar\": {\"outlinewidth\": 0, \"ticks\": \"\"}}, \"type\": \"histogram\"}], \"histogram2d\": [{\"colorbar\": {\"outlinewidth\": 0, \"ticks\": \"\"}, \"colorscale\": [[0.0, \"#0d0887\"], [0.1111111111111111, \"#46039f\"], [0.2222222222222222, \"#7201a8\"], [0.3333333333333333, \"#9c179e\"], [0.4444444444444444, \"#bd3786\"], [0.5555555555555556, \"#d8576b\"], [0.6666666666666666, \"#ed7953\"], [0.7777777777777778, \"#fb9f3a\"], [0.8888888888888888, \"#fdca26\"], [1.0, \"#f0f921\"]], \"type\": \"histogram2d\"}], \"histogram2dcontour\": [{\"colorbar\": {\"outlinewidth\": 0, \"ticks\": \"\"}, \"colorscale\": [[0.0, \"#0d0887\"], [0.1111111111111111, \"#46039f\"], [0.2222222222222222, \"#7201a8\"], [0.3333333333333333, \"#9c179e\"], [0.4444444444444444, \"#bd3786\"], [0.5555555555555556, \"#d8576b\"], [0.6666666666666666, \"#ed7953\"], [0.7777777777777778, \"#fb9f3a\"], [0.8888888888888888, \"#fdca26\"], [1.0, \"#f0f921\"]], \"type\": \"histogram2dcontour\"}], \"mesh3d\": [{\"colorbar\": {\"outlinewidth\": 0, \"ticks\": \"\"}, \"type\": \"mesh3d\"}], \"parcoords\": [{\"line\": {\"colorbar\": {\"outlinewidth\": 0, \"ticks\": \"\"}}, \"type\": \"parcoords\"}], \"pie\": [{\"automargin\": true, \"type\": \"pie\"}], \"scatter\": [{\"marker\": {\"colorbar\": {\"outlinewidth\": 0, \"ticks\": \"\"}}, \"type\": \"scatter\"}], \"scatter3d\": [{\"line\": {\"colorbar\": {\"outlinewidth\": 0, \"ticks\": \"\"}}, \"marker\": {\"colorbar\": {\"outlinewidth\": 0, \"ticks\": \"\"}}, \"type\": \"scatter3d\"}], \"scattercarpet\": [{\"marker\": {\"colorbar\": {\"outlinewidth\": 0, \"ticks\": \"\"}}, \"type\": \"scattercarpet\"}], \"scattergeo\": [{\"marker\": {\"colorbar\": {\"outlinewidth\": 0, \"ticks\": \"\"}}, \"type\": \"scattergeo\"}], \"scattergl\": [{\"marker\": {\"colorbar\": {\"outlinewidth\": 0, \"ticks\": \"\"}}, \"type\": \"scattergl\"}], \"scattermapbox\": [{\"marker\": {\"colorbar\": {\"outlinewidth\": 0, \"ticks\": \"\"}}, \"type\": \"scattermapbox\"}], \"scatterpolar\": [{\"marker\": {\"colorbar\": {\"outlinewidth\": 0, \"ticks\": \"\"}}, \"type\": \"scatterpolar\"}], \"scatterpolargl\": [{\"marker\": {\"colorbar\": {\"outlinewidth\": 0, \"ticks\": \"\"}}, \"type\": \"scatterpolargl\"}], \"scatterternary\": [{\"marker\": {\"colorbar\": {\"outlinewidth\": 0, \"ticks\": \"\"}}, \"type\": \"scatterternary\"}], \"surface\": [{\"colorbar\": {\"outlinewidth\": 0, \"ticks\": \"\"}, \"colorscale\": [[0.0, \"#0d0887\"], [0.1111111111111111, \"#46039f\"], [0.2222222222222222, \"#7201a8\"], [0.3333333333333333, \"#9c179e\"], [0.4444444444444444, \"#bd3786\"], [0.5555555555555556, \"#d8576b\"], [0.6666666666666666, \"#ed7953\"], [0.7777777777777778, \"#fb9f3a\"], [0.8888888888888888, \"#fdca26\"], [1.0, \"#f0f921\"]], \"type\": \"surface\"}], \"table\": [{\"cells\": {\"fill\": {\"color\": \"#EBF0F8\"}, \"line\": {\"color\": \"white\"}}, \"header\": {\"fill\": {\"color\": \"#C8D4E3\"}, \"line\": {\"color\": \"white\"}}, \"type\": \"table\"}]}, \"layout\": {\"annotationdefaults\": {\"arrowcolor\": \"#2a3f5f\", \"arrowhead\": 0, \"arrowwidth\": 1}, \"autotypenumbers\": \"strict\", \"coloraxis\": {\"colorbar\": {\"outlinewidth\": 0, \"ticks\": \"\"}}, \"colorscale\": {\"diverging\": [[0, \"#8e0152\"], [0.1, \"#c51b7d\"], [0.2, \"#de77ae\"], [0.3, \"#f1b6da\"], [0.4, \"#fde0ef\"], [0.5, \"#f7f7f7\"], [0.6, \"#e6f5d0\"], [0.7, \"#b8e186\"], [0.8, \"#7fbc41\"], [0.9, \"#4d9221\"], [1, \"#276419\"]], \"sequential\": [[0.0, \"#0d0887\"], [0.1111111111111111, \"#46039f\"], [0.2222222222222222, \"#7201a8\"], [0.3333333333333333, \"#9c179e\"], [0.4444444444444444, \"#bd3786\"], [0.5555555555555556, \"#d8576b\"], [0.6666666666666666, \"#ed7953\"], [0.7777777777777778, \"#fb9f3a\"], [0.8888888888888888, \"#fdca26\"], [1.0, \"#f0f921\"]], \"sequentialminus\": [[0.0, \"#0d0887\"], [0.1111111111111111, \"#46039f\"], [0.2222222222222222, \"#7201a8\"], [0.3333333333333333, \"#9c179e\"], [0.4444444444444444, \"#bd3786\"], [0.5555555555555556, \"#d8576b\"], [0.6666666666666666, \"#ed7953\"], [0.7777777777777778, \"#fb9f3a\"], [0.8888888888888888, \"#fdca26\"], [1.0, \"#f0f921\"]]}, \"colorway\": [\"#636efa\", \"#EF553B\", \"#00cc96\", \"#ab63fa\", \"#FFA15A\", \"#19d3f3\", \"#FF6692\", \"#B6E880\", \"#FF97FF\", \"#FECB52\"], \"font\": {\"color\": \"#2a3f5f\"}, \"geo\": {\"bgcolor\": \"white\", \"lakecolor\": \"white\", \"landcolor\": \"#E5ECF6\", \"showlakes\": true, \"showland\": true, \"subunitcolor\": \"white\"}, \"hoverlabel\": {\"align\": \"left\"}, \"hovermode\": \"closest\", \"mapbox\": {\"style\": \"light\"}, \"paper_bgcolor\": \"white\", \"plot_bgcolor\": \"#E5ECF6\", \"polar\": {\"angularaxis\": {\"gridcolor\": \"white\", \"linecolor\": \"white\", \"ticks\": \"\"}, \"bgcolor\": \"#E5ECF6\", \"radialaxis\": {\"gridcolor\": \"white\", \"linecolor\": \"white\", \"ticks\": \"\"}}, \"scene\": {\"xaxis\": {\"backgroundcolor\": \"#E5ECF6\", \"gridcolor\": \"white\", \"gridwidth\": 2, \"linecolor\": \"white\", \"showbackground\": true, \"ticks\": \"\", \"zerolinecolor\": \"white\"}, \"yaxis\": {\"backgroundcolor\": \"#E5ECF6\", \"gridcolor\": \"white\", \"gridwidth\": 2, \"linecolor\": \"white\", \"showbackground\": true, \"ticks\": \"\", \"zerolinecolor\": \"white\"}, \"zaxis\": {\"backgroundcolor\": \"#E5ECF6\", \"gridcolor\": \"white\", \"gridwidth\": 2, \"linecolor\": \"white\", \"showbackground\": true, \"ticks\": \"\", \"zerolinecolor\": \"white\"}}, \"shapedefaults\": {\"line\": {\"color\": \"#2a3f5f\"}}, \"ternary\": {\"aaxis\": {\"gridcolor\": \"white\", \"linecolor\": \"white\", \"ticks\": \"\"}, \"baxis\": {\"gridcolor\": \"white\", \"linecolor\": \"white\", \"ticks\": \"\"}, \"bgcolor\": \"#E5ECF6\", \"caxis\": {\"gridcolor\": \"white\", \"linecolor\": \"white\", \"ticks\": \"\"}}, \"title\": {\"x\": 0.05}, \"xaxis\": {\"automargin\": true, \"gridcolor\": \"white\", \"linecolor\": \"white\", \"ticks\": \"\", \"title\": {\"standoff\": 15}, \"zerolinecolor\": \"white\", \"zerolinewidth\": 2}, \"yaxis\": {\"automargin\": true, \"gridcolor\": \"white\", \"linecolor\": \"white\", \"ticks\": \"\", \"title\": {\"standoff\": 15}, \"zerolinecolor\": \"white\", \"zerolinewidth\": 2}}}, \"xaxis\": {\"anchor\": \"y\", \"domain\": [0.0, 1.0], \"title\": {\"text\": \"Gameweek\"}}, \"yaxis\": {\"anchor\": \"x\", \"autorange\": \"reversed\", \"domain\": [0.0, 1.0], \"title\": {\"text\": \"League Position\"}}},                        {\"responsive\": true}                    ).then(function(){\n",
       "                            \n",
       "var gd = document.getElementById('a564d6b6-7561-4a42-a047-d1e736949d4f');\n",
       "var x = new MutationObserver(function (mutations, observer) {{\n",
       "        var display = window.getComputedStyle(gd).display;\n",
       "        if (!display || display === 'none') {{\n",
       "            console.log([gd, 'removed!']);\n",
       "            Plotly.purge(gd);\n",
       "            observer.disconnect();\n",
       "        }}\n",
       "}});\n",
       "\n",
       "// Listen for the removal of the full notebook cells\n",
       "var notebookContainer = gd.closest('#notebook-container');\n",
       "if (notebookContainer) {{\n",
       "    x.observe(notebookContainer, {childList: true});\n",
       "}}\n",
       "\n",
       "// Listen for the clearing of the current output cell\n",
       "var outputEl = gd.closest('.output');\n",
       "if (outputEl) {{\n",
       "    x.observe(outputEl, {childList: true});\n",
       "}}\n",
       "\n",
       "                        })                };                });            </script>        </div>"
      ]
     },
     "metadata": {},
     "output_type": "display_data"
    }
   ],
   "source": [
    "pd.options.plotting.backend = \"plotly\"\n",
    "\n",
    "fig = df2.plot(labels = dict(index=\"Gameweek\",value=\"League Position\",variable=\"season\",line_shape=\"hv\"))\n",
    "fig['layout']['yaxis']['autorange'] = \"reversed\"\n",
    "\n",
    "fig.show(include_plotlyjs=False,output_type='div')"
   ]
  },
  {
   "cell_type": "code",
   "execution_count": 37,
   "metadata": {},
   "outputs": [
    {
     "data": {
      "application/vnd.plotly.v1+json": {
       "config": {
        "plotlyServerURL": "https://plot.ly"
       },
       "data": [
        {
         "mode": "lines+markers",
         "name": "Avg Position",
         "type": "scatter",
         "x": [
          "09/10",
          "10/11",
          "11/12",
          "12/13",
          "13/14",
          "14/15",
          "15/16",
          "16/17",
          "17/18",
          "18/19",
          "19/20"
         ],
         "y": [
          2.210526315789474,
          1.6578947368421053,
          1.6578947368421053,
          1.868421052631579,
          7,
          5.2631578947368425,
          4.2631578947368425,
          5.473684210526316,
          1.9210526315789473,
          6.7368421052631575,
          6.2105263157894735
         ]
        },
        {
         "mode": "lines+markers",
         "name": "Result Position",
         "type": "scatter",
         "x": [
          "09/10",
          "10/11",
          "11/12",
          "12/13",
          "13/14",
          "14/15",
          "15/16",
          "16/17",
          "17/18",
          "18/19",
          "19/20"
         ],
         "y": [
          2,
          1,
          2,
          1,
          7,
          4,
          5,
          6,
          2,
          6,
          3
         ]
        }
       ],
       "layout": {
        "template": {
         "data": {
          "bar": [
           {
            "error_x": {
             "color": "#2a3f5f"
            },
            "error_y": {
             "color": "#2a3f5f"
            },
            "marker": {
             "line": {
              "color": "#E5ECF6",
              "width": 0.5
             }
            },
            "type": "bar"
           }
          ],
          "barpolar": [
           {
            "marker": {
             "line": {
              "color": "#E5ECF6",
              "width": 0.5
             }
            },
            "type": "barpolar"
           }
          ],
          "carpet": [
           {
            "aaxis": {
             "endlinecolor": "#2a3f5f",
             "gridcolor": "white",
             "linecolor": "white",
             "minorgridcolor": "white",
             "startlinecolor": "#2a3f5f"
            },
            "baxis": {
             "endlinecolor": "#2a3f5f",
             "gridcolor": "white",
             "linecolor": "white",
             "minorgridcolor": "white",
             "startlinecolor": "#2a3f5f"
            },
            "type": "carpet"
           }
          ],
          "choropleth": [
           {
            "colorbar": {
             "outlinewidth": 0,
             "ticks": ""
            },
            "type": "choropleth"
           }
          ],
          "contour": [
           {
            "colorbar": {
             "outlinewidth": 0,
             "ticks": ""
            },
            "colorscale": [
             [
              0,
              "#0d0887"
             ],
             [
              0.1111111111111111,
              "#46039f"
             ],
             [
              0.2222222222222222,
              "#7201a8"
             ],
             [
              0.3333333333333333,
              "#9c179e"
             ],
             [
              0.4444444444444444,
              "#bd3786"
             ],
             [
              0.5555555555555556,
              "#d8576b"
             ],
             [
              0.6666666666666666,
              "#ed7953"
             ],
             [
              0.7777777777777778,
              "#fb9f3a"
             ],
             [
              0.8888888888888888,
              "#fdca26"
             ],
             [
              1,
              "#f0f921"
             ]
            ],
            "type": "contour"
           }
          ],
          "contourcarpet": [
           {
            "colorbar": {
             "outlinewidth": 0,
             "ticks": ""
            },
            "type": "contourcarpet"
           }
          ],
          "heatmap": [
           {
            "colorbar": {
             "outlinewidth": 0,
             "ticks": ""
            },
            "colorscale": [
             [
              0,
              "#0d0887"
             ],
             [
              0.1111111111111111,
              "#46039f"
             ],
             [
              0.2222222222222222,
              "#7201a8"
             ],
             [
              0.3333333333333333,
              "#9c179e"
             ],
             [
              0.4444444444444444,
              "#bd3786"
             ],
             [
              0.5555555555555556,
              "#d8576b"
             ],
             [
              0.6666666666666666,
              "#ed7953"
             ],
             [
              0.7777777777777778,
              "#fb9f3a"
             ],
             [
              0.8888888888888888,
              "#fdca26"
             ],
             [
              1,
              "#f0f921"
             ]
            ],
            "type": "heatmap"
           }
          ],
          "heatmapgl": [
           {
            "colorbar": {
             "outlinewidth": 0,
             "ticks": ""
            },
            "colorscale": [
             [
              0,
              "#0d0887"
             ],
             [
              0.1111111111111111,
              "#46039f"
             ],
             [
              0.2222222222222222,
              "#7201a8"
             ],
             [
              0.3333333333333333,
              "#9c179e"
             ],
             [
              0.4444444444444444,
              "#bd3786"
             ],
             [
              0.5555555555555556,
              "#d8576b"
             ],
             [
              0.6666666666666666,
              "#ed7953"
             ],
             [
              0.7777777777777778,
              "#fb9f3a"
             ],
             [
              0.8888888888888888,
              "#fdca26"
             ],
             [
              1,
              "#f0f921"
             ]
            ],
            "type": "heatmapgl"
           }
          ],
          "histogram": [
           {
            "marker": {
             "colorbar": {
              "outlinewidth": 0,
              "ticks": ""
             }
            },
            "type": "histogram"
           }
          ],
          "histogram2d": [
           {
            "colorbar": {
             "outlinewidth": 0,
             "ticks": ""
            },
            "colorscale": [
             [
              0,
              "#0d0887"
             ],
             [
              0.1111111111111111,
              "#46039f"
             ],
             [
              0.2222222222222222,
              "#7201a8"
             ],
             [
              0.3333333333333333,
              "#9c179e"
             ],
             [
              0.4444444444444444,
              "#bd3786"
             ],
             [
              0.5555555555555556,
              "#d8576b"
             ],
             [
              0.6666666666666666,
              "#ed7953"
             ],
             [
              0.7777777777777778,
              "#fb9f3a"
             ],
             [
              0.8888888888888888,
              "#fdca26"
             ],
             [
              1,
              "#f0f921"
             ]
            ],
            "type": "histogram2d"
           }
          ],
          "histogram2dcontour": [
           {
            "colorbar": {
             "outlinewidth": 0,
             "ticks": ""
            },
            "colorscale": [
             [
              0,
              "#0d0887"
             ],
             [
              0.1111111111111111,
              "#46039f"
             ],
             [
              0.2222222222222222,
              "#7201a8"
             ],
             [
              0.3333333333333333,
              "#9c179e"
             ],
             [
              0.4444444444444444,
              "#bd3786"
             ],
             [
              0.5555555555555556,
              "#d8576b"
             ],
             [
              0.6666666666666666,
              "#ed7953"
             ],
             [
              0.7777777777777778,
              "#fb9f3a"
             ],
             [
              0.8888888888888888,
              "#fdca26"
             ],
             [
              1,
              "#f0f921"
             ]
            ],
            "type": "histogram2dcontour"
           }
          ],
          "mesh3d": [
           {
            "colorbar": {
             "outlinewidth": 0,
             "ticks": ""
            },
            "type": "mesh3d"
           }
          ],
          "parcoords": [
           {
            "line": {
             "colorbar": {
              "outlinewidth": 0,
              "ticks": ""
             }
            },
            "type": "parcoords"
           }
          ],
          "pie": [
           {
            "automargin": true,
            "type": "pie"
           }
          ],
          "scatter": [
           {
            "marker": {
             "colorbar": {
              "outlinewidth": 0,
              "ticks": ""
             }
            },
            "type": "scatter"
           }
          ],
          "scatter3d": [
           {
            "line": {
             "colorbar": {
              "outlinewidth": 0,
              "ticks": ""
             }
            },
            "marker": {
             "colorbar": {
              "outlinewidth": 0,
              "ticks": ""
             }
            },
            "type": "scatter3d"
           }
          ],
          "scattercarpet": [
           {
            "marker": {
             "colorbar": {
              "outlinewidth": 0,
              "ticks": ""
             }
            },
            "type": "scattercarpet"
           }
          ],
          "scattergeo": [
           {
            "marker": {
             "colorbar": {
              "outlinewidth": 0,
              "ticks": ""
             }
            },
            "type": "scattergeo"
           }
          ],
          "scattergl": [
           {
            "marker": {
             "colorbar": {
              "outlinewidth": 0,
              "ticks": ""
             }
            },
            "type": "scattergl"
           }
          ],
          "scattermapbox": [
           {
            "marker": {
             "colorbar": {
              "outlinewidth": 0,
              "ticks": ""
             }
            },
            "type": "scattermapbox"
           }
          ],
          "scatterpolar": [
           {
            "marker": {
             "colorbar": {
              "outlinewidth": 0,
              "ticks": ""
             }
            },
            "type": "scatterpolar"
           }
          ],
          "scatterpolargl": [
           {
            "marker": {
             "colorbar": {
              "outlinewidth": 0,
              "ticks": ""
             }
            },
            "type": "scatterpolargl"
           }
          ],
          "scatterternary": [
           {
            "marker": {
             "colorbar": {
              "outlinewidth": 0,
              "ticks": ""
             }
            },
            "type": "scatterternary"
           }
          ],
          "surface": [
           {
            "colorbar": {
             "outlinewidth": 0,
             "ticks": ""
            },
            "colorscale": [
             [
              0,
              "#0d0887"
             ],
             [
              0.1111111111111111,
              "#46039f"
             ],
             [
              0.2222222222222222,
              "#7201a8"
             ],
             [
              0.3333333333333333,
              "#9c179e"
             ],
             [
              0.4444444444444444,
              "#bd3786"
             ],
             [
              0.5555555555555556,
              "#d8576b"
             ],
             [
              0.6666666666666666,
              "#ed7953"
             ],
             [
              0.7777777777777778,
              "#fb9f3a"
             ],
             [
              0.8888888888888888,
              "#fdca26"
             ],
             [
              1,
              "#f0f921"
             ]
            ],
            "type": "surface"
           }
          ],
          "table": [
           {
            "cells": {
             "fill": {
              "color": "#EBF0F8"
             },
             "line": {
              "color": "white"
             }
            },
            "header": {
             "fill": {
              "color": "#C8D4E3"
             },
             "line": {
              "color": "white"
             }
            },
            "type": "table"
           }
          ]
         },
         "layout": {
          "annotationdefaults": {
           "arrowcolor": "#2a3f5f",
           "arrowhead": 0,
           "arrowwidth": 1
          },
          "autotypenumbers": "strict",
          "coloraxis": {
           "colorbar": {
            "outlinewidth": 0,
            "ticks": ""
           }
          },
          "colorscale": {
           "diverging": [
            [
             0,
             "#8e0152"
            ],
            [
             0.1,
             "#c51b7d"
            ],
            [
             0.2,
             "#de77ae"
            ],
            [
             0.3,
             "#f1b6da"
            ],
            [
             0.4,
             "#fde0ef"
            ],
            [
             0.5,
             "#f7f7f7"
            ],
            [
             0.6,
             "#e6f5d0"
            ],
            [
             0.7,
             "#b8e186"
            ],
            [
             0.8,
             "#7fbc41"
            ],
            [
             0.9,
             "#4d9221"
            ],
            [
             1,
             "#276419"
            ]
           ],
           "sequential": [
            [
             0,
             "#0d0887"
            ],
            [
             0.1111111111111111,
             "#46039f"
            ],
            [
             0.2222222222222222,
             "#7201a8"
            ],
            [
             0.3333333333333333,
             "#9c179e"
            ],
            [
             0.4444444444444444,
             "#bd3786"
            ],
            [
             0.5555555555555556,
             "#d8576b"
            ],
            [
             0.6666666666666666,
             "#ed7953"
            ],
            [
             0.7777777777777778,
             "#fb9f3a"
            ],
            [
             0.8888888888888888,
             "#fdca26"
            ],
            [
             1,
             "#f0f921"
            ]
           ],
           "sequentialminus": [
            [
             0,
             "#0d0887"
            ],
            [
             0.1111111111111111,
             "#46039f"
            ],
            [
             0.2222222222222222,
             "#7201a8"
            ],
            [
             0.3333333333333333,
             "#9c179e"
            ],
            [
             0.4444444444444444,
             "#bd3786"
            ],
            [
             0.5555555555555556,
             "#d8576b"
            ],
            [
             0.6666666666666666,
             "#ed7953"
            ],
            [
             0.7777777777777778,
             "#fb9f3a"
            ],
            [
             0.8888888888888888,
             "#fdca26"
            ],
            [
             1,
             "#f0f921"
            ]
           ]
          },
          "colorway": [
           "#636efa",
           "#EF553B",
           "#00cc96",
           "#ab63fa",
           "#FFA15A",
           "#19d3f3",
           "#FF6692",
           "#B6E880",
           "#FF97FF",
           "#FECB52"
          ],
          "font": {
           "color": "#2a3f5f"
          },
          "geo": {
           "bgcolor": "white",
           "lakecolor": "white",
           "landcolor": "#E5ECF6",
           "showlakes": true,
           "showland": true,
           "subunitcolor": "white"
          },
          "hoverlabel": {
           "align": "left"
          },
          "hovermode": "closest",
          "mapbox": {
           "style": "light"
          },
          "paper_bgcolor": "white",
          "plot_bgcolor": "#E5ECF6",
          "polar": {
           "angularaxis": {
            "gridcolor": "white",
            "linecolor": "white",
            "ticks": ""
           },
           "bgcolor": "#E5ECF6",
           "radialaxis": {
            "gridcolor": "white",
            "linecolor": "white",
            "ticks": ""
           }
          },
          "scene": {
           "xaxis": {
            "backgroundcolor": "#E5ECF6",
            "gridcolor": "white",
            "gridwidth": 2,
            "linecolor": "white",
            "showbackground": true,
            "ticks": "",
            "zerolinecolor": "white"
           },
           "yaxis": {
            "backgroundcolor": "#E5ECF6",
            "gridcolor": "white",
            "gridwidth": 2,
            "linecolor": "white",
            "showbackground": true,
            "ticks": "",
            "zerolinecolor": "white"
           },
           "zaxis": {
            "backgroundcolor": "#E5ECF6",
            "gridcolor": "white",
            "gridwidth": 2,
            "linecolor": "white",
            "showbackground": true,
            "ticks": "",
            "zerolinecolor": "white"
           }
          },
          "shapedefaults": {
           "line": {
            "color": "#2a3f5f"
           }
          },
          "ternary": {
           "aaxis": {
            "gridcolor": "white",
            "linecolor": "white",
            "ticks": ""
           },
           "baxis": {
            "gridcolor": "white",
            "linecolor": "white",
            "ticks": ""
           },
           "bgcolor": "#E5ECF6",
           "caxis": {
            "gridcolor": "white",
            "linecolor": "white",
            "ticks": ""
           }
          },
          "title": {
           "x": 0.05
          },
          "xaxis": {
           "automargin": true,
           "gridcolor": "white",
           "linecolor": "white",
           "ticks": "",
           "title": {
            "standoff": 15
           },
           "zerolinecolor": "white",
           "zerolinewidth": 2
          },
          "yaxis": {
           "automargin": true,
           "gridcolor": "white",
           "linecolor": "white",
           "ticks": "",
           "title": {
            "standoff": 15
           },
           "zerolinecolor": "white",
           "zerolinewidth": 2
          }
         }
        },
        "yaxis": {
         "autorange": "reversed"
        }
       }
      },
      "text/html": [
       "<div>                            <div id=\"85e8cc8a-ac1e-4bb9-a904-a29bf5f44638\" class=\"plotly-graph-div\" style=\"height:525px; width:100%;\"></div>            <script type=\"text/javascript\">                require([\"plotly\"], function(Plotly) {                    window.PLOTLYENV=window.PLOTLYENV || {};                                    if (document.getElementById(\"85e8cc8a-ac1e-4bb9-a904-a29bf5f44638\")) {                    Plotly.newPlot(                        \"85e8cc8a-ac1e-4bb9-a904-a29bf5f44638\",                        [{\"mode\": \"lines+markers\", \"name\": \"Avg Position\", \"type\": \"scatter\", \"x\": [\"09/10\", \"10/11\", \"11/12\", \"12/13\", \"13/14\", \"14/15\", \"15/16\", \"16/17\", \"17/18\", \"18/19\", \"19/20\"], \"y\": [2.210526315789474, 1.6578947368421053, 1.6578947368421053, 1.868421052631579, 7.0, 5.2631578947368425, 4.2631578947368425, 5.473684210526316, 1.9210526315789473, 6.7368421052631575, 6.2105263157894735]}, {\"mode\": \"lines+markers\", \"name\": \"Result Position\", \"type\": \"scatter\", \"x\": [\"09/10\", \"10/11\", \"11/12\", \"12/13\", \"13/14\", \"14/15\", \"15/16\", \"16/17\", \"17/18\", \"18/19\", \"19/20\"], \"y\": [2, 1, 2, 1, 7, 4, 5, 6, 2, 6, 3]}],                        {\"template\": {\"data\": {\"bar\": [{\"error_x\": {\"color\": \"#2a3f5f\"}, \"error_y\": {\"color\": \"#2a3f5f\"}, \"marker\": {\"line\": {\"color\": \"#E5ECF6\", \"width\": 0.5}}, \"type\": \"bar\"}], \"barpolar\": [{\"marker\": {\"line\": {\"color\": \"#E5ECF6\", \"width\": 0.5}}, \"type\": \"barpolar\"}], \"carpet\": [{\"aaxis\": {\"endlinecolor\": \"#2a3f5f\", \"gridcolor\": \"white\", \"linecolor\": \"white\", \"minorgridcolor\": \"white\", \"startlinecolor\": \"#2a3f5f\"}, \"baxis\": {\"endlinecolor\": \"#2a3f5f\", \"gridcolor\": \"white\", \"linecolor\": \"white\", \"minorgridcolor\": \"white\", \"startlinecolor\": \"#2a3f5f\"}, \"type\": \"carpet\"}], \"choropleth\": [{\"colorbar\": {\"outlinewidth\": 0, \"ticks\": \"\"}, \"type\": \"choropleth\"}], \"contour\": [{\"colorbar\": {\"outlinewidth\": 0, \"ticks\": \"\"}, \"colorscale\": [[0.0, \"#0d0887\"], [0.1111111111111111, \"#46039f\"], [0.2222222222222222, \"#7201a8\"], [0.3333333333333333, \"#9c179e\"], [0.4444444444444444, \"#bd3786\"], [0.5555555555555556, \"#d8576b\"], [0.6666666666666666, \"#ed7953\"], [0.7777777777777778, \"#fb9f3a\"], [0.8888888888888888, \"#fdca26\"], [1.0, \"#f0f921\"]], \"type\": \"contour\"}], \"contourcarpet\": [{\"colorbar\": {\"outlinewidth\": 0, \"ticks\": \"\"}, \"type\": \"contourcarpet\"}], \"heatmap\": [{\"colorbar\": {\"outlinewidth\": 0, \"ticks\": \"\"}, \"colorscale\": [[0.0, \"#0d0887\"], [0.1111111111111111, \"#46039f\"], [0.2222222222222222, \"#7201a8\"], [0.3333333333333333, \"#9c179e\"], [0.4444444444444444, \"#bd3786\"], [0.5555555555555556, \"#d8576b\"], [0.6666666666666666, \"#ed7953\"], [0.7777777777777778, \"#fb9f3a\"], [0.8888888888888888, \"#fdca26\"], [1.0, \"#f0f921\"]], \"type\": \"heatmap\"}], \"heatmapgl\": [{\"colorbar\": {\"outlinewidth\": 0, \"ticks\": \"\"}, \"colorscale\": [[0.0, \"#0d0887\"], [0.1111111111111111, \"#46039f\"], [0.2222222222222222, \"#7201a8\"], [0.3333333333333333, \"#9c179e\"], [0.4444444444444444, \"#bd3786\"], [0.5555555555555556, \"#d8576b\"], [0.6666666666666666, \"#ed7953\"], [0.7777777777777778, \"#fb9f3a\"], [0.8888888888888888, \"#fdca26\"], [1.0, \"#f0f921\"]], \"type\": \"heatmapgl\"}], \"histogram\": [{\"marker\": {\"colorbar\": {\"outlinewidth\": 0, \"ticks\": \"\"}}, \"type\": \"histogram\"}], \"histogram2d\": [{\"colorbar\": {\"outlinewidth\": 0, \"ticks\": \"\"}, \"colorscale\": [[0.0, \"#0d0887\"], [0.1111111111111111, \"#46039f\"], [0.2222222222222222, \"#7201a8\"], [0.3333333333333333, \"#9c179e\"], [0.4444444444444444, \"#bd3786\"], [0.5555555555555556, \"#d8576b\"], [0.6666666666666666, \"#ed7953\"], [0.7777777777777778, \"#fb9f3a\"], [0.8888888888888888, \"#fdca26\"], [1.0, \"#f0f921\"]], \"type\": \"histogram2d\"}], \"histogram2dcontour\": [{\"colorbar\": {\"outlinewidth\": 0, \"ticks\": \"\"}, \"colorscale\": [[0.0, \"#0d0887\"], [0.1111111111111111, \"#46039f\"], [0.2222222222222222, \"#7201a8\"], [0.3333333333333333, \"#9c179e\"], [0.4444444444444444, \"#bd3786\"], [0.5555555555555556, \"#d8576b\"], [0.6666666666666666, \"#ed7953\"], [0.7777777777777778, \"#fb9f3a\"], [0.8888888888888888, \"#fdca26\"], [1.0, \"#f0f921\"]], \"type\": \"histogram2dcontour\"}], \"mesh3d\": [{\"colorbar\": {\"outlinewidth\": 0, \"ticks\": \"\"}, \"type\": \"mesh3d\"}], \"parcoords\": [{\"line\": {\"colorbar\": {\"outlinewidth\": 0, \"ticks\": \"\"}}, \"type\": \"parcoords\"}], \"pie\": [{\"automargin\": true, \"type\": \"pie\"}], \"scatter\": [{\"marker\": {\"colorbar\": {\"outlinewidth\": 0, \"ticks\": \"\"}}, \"type\": \"scatter\"}], \"scatter3d\": [{\"line\": {\"colorbar\": {\"outlinewidth\": 0, \"ticks\": \"\"}}, \"marker\": {\"colorbar\": {\"outlinewidth\": 0, \"ticks\": \"\"}}, \"type\": \"scatter3d\"}], \"scattercarpet\": [{\"marker\": {\"colorbar\": {\"outlinewidth\": 0, \"ticks\": \"\"}}, \"type\": \"scattercarpet\"}], \"scattergeo\": [{\"marker\": {\"colorbar\": {\"outlinewidth\": 0, \"ticks\": \"\"}}, \"type\": \"scattergeo\"}], \"scattergl\": [{\"marker\": {\"colorbar\": {\"outlinewidth\": 0, \"ticks\": \"\"}}, \"type\": \"scattergl\"}], \"scattermapbox\": [{\"marker\": {\"colorbar\": {\"outlinewidth\": 0, \"ticks\": \"\"}}, \"type\": \"scattermapbox\"}], \"scatterpolar\": [{\"marker\": {\"colorbar\": {\"outlinewidth\": 0, \"ticks\": \"\"}}, \"type\": \"scatterpolar\"}], \"scatterpolargl\": [{\"marker\": {\"colorbar\": {\"outlinewidth\": 0, \"ticks\": \"\"}}, \"type\": \"scatterpolargl\"}], \"scatterternary\": [{\"marker\": {\"colorbar\": {\"outlinewidth\": 0, \"ticks\": \"\"}}, \"type\": \"scatterternary\"}], \"surface\": [{\"colorbar\": {\"outlinewidth\": 0, \"ticks\": \"\"}, \"colorscale\": [[0.0, \"#0d0887\"], [0.1111111111111111, \"#46039f\"], [0.2222222222222222, \"#7201a8\"], [0.3333333333333333, \"#9c179e\"], [0.4444444444444444, \"#bd3786\"], [0.5555555555555556, \"#d8576b\"], [0.6666666666666666, \"#ed7953\"], [0.7777777777777778, \"#fb9f3a\"], [0.8888888888888888, \"#fdca26\"], [1.0, \"#f0f921\"]], \"type\": \"surface\"}], \"table\": [{\"cells\": {\"fill\": {\"color\": \"#EBF0F8\"}, \"line\": {\"color\": \"white\"}}, \"header\": {\"fill\": {\"color\": \"#C8D4E3\"}, \"line\": {\"color\": \"white\"}}, \"type\": \"table\"}]}, \"layout\": {\"annotationdefaults\": {\"arrowcolor\": \"#2a3f5f\", \"arrowhead\": 0, \"arrowwidth\": 1}, \"autotypenumbers\": \"strict\", \"coloraxis\": {\"colorbar\": {\"outlinewidth\": 0, \"ticks\": \"\"}}, \"colorscale\": {\"diverging\": [[0, \"#8e0152\"], [0.1, \"#c51b7d\"], [0.2, \"#de77ae\"], [0.3, \"#f1b6da\"], [0.4, \"#fde0ef\"], [0.5, \"#f7f7f7\"], [0.6, \"#e6f5d0\"], [0.7, \"#b8e186\"], [0.8, \"#7fbc41\"], [0.9, \"#4d9221\"], [1, \"#276419\"]], \"sequential\": [[0.0, \"#0d0887\"], [0.1111111111111111, \"#46039f\"], [0.2222222222222222, \"#7201a8\"], [0.3333333333333333, \"#9c179e\"], [0.4444444444444444, \"#bd3786\"], [0.5555555555555556, \"#d8576b\"], [0.6666666666666666, \"#ed7953\"], [0.7777777777777778, \"#fb9f3a\"], [0.8888888888888888, \"#fdca26\"], [1.0, \"#f0f921\"]], \"sequentialminus\": [[0.0, \"#0d0887\"], [0.1111111111111111, \"#46039f\"], [0.2222222222222222, \"#7201a8\"], [0.3333333333333333, \"#9c179e\"], [0.4444444444444444, \"#bd3786\"], [0.5555555555555556, \"#d8576b\"], [0.6666666666666666, \"#ed7953\"], [0.7777777777777778, \"#fb9f3a\"], [0.8888888888888888, \"#fdca26\"], [1.0, \"#f0f921\"]]}, \"colorway\": [\"#636efa\", \"#EF553B\", \"#00cc96\", \"#ab63fa\", \"#FFA15A\", \"#19d3f3\", \"#FF6692\", \"#B6E880\", \"#FF97FF\", \"#FECB52\"], \"font\": {\"color\": \"#2a3f5f\"}, \"geo\": {\"bgcolor\": \"white\", \"lakecolor\": \"white\", \"landcolor\": \"#E5ECF6\", \"showlakes\": true, \"showland\": true, \"subunitcolor\": \"white\"}, \"hoverlabel\": {\"align\": \"left\"}, \"hovermode\": \"closest\", \"mapbox\": {\"style\": \"light\"}, \"paper_bgcolor\": \"white\", \"plot_bgcolor\": \"#E5ECF6\", \"polar\": {\"angularaxis\": {\"gridcolor\": \"white\", \"linecolor\": \"white\", \"ticks\": \"\"}, \"bgcolor\": \"#E5ECF6\", \"radialaxis\": {\"gridcolor\": \"white\", \"linecolor\": \"white\", \"ticks\": \"\"}}, \"scene\": {\"xaxis\": {\"backgroundcolor\": \"#E5ECF6\", \"gridcolor\": \"white\", \"gridwidth\": 2, \"linecolor\": \"white\", \"showbackground\": true, \"ticks\": \"\", \"zerolinecolor\": \"white\"}, \"yaxis\": {\"backgroundcolor\": \"#E5ECF6\", \"gridcolor\": \"white\", \"gridwidth\": 2, \"linecolor\": \"white\", \"showbackground\": true, \"ticks\": \"\", \"zerolinecolor\": \"white\"}, \"zaxis\": {\"backgroundcolor\": \"#E5ECF6\", \"gridcolor\": \"white\", \"gridwidth\": 2, \"linecolor\": \"white\", \"showbackground\": true, \"ticks\": \"\", \"zerolinecolor\": \"white\"}}, \"shapedefaults\": {\"line\": {\"color\": \"#2a3f5f\"}}, \"ternary\": {\"aaxis\": {\"gridcolor\": \"white\", \"linecolor\": \"white\", \"ticks\": \"\"}, \"baxis\": {\"gridcolor\": \"white\", \"linecolor\": \"white\", \"ticks\": \"\"}, \"bgcolor\": \"#E5ECF6\", \"caxis\": {\"gridcolor\": \"white\", \"linecolor\": \"white\", \"ticks\": \"\"}}, \"title\": {\"x\": 0.05}, \"xaxis\": {\"automargin\": true, \"gridcolor\": \"white\", \"linecolor\": \"white\", \"ticks\": \"\", \"title\": {\"standoff\": 15}, \"zerolinecolor\": \"white\", \"zerolinewidth\": 2}, \"yaxis\": {\"automargin\": true, \"gridcolor\": \"white\", \"linecolor\": \"white\", \"ticks\": \"\", \"title\": {\"standoff\": 15}, \"zerolinecolor\": \"white\", \"zerolinewidth\": 2}}}, \"yaxis\": {\"autorange\": \"reversed\"}},                        {\"responsive\": true}                    ).then(function(){\n",
       "                            \n",
       "var gd = document.getElementById('85e8cc8a-ac1e-4bb9-a904-a29bf5f44638');\n",
       "var x = new MutationObserver(function (mutations, observer) {{\n",
       "        var display = window.getComputedStyle(gd).display;\n",
       "        if (!display || display === 'none') {{\n",
       "            console.log([gd, 'removed!']);\n",
       "            Plotly.purge(gd);\n",
       "            observer.disconnect();\n",
       "        }}\n",
       "}});\n",
       "\n",
       "// Listen for the removal of the full notebook cells\n",
       "var notebookContainer = gd.closest('#notebook-container');\n",
       "if (notebookContainer) {{\n",
       "    x.observe(notebookContainer, {childList: true});\n",
       "}}\n",
       "\n",
       "// Listen for the clearing of the current output cell\n",
       "var outputEl = gd.closest('.output');\n",
       "if (outputEl) {{\n",
       "    x.observe(outputEl, {childList: true});\n",
       "}}\n",
       "\n",
       "                        })                };                });            </script>        </div>"
      ]
     },
     "metadata": {},
     "output_type": "display_data"
    }
   ],
   "source": [
    "years = df2.columns\n",
    "\n",
    "# fig2 = go.Figure(data=[go.Table(header=dict(values=['Season','Average Position', 'Final Position']),\n",
    "#                  cells=dict(values=[df2.columns,avg_pos, [2,1,2,1,7,4,5,6,2,6,3]]))\n",
    "#                      ])\n",
    "\n",
    "fig2 = go.Figure()\n",
    "fig2.add_trace(go.Scatter(x=years, y=avg_pos,\n",
    "                    mode='lines+markers',\n",
    "                    name='Avg Position'))\n",
    "fig2.add_trace(go.Scatter(x=years, y= [2,1,2,1,7,4,5,6,2,6,3],\n",
    "                    mode='lines+markers',\n",
    "                    name='Result Position'))\n",
    "fig2['layout']['yaxis']['autorange'] = \"reversed\"\n",
    "\n",
    "fig2.show()"
   ]
  },
  {
   "cell_type": "markdown",
   "metadata": {},
   "source": [
    "### We can see that since the 09/10 season, the team usually finishes at the position that it stays near for the entire season. The over-performance of 19/20 season, from an average to 6.2 to 3, can be attributed to Bruno Fernandes\n",
    "##### (Bruno Fernandes, a Portuguese International, arrived at Manchester United on January 29th, 2020, basically in the middle of the 19/20 season. His influence was nothing short of amazing; Manchester United went undefeated for the remainder of the season (14 games), and to this day, Manchester United only lost 3 Premier League games.)"
   ]
  },
  {
   "cell_type": "markdown",
   "metadata": {},
   "source": [
    "### As of today, 1/15/2021, Manchester United are 17 games in and has averaged about 10th place.\n",
    "### It is not surprising nor offensive when rival fans doubt Manchester United's long-term success.\n",
    "### If Manchester United wins ALL of the remaining 21 games\n",
    "#### 1. the team will have averaged about 5th place and\n",
    "#### 2. also win the league (as it stands, no team can overthrow United from 1st place)\n",
    "\n",
    "### At least for the past decade, no Manchester United side has had that big of a (mid-season) turnaround, bar the 19/20 season, so it remains questionable that Manchester United can mount as PL champions, although it seems like United may comfrotably title challengers and a top 4 side."
   ]
  },
  {
   "cell_type": "markdown",
   "metadata": {},
   "source": [
    "## A look inside FIFA ratings (compared to top flight PL teams)\n",
    "\n",
    "\n",
    "\n",
    "#### In recent history, ever since Manchester United last won the PL, four different teams have been crowned champions: Liverpool, Chelsea, Man City, and Leicester City\n",
    "\n",
    "#### How did we compare to these teams? Let's see."
   ]
  },
  {
   "cell_type": "code",
   "execution_count": 45,
   "metadata": {},
   "outputs": [],
   "source": [
    "pl_champs = ['Liverpool','Chelsea','Manchester City','Leicester City', 'Manchester United']"
   ]
  },
  {
   "cell_type": "code",
   "execution_count": 67,
   "metadata": {
    "tags": [
     "remove_cell"
    ]
   },
   "outputs": [
    {
     "data": {
      "text/html": [
       "\n",
       "        <script>\n",
       "            function code_toggle_12348084388091677954() {\n",
       "                $('div.cell.code_cell.rendered.selected').find('div.input').toggle();\n",
       "            }\n",
       "\n",
       "            \n",
       "        </script>\n",
       "\n",
       "        <a href=\"javascript:code_toggle_12348084388091677954()\">Toggle show/hide</a>\n",
       "    "
      ],
      "text/plain": [
       "<IPython.core.display.HTML object>"
      ]
     },
     "execution_count": 67,
     "metadata": {},
     "output_type": "execute_result"
    }
   ],
   "source": [
    "ratings = [[],[],[],[],[]]\n",
    "\n",
    "df15 = pd.read_csv(r'C:\\Users\\Chongkyung\\Documents\\GitHub\\fifa_analysis\\fifa21\\fifa15_20\\players_15.csv')\n",
    "df16 = pd.read_csv(r'C:\\Users\\Chongkyung\\Documents\\GitHub\\fifa_analysis\\fifa21\\fifa15_20\\players_16.csv')\n",
    "df17 = pd.read_csv(r'C:\\Users\\Chongkyung\\Documents\\GitHub\\fifa_analysis\\fifa21\\fifa15_20\\players_17.csv')\n",
    "df18 = pd.read_csv(r'C:\\Users\\Chongkyung\\Documents\\GitHub\\fifa_analysis\\fifa21\\fifa15_20\\players_18.csv')\n",
    "df19 = pd.read_csv(r'C:\\Users\\Chongkyung\\Documents\\GitHub\\fifa_analysis\\fifa21\\fifa15_20\\players_19.csv')\n",
    "df20 = pd.read_csv(r'C:\\Users\\Chongkyung\\Documents\\GitHub\\fifa_analysis\\fifa21\\fifa15_20\\players_20.csv')\n",
    "\n",
    "def champ_mean(plchamps,df,lists):\n",
    "    for champ,i in zip(plchamps,range(5)):\n",
    "        lists[i].append(df.loc[df['club'] == champ ]['overall'].mean())\n",
    "\n",
    "dfs = [df15,df16,df17,df18,df19,df20]\n",
    "\n",
    "for df in dfs:\n",
    "    champ_mean(pl_champs,df,ratings)\n",
    "    \n",
    "hide_toggle()"
   ]
  },
  {
   "cell_type": "code",
   "execution_count": 66,
   "metadata": {},
   "outputs": [
    {
     "data": {
      "application/vnd.plotly.v1+json": {
       "config": {
        "plotlyServerURL": "https://plot.ly"
       },
       "data": [
        {
         "hoverinfo": "text+name",
         "line": {
          "shape": "linear"
         },
         "mode": "lines+markers",
         "name": "Liverpool",
         "type": "scatter",
         "x": [
          "14/15",
          "15/16",
          "16/17",
          "17/18",
          "18/19",
          "19/20"
         ],
         "y": [
          73.06060606060606,
          76.11111111111111,
          74.72727272727273,
          75.9090909090909,
          76,
          75.84848484848484
         ]
        },
        {
         "hoverinfo": "text+name",
         "line": {
          "shape": "linear"
         },
         "mode": "lines+markers",
         "name": "Chelsea",
         "type": "scatter",
         "x": [
          "14/15",
          "15/16",
          "16/17",
          "17/18",
          "18/19",
          "19/20"
         ],
         "y": [
          73.27272727272727,
          76.32142857142857,
          75.54545454545455,
          76.51515151515152,
          76.78787878787878,
          77.06060606060606
         ]
        },
        {
         "hoverinfo": "text+name",
         "line": {
          "shape": "linear"
         },
         "mode": "lines+markers",
         "name": "Manchester City",
         "type": "scatter",
         "x": [
          "14/15",
          "15/16",
          "16/17",
          "17/18",
          "18/19",
          "19/20"
         ],
         "y": [
          73.42424242424242,
          77.20689655172414,
          75.54545454545455,
          74.12121212121212,
          76.84848484848484,
          77
         ]
        },
        {
         "hoverinfo": "text+name",
         "line": {
          "shape": "linear"
         },
         "mode": "lines+markers",
         "name": "Leicester City",
         "type": "scatter",
         "x": [
          "14/15",
          "15/16",
          "16/17",
          "17/18",
          "18/19",
          "19/20"
         ],
         "y": [
          66.45454545454545,
          69.38709677419355,
          71.51515151515152,
          72.18181818181819,
          73.96969696969697,
          74.36363636363636
         ]
        },
        {
         "hoverinfo": "text+name",
         "line": {
          "shape": "linear"
         },
         "mode": "lines+markers",
         "name": "Manchester United",
         "type": "scatter",
         "x": [
          "14/15",
          "15/16",
          "16/17",
          "17/18",
          "18/19",
          "19/20"
         ],
         "y": [
          73.39393939393939,
          76.25925925925925,
          77.90625,
          77.66666666666667,
          77.45454545454545,
          76.84848484848484
         ]
        }
       ],
       "layout": {
        "legend": {
         "font": {
          "size": 16
         },
         "traceorder": "reversed",
         "y": 0.5
        },
        "template": {
         "data": {
          "bar": [
           {
            "error_x": {
             "color": "#2a3f5f"
            },
            "error_y": {
             "color": "#2a3f5f"
            },
            "marker": {
             "line": {
              "color": "#E5ECF6",
              "width": 0.5
             }
            },
            "type": "bar"
           }
          ],
          "barpolar": [
           {
            "marker": {
             "line": {
              "color": "#E5ECF6",
              "width": 0.5
             }
            },
            "type": "barpolar"
           }
          ],
          "carpet": [
           {
            "aaxis": {
             "endlinecolor": "#2a3f5f",
             "gridcolor": "white",
             "linecolor": "white",
             "minorgridcolor": "white",
             "startlinecolor": "#2a3f5f"
            },
            "baxis": {
             "endlinecolor": "#2a3f5f",
             "gridcolor": "white",
             "linecolor": "white",
             "minorgridcolor": "white",
             "startlinecolor": "#2a3f5f"
            },
            "type": "carpet"
           }
          ],
          "choropleth": [
           {
            "colorbar": {
             "outlinewidth": 0,
             "ticks": ""
            },
            "type": "choropleth"
           }
          ],
          "contour": [
           {
            "colorbar": {
             "outlinewidth": 0,
             "ticks": ""
            },
            "colorscale": [
             [
              0,
              "#0d0887"
             ],
             [
              0.1111111111111111,
              "#46039f"
             ],
             [
              0.2222222222222222,
              "#7201a8"
             ],
             [
              0.3333333333333333,
              "#9c179e"
             ],
             [
              0.4444444444444444,
              "#bd3786"
             ],
             [
              0.5555555555555556,
              "#d8576b"
             ],
             [
              0.6666666666666666,
              "#ed7953"
             ],
             [
              0.7777777777777778,
              "#fb9f3a"
             ],
             [
              0.8888888888888888,
              "#fdca26"
             ],
             [
              1,
              "#f0f921"
             ]
            ],
            "type": "contour"
           }
          ],
          "contourcarpet": [
           {
            "colorbar": {
             "outlinewidth": 0,
             "ticks": ""
            },
            "type": "contourcarpet"
           }
          ],
          "heatmap": [
           {
            "colorbar": {
             "outlinewidth": 0,
             "ticks": ""
            },
            "colorscale": [
             [
              0,
              "#0d0887"
             ],
             [
              0.1111111111111111,
              "#46039f"
             ],
             [
              0.2222222222222222,
              "#7201a8"
             ],
             [
              0.3333333333333333,
              "#9c179e"
             ],
             [
              0.4444444444444444,
              "#bd3786"
             ],
             [
              0.5555555555555556,
              "#d8576b"
             ],
             [
              0.6666666666666666,
              "#ed7953"
             ],
             [
              0.7777777777777778,
              "#fb9f3a"
             ],
             [
              0.8888888888888888,
              "#fdca26"
             ],
             [
              1,
              "#f0f921"
             ]
            ],
            "type": "heatmap"
           }
          ],
          "heatmapgl": [
           {
            "colorbar": {
             "outlinewidth": 0,
             "ticks": ""
            },
            "colorscale": [
             [
              0,
              "#0d0887"
             ],
             [
              0.1111111111111111,
              "#46039f"
             ],
             [
              0.2222222222222222,
              "#7201a8"
             ],
             [
              0.3333333333333333,
              "#9c179e"
             ],
             [
              0.4444444444444444,
              "#bd3786"
             ],
             [
              0.5555555555555556,
              "#d8576b"
             ],
             [
              0.6666666666666666,
              "#ed7953"
             ],
             [
              0.7777777777777778,
              "#fb9f3a"
             ],
             [
              0.8888888888888888,
              "#fdca26"
             ],
             [
              1,
              "#f0f921"
             ]
            ],
            "type": "heatmapgl"
           }
          ],
          "histogram": [
           {
            "marker": {
             "colorbar": {
              "outlinewidth": 0,
              "ticks": ""
             }
            },
            "type": "histogram"
           }
          ],
          "histogram2d": [
           {
            "colorbar": {
             "outlinewidth": 0,
             "ticks": ""
            },
            "colorscale": [
             [
              0,
              "#0d0887"
             ],
             [
              0.1111111111111111,
              "#46039f"
             ],
             [
              0.2222222222222222,
              "#7201a8"
             ],
             [
              0.3333333333333333,
              "#9c179e"
             ],
             [
              0.4444444444444444,
              "#bd3786"
             ],
             [
              0.5555555555555556,
              "#d8576b"
             ],
             [
              0.6666666666666666,
              "#ed7953"
             ],
             [
              0.7777777777777778,
              "#fb9f3a"
             ],
             [
              0.8888888888888888,
              "#fdca26"
             ],
             [
              1,
              "#f0f921"
             ]
            ],
            "type": "histogram2d"
           }
          ],
          "histogram2dcontour": [
           {
            "colorbar": {
             "outlinewidth": 0,
             "ticks": ""
            },
            "colorscale": [
             [
              0,
              "#0d0887"
             ],
             [
              0.1111111111111111,
              "#46039f"
             ],
             [
              0.2222222222222222,
              "#7201a8"
             ],
             [
              0.3333333333333333,
              "#9c179e"
             ],
             [
              0.4444444444444444,
              "#bd3786"
             ],
             [
              0.5555555555555556,
              "#d8576b"
             ],
             [
              0.6666666666666666,
              "#ed7953"
             ],
             [
              0.7777777777777778,
              "#fb9f3a"
             ],
             [
              0.8888888888888888,
              "#fdca26"
             ],
             [
              1,
              "#f0f921"
             ]
            ],
            "type": "histogram2dcontour"
           }
          ],
          "mesh3d": [
           {
            "colorbar": {
             "outlinewidth": 0,
             "ticks": ""
            },
            "type": "mesh3d"
           }
          ],
          "parcoords": [
           {
            "line": {
             "colorbar": {
              "outlinewidth": 0,
              "ticks": ""
             }
            },
            "type": "parcoords"
           }
          ],
          "pie": [
           {
            "automargin": true,
            "type": "pie"
           }
          ],
          "scatter": [
           {
            "marker": {
             "colorbar": {
              "outlinewidth": 0,
              "ticks": ""
             }
            },
            "type": "scatter"
           }
          ],
          "scatter3d": [
           {
            "line": {
             "colorbar": {
              "outlinewidth": 0,
              "ticks": ""
             }
            },
            "marker": {
             "colorbar": {
              "outlinewidth": 0,
              "ticks": ""
             }
            },
            "type": "scatter3d"
           }
          ],
          "scattercarpet": [
           {
            "marker": {
             "colorbar": {
              "outlinewidth": 0,
              "ticks": ""
             }
            },
            "type": "scattercarpet"
           }
          ],
          "scattergeo": [
           {
            "marker": {
             "colorbar": {
              "outlinewidth": 0,
              "ticks": ""
             }
            },
            "type": "scattergeo"
           }
          ],
          "scattergl": [
           {
            "marker": {
             "colorbar": {
              "outlinewidth": 0,
              "ticks": ""
             }
            },
            "type": "scattergl"
           }
          ],
          "scattermapbox": [
           {
            "marker": {
             "colorbar": {
              "outlinewidth": 0,
              "ticks": ""
             }
            },
            "type": "scattermapbox"
           }
          ],
          "scatterpolar": [
           {
            "marker": {
             "colorbar": {
              "outlinewidth": 0,
              "ticks": ""
             }
            },
            "type": "scatterpolar"
           }
          ],
          "scatterpolargl": [
           {
            "marker": {
             "colorbar": {
              "outlinewidth": 0,
              "ticks": ""
             }
            },
            "type": "scatterpolargl"
           }
          ],
          "scatterternary": [
           {
            "marker": {
             "colorbar": {
              "outlinewidth": 0,
              "ticks": ""
             }
            },
            "type": "scatterternary"
           }
          ],
          "surface": [
           {
            "colorbar": {
             "outlinewidth": 0,
             "ticks": ""
            },
            "colorscale": [
             [
              0,
              "#0d0887"
             ],
             [
              0.1111111111111111,
              "#46039f"
             ],
             [
              0.2222222222222222,
              "#7201a8"
             ],
             [
              0.3333333333333333,
              "#9c179e"
             ],
             [
              0.4444444444444444,
              "#bd3786"
             ],
             [
              0.5555555555555556,
              "#d8576b"
             ],
             [
              0.6666666666666666,
              "#ed7953"
             ],
             [
              0.7777777777777778,
              "#fb9f3a"
             ],
             [
              0.8888888888888888,
              "#fdca26"
             ],
             [
              1,
              "#f0f921"
             ]
            ],
            "type": "surface"
           }
          ],
          "table": [
           {
            "cells": {
             "fill": {
              "color": "#EBF0F8"
             },
             "line": {
              "color": "white"
             }
            },
            "header": {
             "fill": {
              "color": "#C8D4E3"
             },
             "line": {
              "color": "white"
             }
            },
            "type": "table"
           }
          ]
         },
         "layout": {
          "annotationdefaults": {
           "arrowcolor": "#2a3f5f",
           "arrowhead": 0,
           "arrowwidth": 1
          },
          "autotypenumbers": "strict",
          "coloraxis": {
           "colorbar": {
            "outlinewidth": 0,
            "ticks": ""
           }
          },
          "colorscale": {
           "diverging": [
            [
             0,
             "#8e0152"
            ],
            [
             0.1,
             "#c51b7d"
            ],
            [
             0.2,
             "#de77ae"
            ],
            [
             0.3,
             "#f1b6da"
            ],
            [
             0.4,
             "#fde0ef"
            ],
            [
             0.5,
             "#f7f7f7"
            ],
            [
             0.6,
             "#e6f5d0"
            ],
            [
             0.7,
             "#b8e186"
            ],
            [
             0.8,
             "#7fbc41"
            ],
            [
             0.9,
             "#4d9221"
            ],
            [
             1,
             "#276419"
            ]
           ],
           "sequential": [
            [
             0,
             "#0d0887"
            ],
            [
             0.1111111111111111,
             "#46039f"
            ],
            [
             0.2222222222222222,
             "#7201a8"
            ],
            [
             0.3333333333333333,
             "#9c179e"
            ],
            [
             0.4444444444444444,
             "#bd3786"
            ],
            [
             0.5555555555555556,
             "#d8576b"
            ],
            [
             0.6666666666666666,
             "#ed7953"
            ],
            [
             0.7777777777777778,
             "#fb9f3a"
            ],
            [
             0.8888888888888888,
             "#fdca26"
            ],
            [
             1,
             "#f0f921"
            ]
           ],
           "sequentialminus": [
            [
             0,
             "#0d0887"
            ],
            [
             0.1111111111111111,
             "#46039f"
            ],
            [
             0.2222222222222222,
             "#7201a8"
            ],
            [
             0.3333333333333333,
             "#9c179e"
            ],
            [
             0.4444444444444444,
             "#bd3786"
            ],
            [
             0.5555555555555556,
             "#d8576b"
            ],
            [
             0.6666666666666666,
             "#ed7953"
            ],
            [
             0.7777777777777778,
             "#fb9f3a"
            ],
            [
             0.8888888888888888,
             "#fdca26"
            ],
            [
             1,
             "#f0f921"
            ]
           ]
          },
          "colorway": [
           "#636efa",
           "#EF553B",
           "#00cc96",
           "#ab63fa",
           "#FFA15A",
           "#19d3f3",
           "#FF6692",
           "#B6E880",
           "#FF97FF",
           "#FECB52"
          ],
          "font": {
           "color": "#2a3f5f"
          },
          "geo": {
           "bgcolor": "white",
           "lakecolor": "white",
           "landcolor": "#E5ECF6",
           "showlakes": true,
           "showland": true,
           "subunitcolor": "white"
          },
          "hoverlabel": {
           "align": "left"
          },
          "hovermode": "closest",
          "mapbox": {
           "style": "light"
          },
          "paper_bgcolor": "white",
          "plot_bgcolor": "#E5ECF6",
          "polar": {
           "angularaxis": {
            "gridcolor": "white",
            "linecolor": "white",
            "ticks": ""
           },
           "bgcolor": "#E5ECF6",
           "radialaxis": {
            "gridcolor": "white",
            "linecolor": "white",
            "ticks": ""
           }
          },
          "scene": {
           "xaxis": {
            "backgroundcolor": "#E5ECF6",
            "gridcolor": "white",
            "gridwidth": 2,
            "linecolor": "white",
            "showbackground": true,
            "ticks": "",
            "zerolinecolor": "white"
           },
           "yaxis": {
            "backgroundcolor": "#E5ECF6",
            "gridcolor": "white",
            "gridwidth": 2,
            "linecolor": "white",
            "showbackground": true,
            "ticks": "",
            "zerolinecolor": "white"
           },
           "zaxis": {
            "backgroundcolor": "#E5ECF6",
            "gridcolor": "white",
            "gridwidth": 2,
            "linecolor": "white",
            "showbackground": true,
            "ticks": "",
            "zerolinecolor": "white"
           }
          },
          "shapedefaults": {
           "line": {
            "color": "#2a3f5f"
           }
          },
          "ternary": {
           "aaxis": {
            "gridcolor": "white",
            "linecolor": "white",
            "ticks": ""
           },
           "baxis": {
            "gridcolor": "white",
            "linecolor": "white",
            "ticks": ""
           },
           "bgcolor": "#E5ECF6",
           "caxis": {
            "gridcolor": "white",
            "linecolor": "white",
            "ticks": ""
           }
          },
          "title": {
           "x": 0.05
          },
          "xaxis": {
           "automargin": true,
           "gridcolor": "white",
           "linecolor": "white",
           "ticks": "",
           "title": {
            "standoff": 15
           },
           "zerolinecolor": "white",
           "zerolinewidth": 2
          },
          "yaxis": {
           "automargin": true,
           "gridcolor": "white",
           "linecolor": "white",
           "ticks": "",
           "title": {
            "standoff": 15
           },
           "zerolinecolor": "white",
           "zerolinewidth": 2
          }
         }
        }
       }
      },
      "text/html": [
       "<div>                            <div id=\"c95a1c97-1d1b-4cae-9a33-c6e16821cf59\" class=\"plotly-graph-div\" style=\"height:525px; width:100%;\"></div>            <script type=\"text/javascript\">                require([\"plotly\"], function(Plotly) {                    window.PLOTLYENV=window.PLOTLYENV || {};                                    if (document.getElementById(\"c95a1c97-1d1b-4cae-9a33-c6e16821cf59\")) {                    Plotly.newPlot(                        \"c95a1c97-1d1b-4cae-9a33-c6e16821cf59\",                        [{\"hoverinfo\": \"text+name\", \"line\": {\"shape\": \"linear\"}, \"mode\": \"lines+markers\", \"name\": \"Liverpool\", \"type\": \"scatter\", \"x\": [\"14/15\", \"15/16\", \"16/17\", \"17/18\", \"18/19\", \"19/20\"], \"y\": [73.06060606060606, 76.11111111111111, 74.72727272727273, 75.9090909090909, 76.0, 75.84848484848484]}, {\"hoverinfo\": \"text+name\", \"line\": {\"shape\": \"linear\"}, \"mode\": \"lines+markers\", \"name\": \"Chelsea\", \"type\": \"scatter\", \"x\": [\"14/15\", \"15/16\", \"16/17\", \"17/18\", \"18/19\", \"19/20\"], \"y\": [73.27272727272727, 76.32142857142857, 75.54545454545455, 76.51515151515152, 76.78787878787878, 77.06060606060606]}, {\"hoverinfo\": \"text+name\", \"line\": {\"shape\": \"linear\"}, \"mode\": \"lines+markers\", \"name\": \"Manchester City\", \"type\": \"scatter\", \"x\": [\"14/15\", \"15/16\", \"16/17\", \"17/18\", \"18/19\", \"19/20\"], \"y\": [73.42424242424242, 77.20689655172414, 75.54545454545455, 74.12121212121212, 76.84848484848484, 77.0]}, {\"hoverinfo\": \"text+name\", \"line\": {\"shape\": \"linear\"}, \"mode\": \"lines+markers\", \"name\": \"Leicester City\", \"type\": \"scatter\", \"x\": [\"14/15\", \"15/16\", \"16/17\", \"17/18\", \"18/19\", \"19/20\"], \"y\": [66.45454545454545, 69.38709677419355, 71.51515151515152, 72.18181818181819, 73.96969696969697, 74.36363636363636]}, {\"hoverinfo\": \"text+name\", \"line\": {\"shape\": \"linear\"}, \"mode\": \"lines+markers\", \"name\": \"Manchester United\", \"type\": \"scatter\", \"x\": [\"14/15\", \"15/16\", \"16/17\", \"17/18\", \"18/19\", \"19/20\"], \"y\": [73.39393939393939, 76.25925925925925, 77.90625, 77.66666666666667, 77.45454545454545, 76.84848484848484]}],                        {\"legend\": {\"font\": {\"size\": 16}, \"traceorder\": \"reversed\", \"y\": 0.5}, \"template\": {\"data\": {\"bar\": [{\"error_x\": {\"color\": \"#2a3f5f\"}, \"error_y\": {\"color\": \"#2a3f5f\"}, \"marker\": {\"line\": {\"color\": \"#E5ECF6\", \"width\": 0.5}}, \"type\": \"bar\"}], \"barpolar\": [{\"marker\": {\"line\": {\"color\": \"#E5ECF6\", \"width\": 0.5}}, \"type\": \"barpolar\"}], \"carpet\": [{\"aaxis\": {\"endlinecolor\": \"#2a3f5f\", \"gridcolor\": \"white\", \"linecolor\": \"white\", \"minorgridcolor\": \"white\", \"startlinecolor\": \"#2a3f5f\"}, \"baxis\": {\"endlinecolor\": \"#2a3f5f\", \"gridcolor\": \"white\", \"linecolor\": \"white\", \"minorgridcolor\": \"white\", \"startlinecolor\": \"#2a3f5f\"}, \"type\": \"carpet\"}], \"choropleth\": [{\"colorbar\": {\"outlinewidth\": 0, \"ticks\": \"\"}, \"type\": \"choropleth\"}], \"contour\": [{\"colorbar\": {\"outlinewidth\": 0, \"ticks\": \"\"}, \"colorscale\": [[0.0, \"#0d0887\"], [0.1111111111111111, \"#46039f\"], [0.2222222222222222, \"#7201a8\"], [0.3333333333333333, \"#9c179e\"], [0.4444444444444444, \"#bd3786\"], [0.5555555555555556, \"#d8576b\"], [0.6666666666666666, \"#ed7953\"], [0.7777777777777778, \"#fb9f3a\"], [0.8888888888888888, \"#fdca26\"], [1.0, \"#f0f921\"]], \"type\": \"contour\"}], \"contourcarpet\": [{\"colorbar\": {\"outlinewidth\": 0, \"ticks\": \"\"}, \"type\": \"contourcarpet\"}], \"heatmap\": [{\"colorbar\": {\"outlinewidth\": 0, \"ticks\": \"\"}, \"colorscale\": [[0.0, \"#0d0887\"], [0.1111111111111111, \"#46039f\"], [0.2222222222222222, \"#7201a8\"], [0.3333333333333333, \"#9c179e\"], [0.4444444444444444, \"#bd3786\"], [0.5555555555555556, \"#d8576b\"], [0.6666666666666666, \"#ed7953\"], [0.7777777777777778, \"#fb9f3a\"], [0.8888888888888888, \"#fdca26\"], [1.0, \"#f0f921\"]], \"type\": \"heatmap\"}], \"heatmapgl\": [{\"colorbar\": {\"outlinewidth\": 0, \"ticks\": \"\"}, \"colorscale\": [[0.0, \"#0d0887\"], [0.1111111111111111, \"#46039f\"], [0.2222222222222222, \"#7201a8\"], [0.3333333333333333, \"#9c179e\"], [0.4444444444444444, \"#bd3786\"], [0.5555555555555556, \"#d8576b\"], [0.6666666666666666, \"#ed7953\"], [0.7777777777777778, \"#fb9f3a\"], [0.8888888888888888, \"#fdca26\"], [1.0, \"#f0f921\"]], \"type\": \"heatmapgl\"}], \"histogram\": [{\"marker\": {\"colorbar\": {\"outlinewidth\": 0, \"ticks\": \"\"}}, \"type\": \"histogram\"}], \"histogram2d\": [{\"colorbar\": {\"outlinewidth\": 0, \"ticks\": \"\"}, \"colorscale\": [[0.0, \"#0d0887\"], [0.1111111111111111, \"#46039f\"], [0.2222222222222222, \"#7201a8\"], [0.3333333333333333, \"#9c179e\"], [0.4444444444444444, \"#bd3786\"], [0.5555555555555556, \"#d8576b\"], [0.6666666666666666, \"#ed7953\"], [0.7777777777777778, \"#fb9f3a\"], [0.8888888888888888, \"#fdca26\"], [1.0, \"#f0f921\"]], \"type\": \"histogram2d\"}], \"histogram2dcontour\": [{\"colorbar\": {\"outlinewidth\": 0, \"ticks\": \"\"}, \"colorscale\": [[0.0, \"#0d0887\"], [0.1111111111111111, \"#46039f\"], [0.2222222222222222, \"#7201a8\"], [0.3333333333333333, \"#9c179e\"], [0.4444444444444444, \"#bd3786\"], [0.5555555555555556, \"#d8576b\"], [0.6666666666666666, \"#ed7953\"], [0.7777777777777778, \"#fb9f3a\"], [0.8888888888888888, \"#fdca26\"], [1.0, \"#f0f921\"]], \"type\": \"histogram2dcontour\"}], \"mesh3d\": [{\"colorbar\": {\"outlinewidth\": 0, \"ticks\": \"\"}, \"type\": \"mesh3d\"}], \"parcoords\": [{\"line\": {\"colorbar\": {\"outlinewidth\": 0, \"ticks\": \"\"}}, \"type\": \"parcoords\"}], \"pie\": [{\"automargin\": true, \"type\": \"pie\"}], \"scatter\": [{\"marker\": {\"colorbar\": {\"outlinewidth\": 0, \"ticks\": \"\"}}, \"type\": \"scatter\"}], \"scatter3d\": [{\"line\": {\"colorbar\": {\"outlinewidth\": 0, \"ticks\": \"\"}}, \"marker\": {\"colorbar\": {\"outlinewidth\": 0, \"ticks\": \"\"}}, \"type\": \"scatter3d\"}], \"scattercarpet\": [{\"marker\": {\"colorbar\": {\"outlinewidth\": 0, \"ticks\": \"\"}}, \"type\": \"scattercarpet\"}], \"scattergeo\": [{\"marker\": {\"colorbar\": {\"outlinewidth\": 0, \"ticks\": \"\"}}, \"type\": \"scattergeo\"}], \"scattergl\": [{\"marker\": {\"colorbar\": {\"outlinewidth\": 0, \"ticks\": \"\"}}, \"type\": \"scattergl\"}], \"scattermapbox\": [{\"marker\": {\"colorbar\": {\"outlinewidth\": 0, \"ticks\": \"\"}}, \"type\": \"scattermapbox\"}], \"scatterpolar\": [{\"marker\": {\"colorbar\": {\"outlinewidth\": 0, \"ticks\": \"\"}}, \"type\": \"scatterpolar\"}], \"scatterpolargl\": [{\"marker\": {\"colorbar\": {\"outlinewidth\": 0, \"ticks\": \"\"}}, \"type\": \"scatterpolargl\"}], \"scatterternary\": [{\"marker\": {\"colorbar\": {\"outlinewidth\": 0, \"ticks\": \"\"}}, \"type\": \"scatterternary\"}], \"surface\": [{\"colorbar\": {\"outlinewidth\": 0, \"ticks\": \"\"}, \"colorscale\": [[0.0, \"#0d0887\"], [0.1111111111111111, \"#46039f\"], [0.2222222222222222, \"#7201a8\"], [0.3333333333333333, \"#9c179e\"], [0.4444444444444444, \"#bd3786\"], [0.5555555555555556, \"#d8576b\"], [0.6666666666666666, \"#ed7953\"], [0.7777777777777778, \"#fb9f3a\"], [0.8888888888888888, \"#fdca26\"], [1.0, \"#f0f921\"]], \"type\": \"surface\"}], \"table\": [{\"cells\": {\"fill\": {\"color\": \"#EBF0F8\"}, \"line\": {\"color\": \"white\"}}, \"header\": {\"fill\": {\"color\": \"#C8D4E3\"}, \"line\": {\"color\": \"white\"}}, \"type\": \"table\"}]}, \"layout\": {\"annotationdefaults\": {\"arrowcolor\": \"#2a3f5f\", \"arrowhead\": 0, \"arrowwidth\": 1}, \"autotypenumbers\": \"strict\", \"coloraxis\": {\"colorbar\": {\"outlinewidth\": 0, \"ticks\": \"\"}}, \"colorscale\": {\"diverging\": [[0, \"#8e0152\"], [0.1, \"#c51b7d\"], [0.2, \"#de77ae\"], [0.3, \"#f1b6da\"], [0.4, \"#fde0ef\"], [0.5, \"#f7f7f7\"], [0.6, \"#e6f5d0\"], [0.7, \"#b8e186\"], [0.8, \"#7fbc41\"], [0.9, \"#4d9221\"], [1, \"#276419\"]], \"sequential\": [[0.0, \"#0d0887\"], [0.1111111111111111, \"#46039f\"], [0.2222222222222222, \"#7201a8\"], [0.3333333333333333, \"#9c179e\"], [0.4444444444444444, \"#bd3786\"], [0.5555555555555556, \"#d8576b\"], [0.6666666666666666, \"#ed7953\"], [0.7777777777777778, \"#fb9f3a\"], [0.8888888888888888, \"#fdca26\"], [1.0, \"#f0f921\"]], \"sequentialminus\": [[0.0, \"#0d0887\"], [0.1111111111111111, \"#46039f\"], [0.2222222222222222, \"#7201a8\"], [0.3333333333333333, \"#9c179e\"], [0.4444444444444444, \"#bd3786\"], [0.5555555555555556, \"#d8576b\"], [0.6666666666666666, \"#ed7953\"], [0.7777777777777778, \"#fb9f3a\"], [0.8888888888888888, \"#fdca26\"], [1.0, \"#f0f921\"]]}, \"colorway\": [\"#636efa\", \"#EF553B\", \"#00cc96\", \"#ab63fa\", \"#FFA15A\", \"#19d3f3\", \"#FF6692\", \"#B6E880\", \"#FF97FF\", \"#FECB52\"], \"font\": {\"color\": \"#2a3f5f\"}, \"geo\": {\"bgcolor\": \"white\", \"lakecolor\": \"white\", \"landcolor\": \"#E5ECF6\", \"showlakes\": true, \"showland\": true, \"subunitcolor\": \"white\"}, \"hoverlabel\": {\"align\": \"left\"}, \"hovermode\": \"closest\", \"mapbox\": {\"style\": \"light\"}, \"paper_bgcolor\": \"white\", \"plot_bgcolor\": \"#E5ECF6\", \"polar\": {\"angularaxis\": {\"gridcolor\": \"white\", \"linecolor\": \"white\", \"ticks\": \"\"}, \"bgcolor\": \"#E5ECF6\", \"radialaxis\": {\"gridcolor\": \"white\", \"linecolor\": \"white\", \"ticks\": \"\"}}, \"scene\": {\"xaxis\": {\"backgroundcolor\": \"#E5ECF6\", \"gridcolor\": \"white\", \"gridwidth\": 2, \"linecolor\": \"white\", \"showbackground\": true, \"ticks\": \"\", \"zerolinecolor\": \"white\"}, \"yaxis\": {\"backgroundcolor\": \"#E5ECF6\", \"gridcolor\": \"white\", \"gridwidth\": 2, \"linecolor\": \"white\", \"showbackground\": true, \"ticks\": \"\", \"zerolinecolor\": \"white\"}, \"zaxis\": {\"backgroundcolor\": \"#E5ECF6\", \"gridcolor\": \"white\", \"gridwidth\": 2, \"linecolor\": \"white\", \"showbackground\": true, \"ticks\": \"\", \"zerolinecolor\": \"white\"}}, \"shapedefaults\": {\"line\": {\"color\": \"#2a3f5f\"}}, \"ternary\": {\"aaxis\": {\"gridcolor\": \"white\", \"linecolor\": \"white\", \"ticks\": \"\"}, \"baxis\": {\"gridcolor\": \"white\", \"linecolor\": \"white\", \"ticks\": \"\"}, \"bgcolor\": \"#E5ECF6\", \"caxis\": {\"gridcolor\": \"white\", \"linecolor\": \"white\", \"ticks\": \"\"}}, \"title\": {\"x\": 0.05}, \"xaxis\": {\"automargin\": true, \"gridcolor\": \"white\", \"linecolor\": \"white\", \"ticks\": \"\", \"title\": {\"standoff\": 15}, \"zerolinecolor\": \"white\", \"zerolinewidth\": 2}, \"yaxis\": {\"automargin\": true, \"gridcolor\": \"white\", \"linecolor\": \"white\", \"ticks\": \"\", \"title\": {\"standoff\": 15}, \"zerolinecolor\": \"white\", \"zerolinewidth\": 2}}}},                        {\"responsive\": true}                    ).then(function(){\n",
       "                            \n",
       "var gd = document.getElementById('c95a1c97-1d1b-4cae-9a33-c6e16821cf59');\n",
       "var x = new MutationObserver(function (mutations, observer) {{\n",
       "        var display = window.getComputedStyle(gd).display;\n",
       "        if (!display || display === 'none') {{\n",
       "            console.log([gd, 'removed!']);\n",
       "            Plotly.purge(gd);\n",
       "            observer.disconnect();\n",
       "        }}\n",
       "}});\n",
       "\n",
       "// Listen for the removal of the full notebook cells\n",
       "var notebookContainer = gd.closest('#notebook-container');\n",
       "if (notebookContainer) {{\n",
       "    x.observe(notebookContainer, {childList: true});\n",
       "}}\n",
       "\n",
       "// Listen for the clearing of the current output cell\n",
       "var outputEl = gd.closest('.output');\n",
       "if (outputEl) {{\n",
       "    x.observe(outputEl, {childList: true});\n",
       "}}\n",
       "\n",
       "                        })                };                });            </script>        </div>"
      ]
     },
     "metadata": {},
     "output_type": "display_data"
    }
   ],
   "source": [
    "fig3 = go.Figure()\n",
    "\n",
    "x = years[5:]\n",
    "\n",
    "for i in range(5):\n",
    "    fig3.add_trace(go.Scatter(x=x, y=ratings[i], name=pl_champs[i],\n",
    "                    line_shape='linear'))\n",
    "fig3.update_traces(hoverinfo='text+name', mode='lines+markers')\n",
    "fig3.update_layout(legend=dict(y=0.5, traceorder='reversed', font_size=16))"
   ]
  },
  {
   "cell_type": "markdown",
   "metadata": {},
   "source": [
    "### In the 16/17 season, Manchester United had by far the highest rated team in the PL and yet they finished 6th in the league. Let's look at how the squad actually compared to the top 3 teams that season."
   ]
  },
  {
   "cell_type": "code",
   "execution_count": 145,
   "metadata": {},
   "outputs": [
    {
     "data": {
      "text/html": [
       "\n",
       "        <script>\n",
       "            function code_toggle_16205272072824611256() {\n",
       "                $('div.cell.code_cell.rendered.selected').find('div.input').toggle();\n",
       "            }\n",
       "\n",
       "            \n",
       "        </script>\n",
       "\n",
       "        <a href=\"javascript:code_toggle_16205272072824611256()\">Toggle show/hide</a>\n",
       "    "
      ],
      "text/plain": [
       "<IPython.core.display.HTML object>"
      ]
     },
     "execution_count": 145,
     "metadata": {},
     "output_type": "execute_result"
    }
   ],
   "source": [
    "def display_side_by_side(*args):\n",
    "    html_str=''\n",
    "    for df in args:\n",
    "        html_str+=df.to_html()\n",
    "    display_html(html_str.replace('table','table style=\"display:inline\"'),raw=True)\n",
    "    \n",
    "hide_toggle()"
   ]
  },
  {
   "cell_type": "code",
   "execution_count": 143,
   "metadata": {},
   "outputs": [
    {
     "data": {
      "text/html": [
       "\n",
       "        <script>\n",
       "            function code_toggle_4191769392482703221() {\n",
       "                $('div.cell.code_cell.rendered.selected').find('div.input').toggle();\n",
       "            }\n",
       "\n",
       "            \n",
       "        </script>\n",
       "\n",
       "        <a href=\"javascript:code_toggle_4191769392482703221()\">Toggle show/hide</a>\n",
       "    "
      ],
      "text/plain": [
       "<IPython.core.display.HTML object>"
      ]
     },
     "execution_count": 143,
     "metadata": {},
     "output_type": "execute_result"
    }
   ],
   "source": [
    "mu_16_17=df17.loc[df17['club']==\"Manchester United\"].sort_values(by = ['overall'],ascending=False)\n",
    "mu_16_17 = mu_16_17[['short_name','overall']].style.background_gradient(cmap=\"Reds\").set_table_attributes(\"style='display:inline'\").set_caption('16/17 Man Utd (6th) ')\n",
    "\n",
    "\n",
    "mc_16_17=df17.loc[df17['club']==\"Manchester City\"].sort_values(by = ['overall'],ascending=False)\n",
    "mc_16_17 = mc_16_17[['short_name','overall']].style.background_gradient(cmap=\"cool\").set_table_attributes(\"style='display:inline'\").set_caption('Man City (3rd)')\n",
    "\n",
    "cfc_16_17=df17.loc[df17['club']==\"Chelsea\"].sort_values(by = ['overall'],ascending=False)\n",
    "cfc_16_17 = cfc_16_17[['short_name','overall']].style.background_gradient(cmap=\"Blues\").set_table_attributes(\"style='display:inline'\").set_caption('Chelsea (1st)')\n",
    "\n",
    "spurs_16_17=df17.loc[df17['club']==\"Tottenham Hotspur\"].sort_values(by = ['overall'],ascending=False)\n",
    "spurs_16_17 = spurs_16_17[['short_name','overall']].style.background_gradient(cmap=\"gray\").set_table_attributes(\"style='display:inline'\").set_caption('Spurs (2nd)')\n",
    "\n",
    "hide_toggle()"
   ]
  },
  {
   "cell_type": "code",
   "execution_count": 144,
   "metadata": {},
   "outputs": [
    {
     "data": {
      "text/html": [
       "<style  type=\"text/css\" >\n",
       "#T_e4156_row0_col1,#T_e4156_row1_col1{\n",
       "            background-color:  #67000d;\n",
       "            color:  #f1f1f1;\n",
       "        }#T_e4156_row2_col1{\n",
       "            background-color:  #840711;\n",
       "            color:  #f1f1f1;\n",
       "        }#T_e4156_row3_col1{\n",
       "            background-color:  #ac1117;\n",
       "            color:  #f1f1f1;\n",
       "        }#T_e4156_row4_col1,#T_e4156_row5_col1,#T_e4156_row6_col1{\n",
       "            background-color:  #b61319;\n",
       "            color:  #f1f1f1;\n",
       "        }#T_e4156_row7_col1{\n",
       "            background-color:  #bf151b;\n",
       "            color:  #f1f1f1;\n",
       "        }#T_e4156_row8_col1,#T_e4156_row9_col1,#T_e4156_row10_col1,#T_e4156_row11_col1{\n",
       "            background-color:  #c9181d;\n",
       "            color:  #f1f1f1;\n",
       "        }#T_e4156_row12_col1,#T_e4156_row13_col1,#T_e4156_row14_col1{\n",
       "            background-color:  #d11e1f;\n",
       "            color:  #f1f1f1;\n",
       "        }#T_e4156_row15_col1,#T_e4156_row16_col1,#T_e4156_row17_col1{\n",
       "            background-color:  #da2723;\n",
       "            color:  #f1f1f1;\n",
       "        }#T_e4156_row18_col1,#T_e4156_row19_col1,#T_e4156_row20_col1{\n",
       "            background-color:  #e32f27;\n",
       "            color:  #f1f1f1;\n",
       "        }#T_e4156_row21_col1,#T_e4156_row22_col1{\n",
       "            background-color:  #ec382b;\n",
       "            color:  #f1f1f1;\n",
       "        }#T_e4156_row23_col1{\n",
       "            background-color:  #f14130;\n",
       "            color:  #f1f1f1;\n",
       "        }#T_e4156_row24_col1{\n",
       "            background-color:  #f44d38;\n",
       "            color:  #000000;\n",
       "        }#T_e4156_row25_col1{\n",
       "            background-color:  #fc8262;\n",
       "            color:  #000000;\n",
       "        }#T_e4156_row26_col1{\n",
       "            background-color:  #fca082;\n",
       "            color:  #000000;\n",
       "        }#T_e4156_row27_col1{\n",
       "            background-color:  #fcaa8d;\n",
       "            color:  #000000;\n",
       "        }#T_e4156_row28_col1{\n",
       "            background-color:  #fdc6b0;\n",
       "            color:  #000000;\n",
       "        }#T_e4156_row29_col1{\n",
       "            background-color:  #fdd0bc;\n",
       "            color:  #000000;\n",
       "        }#T_e4156_row30_col1{\n",
       "            background-color:  #fff0e9;\n",
       "            color:  #000000;\n",
       "        }#T_e4156_row31_col1{\n",
       "            background-color:  #fff5f0;\n",
       "            color:  #000000;\n",
       "        }</style><table id=\"T_e4156_\" style='display:inline'><caption>16/17 Man Utd (6th) </caption><thead>    <tr>        <th class=\"blank level0\" ></th>        <th class=\"col_heading level0 col0\" >short_name</th>        <th class=\"col_heading level0 col1\" >overall</th>    </tr></thead><tbody>\n",
       "                <tr>\n",
       "                        <th id=\"T_e4156_level0_row0\" class=\"row_heading level0 row0\" >5</th>\n",
       "                        <td id=\"T_e4156_row0_col0\" class=\"data row0 col0\" >De Gea</td>\n",
       "                        <td id=\"T_e4156_row0_col1\" class=\"data row0 col1\" >90</td>\n",
       "            </tr>\n",
       "            <tr>\n",
       "                        <th id=\"T_e4156_level0_row1\" class=\"row_heading level0 row1\" >6</th>\n",
       "                        <td id=\"T_e4156_row1_col0\" class=\"data row1 col0\" >Z. Ibrahimović</td>\n",
       "                        <td id=\"T_e4156_row1_col1\" class=\"data row1 col1\" >90</td>\n",
       "            </tr>\n",
       "            <tr>\n",
       "                        <th id=\"T_e4156_level0_row2\" class=\"row_heading level0 row2\" >16</th>\n",
       "                        <td id=\"T_e4156_row2_col0\" class=\"data row2 col0\" >P. Pogba</td>\n",
       "                        <td id=\"T_e4156_row2_col1\" class=\"data row2 col1\" >88</td>\n",
       "            </tr>\n",
       "            <tr>\n",
       "                        <th id=\"T_e4156_level0_row3\" class=\"row_heading level0 row3\" >81</th>\n",
       "                        <td id=\"T_e4156_row3_col0\" class=\"data row3 col0\" >H. Mkhitaryan</td>\n",
       "                        <td id=\"T_e4156_row3_col1\" class=\"data row3 col1\" >85</td>\n",
       "            </tr>\n",
       "            <tr>\n",
       "                        <th id=\"T_e4156_level0_row4\" class=\"row_heading level0 row4\" >105</th>\n",
       "                        <td id=\"T_e4156_row4_col0\" class=\"data row4 col0\" >C. Smalling</td>\n",
       "                        <td id=\"T_e4156_row4_col1\" class=\"data row4 col1\" >84</td>\n",
       "            </tr>\n",
       "            <tr>\n",
       "                        <th id=\"T_e4156_level0_row5\" class=\"row_heading level0 row5\" >111</th>\n",
       "                        <td id=\"T_e4156_row5_col0\" class=\"data row5 col0\" >W. Rooney</td>\n",
       "                        <td id=\"T_e4156_row5_col1\" class=\"data row5 col1\" >84</td>\n",
       "            </tr>\n",
       "            <tr>\n",
       "                        <th id=\"T_e4156_level0_row6\" class=\"row_heading level0 row6\" >121</th>\n",
       "                        <td id=\"T_e4156_row6_col0\" class=\"data row6 col0\" >Juan Mata</td>\n",
       "                        <td id=\"T_e4156_row6_col1\" class=\"data row6 col1\" >84</td>\n",
       "            </tr>\n",
       "            <tr>\n",
       "                        <th id=\"T_e4156_level0_row7\" class=\"row_heading level0 row7\" >153</th>\n",
       "                        <td id=\"T_e4156_row7_col0\" class=\"data row7 col0\" >B. Schweinsteiger</td>\n",
       "                        <td id=\"T_e4156_row7_col1\" class=\"data row7 col1\" >83</td>\n",
       "            </tr>\n",
       "            <tr>\n",
       "                        <th id=\"T_e4156_level0_row8\" class=\"row_heading level0 row8\" >190</th>\n",
       "                        <td id=\"T_e4156_row8_col0\" class=\"data row8 col0\" >A. Martial</td>\n",
       "                        <td id=\"T_e4156_row8_col1\" class=\"data row8 col1\" >82</td>\n",
       "            </tr>\n",
       "            <tr>\n",
       "                        <th id=\"T_e4156_level0_row9\" class=\"row_heading level0 row9\" >191</th>\n",
       "                        <td id=\"T_e4156_row9_col0\" class=\"data row9 col0\" >E. Bailly</td>\n",
       "                        <td id=\"T_e4156_row9_col1\" class=\"data row9 col1\" >82</td>\n",
       "            </tr>\n",
       "            <tr>\n",
       "                        <th id=\"T_e4156_level0_row10\" class=\"row_heading level0 row10\" >215</th>\n",
       "                        <td id=\"T_e4156_row10_col0\" class=\"data row10 col0\" >M. Schneiderlin</td>\n",
       "                        <td id=\"T_e4156_row10_col1\" class=\"data row10 col1\" >82</td>\n",
       "            </tr>\n",
       "            <tr>\n",
       "                        <th id=\"T_e4156_level0_row11\" class=\"row_heading level0 row11\" >226</th>\n",
       "                        <td id=\"T_e4156_row11_col0\" class=\"data row11 col0\" >Ander Herrera</td>\n",
       "                        <td id=\"T_e4156_row11_col1\" class=\"data row11 col1\" >82</td>\n",
       "            </tr>\n",
       "            <tr>\n",
       "                        <th id=\"T_e4156_level0_row12\" class=\"row_heading level0 row12\" >270</th>\n",
       "                        <td id=\"T_e4156_row12_col0\" class=\"data row12 col0\" >L. Shaw</td>\n",
       "                        <td id=\"T_e4156_row12_col1\" class=\"data row12 col1\" >81</td>\n",
       "            </tr>\n",
       "            <tr>\n",
       "                        <th id=\"T_e4156_level0_row13\" class=\"row_heading level0 row13\" >313</th>\n",
       "                        <td id=\"T_e4156_row13_col0\" class=\"data row13 col0\" >D. Blind</td>\n",
       "                        <td id=\"T_e4156_row13_col1\" class=\"data row13 col1\" >81</td>\n",
       "            </tr>\n",
       "            <tr>\n",
       "                        <th id=\"T_e4156_level0_row14\" class=\"row_heading level0 row14\" >337</th>\n",
       "                        <td id=\"T_e4156_row14_col0\" class=\"data row14 col0\" >M. Carrick</td>\n",
       "                        <td id=\"T_e4156_row14_col1\" class=\"data row14 col1\" >81</td>\n",
       "            </tr>\n",
       "            <tr>\n",
       "                        <th id=\"T_e4156_level0_row15\" class=\"row_heading level0 row15\" >481</th>\n",
       "                        <td id=\"T_e4156_row15_col0\" class=\"data row15 col0\" >A. Valencia</td>\n",
       "                        <td id=\"T_e4156_row15_col1\" class=\"data row15 col1\" >80</td>\n",
       "            </tr>\n",
       "            <tr>\n",
       "                        <th id=\"T_e4156_level0_row16\" class=\"row_heading level0 row16\" >430</th>\n",
       "                        <td id=\"T_e4156_row16_col0\" class=\"data row16 col0\" >M. Darmian</td>\n",
       "                        <td id=\"T_e4156_row16_col1\" class=\"data row16 col1\" >80</td>\n",
       "            </tr>\n",
       "            <tr>\n",
       "                        <th id=\"T_e4156_level0_row17\" class=\"row_heading level0 row17\" >388</th>\n",
       "                        <td id=\"T_e4156_row17_col0\" class=\"data row17 col0\" >M. Depay</td>\n",
       "                        <td id=\"T_e4156_row17_col1\" class=\"data row17 col1\" >80</td>\n",
       "            </tr>\n",
       "            <tr>\n",
       "                        <th id=\"T_e4156_level0_row18\" class=\"row_heading level0 row18\" >569</th>\n",
       "                        <td id=\"T_e4156_row18_col0\" class=\"data row18 col0\" >P. Jones</td>\n",
       "                        <td id=\"T_e4156_row18_col1\" class=\"data row18 col1\" >79</td>\n",
       "            </tr>\n",
       "            <tr>\n",
       "                        <th id=\"T_e4156_level0_row19\" class=\"row_heading level0 row19\" >641</th>\n",
       "                        <td id=\"T_e4156_row19_col0\" class=\"data row19 col0\" >A. Young</td>\n",
       "                        <td id=\"T_e4156_row19_col1\" class=\"data row19 col1\" >79</td>\n",
       "            </tr>\n",
       "            <tr>\n",
       "                        <th id=\"T_e4156_level0_row20\" class=\"row_heading level0 row20\" >667</th>\n",
       "                        <td id=\"T_e4156_row20_col0\" class=\"data row20 col0\" >S. Romero</td>\n",
       "                        <td id=\"T_e4156_row20_col1\" class=\"data row20 col1\" >79</td>\n",
       "            </tr>\n",
       "            <tr>\n",
       "                        <th id=\"T_e4156_level0_row21\" class=\"row_heading level0 row21\" >794</th>\n",
       "                        <td id=\"T_e4156_row21_col0\" class=\"data row21 col0\" >M. Rojo</td>\n",
       "                        <td id=\"T_e4156_row21_col1\" class=\"data row21 col1\" >78</td>\n",
       "            </tr>\n",
       "            <tr>\n",
       "                        <th id=\"T_e4156_level0_row22\" class=\"row_heading level0 row22\" >892</th>\n",
       "                        <td id=\"T_e4156_row22_col0\" class=\"data row22 col0\" >M. Fellaini</td>\n",
       "                        <td id=\"T_e4156_row22_col1\" class=\"data row22 col1\" >78</td>\n",
       "            </tr>\n",
       "            <tr>\n",
       "                        <th id=\"T_e4156_level0_row23\" class=\"row_heading level0 row23\" >972</th>\n",
       "                        <td id=\"T_e4156_row23_col0\" class=\"data row23 col0\" >J. Lingard</td>\n",
       "                        <td id=\"T_e4156_row23_col1\" class=\"data row23 col1\" >77</td>\n",
       "            </tr>\n",
       "            <tr>\n",
       "                        <th id=\"T_e4156_level0_row24\" class=\"row_heading level0 row24\" >1236</th>\n",
       "                        <td id=\"T_e4156_row24_col0\" class=\"data row24 col0\" >M. Rashford</td>\n",
       "                        <td id=\"T_e4156_row24_col1\" class=\"data row24 col1\" >76</td>\n",
       "            </tr>\n",
       "            <tr>\n",
       "                        <th id=\"T_e4156_level0_row25\" class=\"row_heading level0 row25\" >3900</th>\n",
       "                        <td id=\"T_e4156_row25_col0\" class=\"data row25 col0\" >T. Fosu-Mensah</td>\n",
       "                        <td id=\"T_e4156_row25_col1\" class=\"data row25 col1\" >71</td>\n",
       "            </tr>\n",
       "            <tr>\n",
       "                        <th id=\"T_e4156_level0_row26\" class=\"row_heading level0 row26\" >6386</th>\n",
       "                        <td id=\"T_e4156_row26_col0\" class=\"data row26 col0\" >S. Johnstone</td>\n",
       "                        <td id=\"T_e4156_row26_col1\" class=\"data row26 col1\" >68</td>\n",
       "            </tr>\n",
       "            <tr>\n",
       "                        <th id=\"T_e4156_level0_row27\" class=\"row_heading level0 row27\" >7313</th>\n",
       "                        <td id=\"T_e4156_row27_col0\" class=\"data row27 col0\" >A. Tuanzebe</td>\n",
       "                        <td id=\"T_e4156_row27_col1\" class=\"data row27 col1\" >67</td>\n",
       "            </tr>\n",
       "            <tr>\n",
       "                        <th id=\"T_e4156_level0_row28\" class=\"row_heading level0 row28\" >10340</th>\n",
       "                        <td id=\"T_e4156_row28_col0\" class=\"data row28 col0\" >J. Riley</td>\n",
       "                        <td id=\"T_e4156_row28_col1\" class=\"data row28 col1\" >64</td>\n",
       "            </tr>\n",
       "            <tr>\n",
       "                        <th id=\"T_e4156_level0_row29\" class=\"row_heading level0 row29\" >11278</th>\n",
       "                        <td id=\"T_e4156_row29_col0\" class=\"data row29 col0\" >R. Poole</td>\n",
       "                        <td id=\"T_e4156_row29_col1\" class=\"data row29 col1\" >63</td>\n",
       "            </tr>\n",
       "            <tr>\n",
       "                        <th id=\"T_e4156_level0_row30\" class=\"row_heading level0 row30\" >14587</th>\n",
       "                        <td id=\"T_e4156_row30_col0\" class=\"data row30 col0\" >S. Goss</td>\n",
       "                        <td id=\"T_e4156_row30_col1\" class=\"data row30 col1\" >58</td>\n",
       "            </tr>\n",
       "            <tr>\n",
       "                        <th id=\"T_e4156_level0_row31\" class=\"row_heading level0 row31\" >15124</th>\n",
       "                        <td id=\"T_e4156_row31_col0\" class=\"data row31 col0\" >S. El Fitouri</td>\n",
       "                        <td id=\"T_e4156_row31_col1\" class=\"data row31 col1\" >57</td>\n",
       "            </tr>\n",
       "    </tbody></table><style  type=\"text/css\" >\n",
       "#T_46215_row0_col1{\n",
       "            background-color:  #08306b;\n",
       "            color:  #f1f1f1;\n",
       "        }#T_46215_row1_col1{\n",
       "            background-color:  #083776;\n",
       "            color:  #f1f1f1;\n",
       "        }#T_46215_row2_col1{\n",
       "            background-color:  #08478d;\n",
       "            color:  #f1f1f1;\n",
       "        }#T_46215_row3_col1,#T_46215_row4_col1{\n",
       "            background-color:  #084f99;\n",
       "            color:  #f1f1f1;\n",
       "        }#T_46215_row5_col1,#T_46215_row6_col1,#T_46215_row7_col1,#T_46215_row8_col1{\n",
       "            background-color:  #0c56a0;\n",
       "            color:  #f1f1f1;\n",
       "        }#T_46215_row9_col1,#T_46215_row10_col1,#T_46215_row11_col1,#T_46215_row12_col1{\n",
       "            background-color:  #125ea6;\n",
       "            color:  #f1f1f1;\n",
       "        }#T_46215_row13_col1,#T_46215_row14_col1{\n",
       "            background-color:  #1e6db2;\n",
       "            color:  #f1f1f1;\n",
       "        }#T_46215_row15_col1,#T_46215_row16_col1{\n",
       "            background-color:  #2474b7;\n",
       "            color:  #f1f1f1;\n",
       "        }#T_46215_row17_col1{\n",
       "            background-color:  #3484bf;\n",
       "            color:  #000000;\n",
       "        }#T_46215_row18_col1,#T_46215_row19_col1,#T_46215_row20_col1{\n",
       "            background-color:  #3c8cc3;\n",
       "            color:  #000000;\n",
       "        }#T_46215_row21_col1{\n",
       "            background-color:  #4493c7;\n",
       "            color:  #000000;\n",
       "        }#T_46215_row22_col1{\n",
       "            background-color:  #84bcdb;\n",
       "            color:  #000000;\n",
       "        }#T_46215_row23_col1{\n",
       "            background-color:  #8fc2de;\n",
       "            color:  #000000;\n",
       "        }#T_46215_row24_col1,#T_46215_row25_col1{\n",
       "            background-color:  #9cc9e1;\n",
       "            color:  #000000;\n",
       "        }#T_46215_row26_col1{\n",
       "            background-color:  #c9ddf0;\n",
       "            color:  #000000;\n",
       "        }#T_46215_row27_col1{\n",
       "            background-color:  #d4e4f4;\n",
       "            color:  #000000;\n",
       "        }#T_46215_row28_col1{\n",
       "            background-color:  #dfecf7;\n",
       "            color:  #000000;\n",
       "        }#T_46215_row29_col1{\n",
       "            background-color:  #e6f0f9;\n",
       "            color:  #000000;\n",
       "        }#T_46215_row30_col1,#T_46215_row31_col1{\n",
       "            background-color:  #ebf3fb;\n",
       "            color:  #000000;\n",
       "        }#T_46215_row32_col1{\n",
       "            background-color:  #f7fbff;\n",
       "            color:  #000000;\n",
       "        }</style><table id=\"T_46215_\" style='display:inline'><caption>Chelsea (1st)</caption><thead>    <tr>        <th class=\"blank level0\" ></th>        <th class=\"col_heading level0 col0\" >short_name</th>        <th class=\"col_heading level0 col1\" >overall</th>    </tr></thead><tbody>\n",
       "                <tr>\n",
       "                        <th id=\"T_46215_level0_row0\" class=\"row_heading level0 row0\" >10</th>\n",
       "                        <td id=\"T_46215_row0_col0\" class=\"data row0 col0\" >T. Courtois</td>\n",
       "                        <td id=\"T_46215_row0_col1\" class=\"data row0 col1\" >89</td>\n",
       "            </tr>\n",
       "            <tr>\n",
       "                        <th id=\"T_46215_level0_row1\" class=\"row_heading level0 row1\" >20</th>\n",
       "                        <td id=\"T_46215_row1_col0\" class=\"data row1 col0\" >E. Hazard</td>\n",
       "                        <td id=\"T_46215_row1_col1\" class=\"data row1 col1\" >88</td>\n",
       "            </tr>\n",
       "            <tr>\n",
       "                        <th id=\"T_46215_level0_row2\" class=\"row_heading level0 row2\" >53</th>\n",
       "                        <td id=\"T_46215_row2_col0\" class=\"data row2 col0\" >Cesc Fàbregas</td>\n",
       "                        <td id=\"T_46215_row2_col1\" class=\"data row2 col1\" >86</td>\n",
       "            </tr>\n",
       "            <tr>\n",
       "                        <th id=\"T_46215_level0_row3\" class=\"row_heading level0 row3\" >66</th>\n",
       "                        <td id=\"T_46215_row3_col0\" class=\"data row3 col0\" >Diego Costa</td>\n",
       "                        <td id=\"T_46215_row3_col1\" class=\"data row3 col1\" >85</td>\n",
       "            </tr>\n",
       "            <tr>\n",
       "                        <th id=\"T_46215_level0_row4\" class=\"row_heading level0 row4\" >78</th>\n",
       "                        <td id=\"T_46215_row4_col0\" class=\"data row4 col0\" >Willian</td>\n",
       "                        <td id=\"T_46215_row4_col1\" class=\"data row4 col1\" >85</td>\n",
       "            </tr>\n",
       "            <tr>\n",
       "                        <th id=\"T_46215_level0_row5\" class=\"row_heading level0 row5\" >107</th>\n",
       "                        <td id=\"T_46215_row5_col0\" class=\"data row5 col0\" >J. Terry</td>\n",
       "                        <td id=\"T_46215_row5_col1\" class=\"data row5 col1\" >84</td>\n",
       "            </tr>\n",
       "            <tr>\n",
       "                        <th id=\"T_46215_level0_row6\" class=\"row_heading level0 row6\" >125</th>\n",
       "                        <td id=\"T_46215_row6_col0\" class=\"data row6 col0\" >David Luiz</td>\n",
       "                        <td id=\"T_46215_row6_col1\" class=\"data row6 col1\" >84</td>\n",
       "            </tr>\n",
       "            <tr>\n",
       "                        <th id=\"T_46215_level0_row7\" class=\"row_heading level0 row7\" >126</th>\n",
       "                        <td id=\"T_46215_row7_col0\" class=\"data row7 col0\" >Azpilicueta</td>\n",
       "                        <td id=\"T_46215_row7_col1\" class=\"data row7 col1\" >84</td>\n",
       "            </tr>\n",
       "            <tr>\n",
       "                        <th id=\"T_46215_level0_row8\" class=\"row_heading level0 row8\" >127</th>\n",
       "                        <td id=\"T_46215_row8_col0\" class=\"data row8 col0\" >N. Matić</td>\n",
       "                        <td id=\"T_46215_row8_col1\" class=\"data row8 col1\" >84</td>\n",
       "            </tr>\n",
       "            <tr>\n",
       "                        <th id=\"T_46215_level0_row9\" class=\"row_heading level0 row9\" >136</th>\n",
       "                        <td id=\"T_46215_row9_col0\" class=\"data row9 col0\" >Oscar</td>\n",
       "                        <td id=\"T_46215_row9_col1\" class=\"data row9 col1\" >83</td>\n",
       "            </tr>\n",
       "            <tr>\n",
       "                        <th id=\"T_46215_level0_row10\" class=\"row_heading level0 row10\" >166</th>\n",
       "                        <td id=\"T_46215_row10_col0\" class=\"data row10 col0\" >G. Cahill</td>\n",
       "                        <td id=\"T_46215_row10_col1\" class=\"data row10 col1\" >83</td>\n",
       "            </tr>\n",
       "            <tr>\n",
       "                        <th id=\"T_46215_level0_row11\" class=\"row_heading level0 row11\" >169</th>\n",
       "                        <td id=\"T_46215_row11_col0\" class=\"data row11 col0\" >A. Begović</td>\n",
       "                        <td id=\"T_46215_row11_col1\" class=\"data row11 col1\" >83</td>\n",
       "            </tr>\n",
       "            <tr>\n",
       "                        <th id=\"T_46215_level0_row12\" class=\"row_heading level0 row12\" >184</th>\n",
       "                        <td id=\"T_46215_row12_col0\" class=\"data row12 col0\" >Pedro</td>\n",
       "                        <td id=\"T_46215_row12_col1\" class=\"data row12 col1\" >83</td>\n",
       "            </tr>\n",
       "            <tr>\n",
       "                        <th id=\"T_46215_level0_row13\" class=\"row_heading level0 row13\" >281</th>\n",
       "                        <td id=\"T_46215_row13_col0\" class=\"data row13 col0\" >M. Batshuayi</td>\n",
       "                        <td id=\"T_46215_row13_col1\" class=\"data row13 col1\" >81</td>\n",
       "            </tr>\n",
       "            <tr>\n",
       "                        <th id=\"T_46215_level0_row14\" class=\"row_heading level0 row14\" >292</th>\n",
       "                        <td id=\"T_46215_row14_col0\" class=\"data row14 col0\" >N. Kanté</td>\n",
       "                        <td id=\"T_46215_row14_col1\" class=\"data row14 col1\" >81</td>\n",
       "            </tr>\n",
       "            <tr>\n",
       "                        <th id=\"T_46215_level0_row15\" class=\"row_heading level0 row15\" >497</th>\n",
       "                        <td id=\"T_46215_row15_col0\" class=\"data row15 col0\" >B. Ivanović</td>\n",
       "                        <td id=\"T_46215_row15_col1\" class=\"data row15 col1\" >80</td>\n",
       "            </tr>\n",
       "            <tr>\n",
       "                        <th id=\"T_46215_level0_row16\" class=\"row_heading level0 row16\" >383</th>\n",
       "                        <td id=\"T_46215_row16_col0\" class=\"data row16 col0\" >K. Zouma</td>\n",
       "                        <td id=\"T_46215_row16_col1\" class=\"data row16 col1\" >80</td>\n",
       "            </tr>\n",
       "            <tr>\n",
       "                        <th id=\"T_46215_level0_row17\" class=\"row_heading level0 row17\" >864</th>\n",
       "                        <td id=\"T_46215_row17_col0\" class=\"data row17 col0\" >J. Mikel</td>\n",
       "                        <td id=\"T_46215_row17_col1\" class=\"data row17 col1\" >78</td>\n",
       "            </tr>\n",
       "            <tr>\n",
       "                        <th id=\"T_46215_level0_row18\" class=\"row_heading level0 row18\" >964</th>\n",
       "                        <td id=\"T_46215_row18_col0\" class=\"data row18 col0\" >M. van Ginkel</td>\n",
       "                        <td id=\"T_46215_row18_col1\" class=\"data row18 col1\" >77</td>\n",
       "            </tr>\n",
       "            <tr>\n",
       "                        <th id=\"T_46215_level0_row19\" class=\"row_heading level0 row19\" >1013</th>\n",
       "                        <td id=\"T_46215_row19_col0\" class=\"data row19 col0\" >V. Moses</td>\n",
       "                        <td id=\"T_46215_row19_col1\" class=\"data row19 col1\" >77</td>\n",
       "            </tr>\n",
       "            <tr>\n",
       "                        <th id=\"T_46215_level0_row20\" class=\"row_heading level0 row20\" >1021</th>\n",
       "                        <td id=\"T_46215_row20_col0\" class=\"data row20 col0\" >Marcos Alonso</td>\n",
       "                        <td id=\"T_46215_row20_col1\" class=\"data row20 col1\" >77</td>\n",
       "            </tr>\n",
       "            <tr>\n",
       "                        <th id=\"T_46215_level0_row21\" class=\"row_heading level0 row21\" >1507</th>\n",
       "                        <td id=\"T_46215_row21_col0\" class=\"data row21 col0\" >Eduardo</td>\n",
       "                        <td id=\"T_46215_row21_col1\" class=\"data row21 col1\" >76</td>\n",
       "            </tr>\n",
       "            <tr>\n",
       "                        <th id=\"T_46215_level0_row22\" class=\"row_heading level0 row22\" >4766</th>\n",
       "                        <td id=\"T_46215_row22_col0\" class=\"data row22 col0\" >T. Kane</td>\n",
       "                        <td id=\"T_46215_row22_col1\" class=\"data row22 col1\" >70</td>\n",
       "            </tr>\n",
       "            <tr>\n",
       "                        <th id=\"T_46215_level0_row23\" class=\"row_heading level0 row23\" >5456</th>\n",
       "                        <td id=\"T_46215_row23_col0\" class=\"data row23 col0\" >D. Solanke</td>\n",
       "                        <td id=\"T_46215_row23_col1\" class=\"data row23 col1\" >69</td>\n",
       "            </tr>\n",
       "            <tr>\n",
       "                        <th id=\"T_46215_level0_row24\" class=\"row_heading level0 row24\" >6358</th>\n",
       "                        <td id=\"T_46215_row24_col0\" class=\"data row24 col0\" >N. Chalobah</td>\n",
       "                        <td id=\"T_46215_row24_col1\" class=\"data row24 col1\" >68</td>\n",
       "            </tr>\n",
       "            <tr>\n",
       "                        <th id=\"T_46215_level0_row25\" class=\"row_heading level0 row25\" >6344</th>\n",
       "                        <td id=\"T_46215_row25_col0\" class=\"data row25 col0\" >R. Loftus-Cheek</td>\n",
       "                        <td id=\"T_46215_row25_col1\" class=\"data row25 col1\" >68</td>\n",
       "            </tr>\n",
       "            <tr>\n",
       "                        <th id=\"T_46215_level0_row26\" class=\"row_heading level0 row26\" >11300</th>\n",
       "                        <td id=\"T_46215_row26_col0\" class=\"data row26 col0\" >O. Aina</td>\n",
       "                        <td id=\"T_46215_row26_col1\" class=\"data row26 col1\" >63</td>\n",
       "            </tr>\n",
       "            <tr>\n",
       "                        <th id=\"T_46215_level0_row27\" class=\"row_heading level0 row27\" >12802</th>\n",
       "                        <td id=\"T_46215_row27_col0\" class=\"data row27 col0\" >F. Tomori</td>\n",
       "                        <td id=\"T_46215_row27_col1\" class=\"data row27 col1\" >61</td>\n",
       "            </tr>\n",
       "            <tr>\n",
       "                        <th id=\"T_46215_level0_row28\" class=\"row_heading level0 row28\" >14058</th>\n",
       "                        <td id=\"T_46215_row28_col0\" class=\"data row28 col0\" >J. Dasilva</td>\n",
       "                        <td id=\"T_46215_row28_col1\" class=\"data row28 col1\" >59</td>\n",
       "            </tr>\n",
       "            <tr>\n",
       "                        <th id=\"T_46215_level0_row29\" class=\"row_heading level0 row29\" >14536</th>\n",
       "                        <td id=\"T_46215_row29_col0\" class=\"data row29 col0\" >K. Scott</td>\n",
       "                        <td id=\"T_46215_row29_col1\" class=\"data row29 col1\" >58</td>\n",
       "            </tr>\n",
       "            <tr>\n",
       "                        <th id=\"T_46215_level0_row30\" class=\"row_heading level0 row30\" >14997</th>\n",
       "                        <td id=\"T_46215_row30_col0\" class=\"data row30 col0\" >M. Mount</td>\n",
       "                        <td id=\"T_46215_row30_col1\" class=\"data row30 col1\" >57</td>\n",
       "            </tr>\n",
       "            <tr>\n",
       "                        <th id=\"T_46215_level0_row31\" class=\"row_heading level0 row31\" >15087</th>\n",
       "                        <td id=\"T_46215_row31_col0\" class=\"data row31 col0\" >B. Collins</td>\n",
       "                        <td id=\"T_46215_row31_col1\" class=\"data row31 col1\" >57</td>\n",
       "            </tr>\n",
       "            <tr>\n",
       "                        <th id=\"T_46215_level0_row32\" class=\"row_heading level0 row32\" >15764</th>\n",
       "                        <td id=\"T_46215_row32_col0\" class=\"data row32 col0\" >T. Chalobah</td>\n",
       "                        <td id=\"T_46215_row32_col1\" class=\"data row32 col1\" >55</td>\n",
       "            </tr>\n",
       "    </tbody></table><style  type=\"text/css\" >\n",
       "#T_411d0_row0_col1{\n",
       "            background-color:  #ffffff;\n",
       "            color:  #000000;\n",
       "        }#T_411d0_row1_col1{\n",
       "            background-color:  #eaeaea;\n",
       "            color:  #000000;\n",
       "        }#T_411d0_row2_col1,#T_411d0_row3_col1{\n",
       "            background-color:  #e3e3e3;\n",
       "            color:  #000000;\n",
       "        }#T_411d0_row4_col1{\n",
       "            background-color:  #dcdcdc;\n",
       "            color:  #000000;\n",
       "        }#T_411d0_row5_col1{\n",
       "            background-color:  #d5d5d5;\n",
       "            color:  #000000;\n",
       "        }#T_411d0_row6_col1,#T_411d0_row7_col1{\n",
       "            background-color:  #cecece;\n",
       "            color:  #000000;\n",
       "        }#T_411d0_row8_col1,#T_411d0_row9_col1,#T_411d0_row10_col1,#T_411d0_row11_col1{\n",
       "            background-color:  #c7c7c7;\n",
       "            color:  #000000;\n",
       "        }#T_411d0_row12_col1{\n",
       "            background-color:  #c0c0c0;\n",
       "            color:  #000000;\n",
       "        }#T_411d0_row13_col1,#T_411d0_row14_col1,#T_411d0_row15_col1,#T_411d0_row16_col1,#T_411d0_row17_col1,#T_411d0_row18_col1{\n",
       "            background-color:  #b8b8b8;\n",
       "            color:  #000000;\n",
       "        }#T_411d0_row19_col1{\n",
       "            background-color:  #b1b1b1;\n",
       "            color:  #000000;\n",
       "        }#T_411d0_row20_col1{\n",
       "            background-color:  #959595;\n",
       "            color:  #000000;\n",
       "        }#T_411d0_row21_col1{\n",
       "            background-color:  #8e8e8e;\n",
       "            color:  #000000;\n",
       "        }#T_411d0_row22_col1{\n",
       "            background-color:  #808080;\n",
       "            color:  #000000;\n",
       "        }#T_411d0_row23_col1{\n",
       "            background-color:  #555555;\n",
       "            color:  #f1f1f1;\n",
       "        }#T_411d0_row24_col1{\n",
       "            background-color:  #474747;\n",
       "            color:  #f1f1f1;\n",
       "        }#T_411d0_row25_col1{\n",
       "            background-color:  #383838;\n",
       "            color:  #f1f1f1;\n",
       "        }#T_411d0_row26_col1,#T_411d0_row27_col1,#T_411d0_row28_col1,#T_411d0_row29_col1{\n",
       "            background-color:  #2a2a2a;\n",
       "            color:  #f1f1f1;\n",
       "        }#T_411d0_row30_col1{\n",
       "            background-color:  #232323;\n",
       "            color:  #f1f1f1;\n",
       "        }#T_411d0_row31_col1{\n",
       "            background-color:  #1c1c1c;\n",
       "            color:  #f1f1f1;\n",
       "        }#T_411d0_row32_col1{\n",
       "            background-color:  #000000;\n",
       "            color:  #f1f1f1;\n",
       "        }</style><table id=\"T_411d0_\" style='display:inline'><caption>Spurs (2nd)</caption><thead>    <tr>        <th class=\"blank level0\" ></th>        <th class=\"col_heading level0 col0\" >short_name</th>        <th class=\"col_heading level0 col1\" >overall</th>    </tr></thead><tbody>\n",
       "                <tr>\n",
       "                        <th id=\"T_411d0_level0_row0\" class=\"row_heading level0 row0\" >27</th>\n",
       "                        <td id=\"T_411d0_row0_col0\" class=\"data row0 col0\" >H. Lloris</td>\n",
       "                        <td id=\"T_411d0_row0_col1\" class=\"data row0 col1\" >88</td>\n",
       "            </tr>\n",
       "            <tr>\n",
       "                        <th id=\"T_411d0_level0_row1\" class=\"row_heading level0 row1\" >67</th>\n",
       "                        <td id=\"T_411d0_row1_col0\" class=\"data row1 col0\" >T. Alderweireld</td>\n",
       "                        <td id=\"T_411d0_row1_col1\" class=\"data row1 col1\" >85</td>\n",
       "            </tr>\n",
       "            <tr>\n",
       "                        <th id=\"T_411d0_level0_row2\" class=\"row_heading level0 row2\" >85</th>\n",
       "                        <td id=\"T_411d0_row2_col0\" class=\"data row2 col0\" >H. Kane</td>\n",
       "                        <td id=\"T_411d0_row2_col1\" class=\"data row2 col1\" >84</td>\n",
       "            </tr>\n",
       "            <tr>\n",
       "                        <th id=\"T_411d0_level0_row3\" class=\"row_heading level0 row3\" >87</th>\n",
       "                        <td id=\"T_411d0_row3_col0\" class=\"data row3 col0\" >C. Eriksen</td>\n",
       "                        <td id=\"T_411d0_row3_col1\" class=\"data row3 col1\" >84</td>\n",
       "            </tr>\n",
       "            <tr>\n",
       "                        <th id=\"T_411d0_level0_row4\" class=\"row_heading level0 row4\" >170</th>\n",
       "                        <td id=\"T_411d0_row4_col0\" class=\"data row4 col0\" >J. Vertonghen</td>\n",
       "                        <td id=\"T_411d0_row4_col1\" class=\"data row4 col1\" >83</td>\n",
       "            </tr>\n",
       "            <tr>\n",
       "                        <th id=\"T_411d0_level0_row5\" class=\"row_heading level0 row5\" >247</th>\n",
       "                        <td id=\"T_411d0_row5_col0\" class=\"data row5 col0\" >M. Dembélé</td>\n",
       "                        <td id=\"T_411d0_row5_col1\" class=\"data row5 col1\" >82</td>\n",
       "            </tr>\n",
       "            <tr>\n",
       "                        <th id=\"T_411d0_level0_row6\" class=\"row_heading level0 row6\" >284</th>\n",
       "                        <td id=\"T_411d0_row6_col0\" class=\"data row6 col0\" >E. Lamela</td>\n",
       "                        <td id=\"T_411d0_row6_col1\" class=\"data row6 col1\" >81</td>\n",
       "            </tr>\n",
       "            <tr>\n",
       "                        <th id=\"T_411d0_level0_row7\" class=\"row_heading level0 row7\" >296</th>\n",
       "                        <td id=\"T_411d0_row7_col0\" class=\"data row7 col0\" >K. Walker</td>\n",
       "                        <td id=\"T_411d0_row7_col1\" class=\"data row7 col1\" >81</td>\n",
       "            </tr>\n",
       "            <tr>\n",
       "                        <th id=\"T_411d0_level0_row8\" class=\"row_heading level0 row8\" >382</th>\n",
       "                        <td id=\"T_411d0_row8_col0\" class=\"data row8 col0\" >D. Alli</td>\n",
       "                        <td id=\"T_411d0_row8_col1\" class=\"data row8 col1\" >80</td>\n",
       "            </tr>\n",
       "            <tr>\n",
       "                        <th id=\"T_411d0_level0_row9\" class=\"row_heading level0 row9\" >428</th>\n",
       "                        <td id=\"T_411d0_row9_col0\" class=\"data row9 col0\" >D. Rose</td>\n",
       "                        <td id=\"T_411d0_row9_col1\" class=\"data row9 col1\" >80</td>\n",
       "            </tr>\n",
       "            <tr>\n",
       "                        <th id=\"T_411d0_level0_row10\" class=\"row_heading level0 row10\" >459</th>\n",
       "                        <td id=\"T_411d0_row10_col0\" class=\"data row10 col0\" >M. Vorm</td>\n",
       "                        <td id=\"T_411d0_row10_col1\" class=\"data row10 col1\" >80</td>\n",
       "            </tr>\n",
       "            <tr>\n",
       "                        <th id=\"T_411d0_level0_row11\" class=\"row_heading level0 row11\" >505</th>\n",
       "                        <td id=\"T_411d0_row11_col0\" class=\"data row11 col0\" >M. Sissoko</td>\n",
       "                        <td id=\"T_411d0_row11_col1\" class=\"data row11 col1\" >80</td>\n",
       "            </tr>\n",
       "            <tr>\n",
       "                        <th id=\"T_411d0_level0_row12\" class=\"row_heading level0 row12\" >565</th>\n",
       "                        <td id=\"T_411d0_row12_col0\" class=\"data row12 col0\" >K. Wimmer</td>\n",
       "                        <td id=\"T_411d0_row12_col1\" class=\"data row12 col1\" >79</td>\n",
       "            </tr>\n",
       "            <tr>\n",
       "                        <th id=\"T_411d0_level0_row13\" class=\"row_heading level0 row13\" >761</th>\n",
       "                        <td id=\"T_411d0_row13_col0\" class=\"data row13 col0\" >B. Davies</td>\n",
       "                        <td id=\"T_411d0_row13_col1\" class=\"data row13 col1\" >78</td>\n",
       "            </tr>\n",
       "            <tr>\n",
       "                        <th id=\"T_411d0_level0_row14\" class=\"row_heading level0 row14\" >756</th>\n",
       "                        <td id=\"T_411d0_row14_col0\" class=\"data row14 col0\" >H. Son</td>\n",
       "                        <td id=\"T_411d0_row14_col1\" class=\"data row14 col1\" >78</td>\n",
       "            </tr>\n",
       "            <tr>\n",
       "                        <th id=\"T_411d0_level0_row15\" class=\"row_heading level0 row15\" >751</th>\n",
       "                        <td id=\"T_411d0_row15_col0\" class=\"data row15 col0\" >V. Wanyama</td>\n",
       "                        <td id=\"T_411d0_row15_col1\" class=\"data row15 col1\" >78</td>\n",
       "            </tr>\n",
       "            <tr>\n",
       "                        <th id=\"T_411d0_level0_row16\" class=\"row_heading level0 row16\" >742</th>\n",
       "                        <td id=\"T_411d0_row16_col0\" class=\"data row16 col0\" >G. Nkoudou</td>\n",
       "                        <td id=\"T_411d0_row16_col1\" class=\"data row16 col1\" >78</td>\n",
       "            </tr>\n",
       "            <tr>\n",
       "                        <th id=\"T_411d0_level0_row17\" class=\"row_heading level0 row17\" >731</th>\n",
       "                        <td id=\"T_411d0_row17_col0\" class=\"data row17 col0\" >V. Janssen</td>\n",
       "                        <td id=\"T_411d0_row17_col1\" class=\"data row17 col1\" >78</td>\n",
       "            </tr>\n",
       "            <tr>\n",
       "                        <th id=\"T_411d0_level0_row18\" class=\"row_heading level0 row18\" >716</th>\n",
       "                        <td id=\"T_411d0_row18_col0\" class=\"data row18 col0\" >E. Dier</td>\n",
       "                        <td id=\"T_411d0_row18_col1\" class=\"data row18 col1\" >78</td>\n",
       "            </tr>\n",
       "            <tr>\n",
       "                        <th id=\"T_411d0_level0_row19\" class=\"row_heading level0 row19\" >1014</th>\n",
       "                        <td id=\"T_411d0_row19_col0\" class=\"data row19 col0\" >K. Trippier</td>\n",
       "                        <td id=\"T_411d0_row19_col1\" class=\"data row19 col1\" >77</td>\n",
       "            </tr>\n",
       "            <tr>\n",
       "                        <th id=\"T_411d0_level0_row20\" class=\"row_heading level0 row20\" >2656</th>\n",
       "                        <td id=\"T_411d0_row20_col0\" class=\"data row20 col0\" >Pau López</td>\n",
       "                        <td id=\"T_411d0_row20_col1\" class=\"data row20 col1\" >73</td>\n",
       "            </tr>\n",
       "            <tr>\n",
       "                        <th id=\"T_411d0_level0_row21\" class=\"row_heading level0 row21\" >3334</th>\n",
       "                        <td id=\"T_411d0_row21_col0\" class=\"data row21 col0\" >T. Carroll</td>\n",
       "                        <td id=\"T_411d0_row21_col1\" class=\"data row21 col1\" >72</td>\n",
       "            </tr>\n",
       "            <tr>\n",
       "                        <th id=\"T_411d0_level0_row22\" class=\"row_heading level0 row22\" >4619</th>\n",
       "                        <td id=\"T_411d0_row22_col0\" class=\"data row22 col0\" >J. Onomah</td>\n",
       "                        <td id=\"T_411d0_row22_col1\" class=\"data row22 col1\" >70</td>\n",
       "            </tr>\n",
       "            <tr>\n",
       "                        <th id=\"T_411d0_level0_row23\" class=\"row_heading level0 row23\" >10413</th>\n",
       "                        <td id=\"T_411d0_row23_col0\" class=\"data row23 col0\" >H. Winks</td>\n",
       "                        <td id=\"T_411d0_row23_col1\" class=\"data row23 col1\" >64</td>\n",
       "            </tr>\n",
       "            <tr>\n",
       "                        <th id=\"T_411d0_level0_row24\" class=\"row_heading level0 row24\" >12117</th>\n",
       "                        <td id=\"T_411d0_row24_col0\" class=\"data row24 col0\" >C. Carter-Vickers</td>\n",
       "                        <td id=\"T_411d0_row24_col1\" class=\"data row24 col1\" >62</td>\n",
       "            </tr>\n",
       "            <tr>\n",
       "                        <th id=\"T_411d0_level0_row25\" class=\"row_heading level0 row25\" >13471</th>\n",
       "                        <td id=\"T_411d0_row25_col0\" class=\"data row25 col0\" >S. Harrison</td>\n",
       "                        <td id=\"T_411d0_row25_col1\" class=\"data row25 col1\" >60</td>\n",
       "            </tr>\n",
       "            <tr>\n",
       "                        <th id=\"T_411d0_level0_row26\" class=\"row_heading level0 row26\" >14519</th>\n",
       "                        <td id=\"T_411d0_row26_col0\" class=\"data row26 col0\" >M. Edwards</td>\n",
       "                        <td id=\"T_411d0_row26_col1\" class=\"data row26 col1\" >58</td>\n",
       "            </tr>\n",
       "            <tr>\n",
       "                        <th id=\"T_411d0_level0_row27\" class=\"row_heading level0 row27\" >14543</th>\n",
       "                        <td id=\"T_411d0_row27_col0\" class=\"data row27 col0\" >K. Walker-Peters</td>\n",
       "                        <td id=\"T_411d0_row27_col1\" class=\"data row27 col1\" >58</td>\n",
       "            </tr>\n",
       "            <tr>\n",
       "                        <th id=\"T_411d0_level0_row28\" class=\"row_heading level0 row28\" >14646</th>\n",
       "                        <td id=\"T_411d0_row28_col0\" class=\"data row28 col0\" >L. Amos</td>\n",
       "                        <td id=\"T_411d0_row28_col1\" class=\"data row28 col1\" >58</td>\n",
       "            </tr>\n",
       "            <tr>\n",
       "                        <th id=\"T_411d0_level0_row29\" class=\"row_heading level0 row29\" >14662</th>\n",
       "                        <td id=\"T_411d0_row29_col0\" class=\"data row29 col0\" >C. Ogilvie</td>\n",
       "                        <td id=\"T_411d0_row29_col1\" class=\"data row29 col1\" >58</td>\n",
       "            </tr>\n",
       "            <tr>\n",
       "                        <th id=\"T_411d0_level0_row30\" class=\"row_heading level0 row30\" >15067</th>\n",
       "                        <td id=\"T_411d0_row30_col0\" class=\"data row30 col0\" >C. Maghoma</td>\n",
       "                        <td id=\"T_411d0_row30_col1\" class=\"data row30 col1\" >57</td>\n",
       "            </tr>\n",
       "            <tr>\n",
       "                        <th id=\"T_411d0_level0_row31\" class=\"row_heading level0 row31\" >15441</th>\n",
       "                        <td id=\"T_411d0_row31_col0\" class=\"data row31 col0\" >A. Walkes</td>\n",
       "                        <td id=\"T_411d0_row31_col1\" class=\"data row31 col1\" >56</td>\n",
       "            </tr>\n",
       "            <tr>\n",
       "                        <th id=\"T_411d0_level0_row32\" class=\"row_heading level0 row32\" >16584</th>\n",
       "                        <td id=\"T_411d0_row32_col0\" class=\"data row32 col0\" >H. Voss</td>\n",
       "                        <td id=\"T_411d0_row32_col1\" class=\"data row32 col1\" >52</td>\n",
       "            </tr>\n",
       "    </tbody></table><style  type=\"text/css\" >\n",
       "#T_eb107_row0_col1{\n",
       "            background-color:  #ff00ff;\n",
       "            color:  #f1f1f1;\n",
       "        }#T_eb107_row1_col1{\n",
       "            background-color:  #f708ff;\n",
       "            color:  #f1f1f1;\n",
       "        }#T_eb107_row2_col1{\n",
       "            background-color:  #ee11ff;\n",
       "            color:  #f1f1f1;\n",
       "        }#T_eb107_row3_col1{\n",
       "            background-color:  #e619ff;\n",
       "            color:  #f1f1f1;\n",
       "        }#T_eb107_row4_col1,#T_eb107_row5_col1,#T_eb107_row6_col1{\n",
       "            background-color:  #dd22ff;\n",
       "            color:  #f1f1f1;\n",
       "        }#T_eb107_row7_col1{\n",
       "            background-color:  #d52aff;\n",
       "            color:  #f1f1f1;\n",
       "        }#T_eb107_row8_col1{\n",
       "            background-color:  #cc33ff;\n",
       "            color:  #f1f1f1;\n",
       "        }#T_eb107_row9_col1,#T_eb107_row10_col1,#T_eb107_row11_col1{\n",
       "            background-color:  #c43bff;\n",
       "            color:  #f1f1f1;\n",
       "        }#T_eb107_row12_col1{\n",
       "            background-color:  #bb44ff;\n",
       "            color:  #000000;\n",
       "        }#T_eb107_row13_col1,#T_eb107_row14_col1{\n",
       "            background-color:  #b34cff;\n",
       "            color:  #000000;\n",
       "        }#T_eb107_row15_col1,#T_eb107_row16_col1,#T_eb107_row17_col1{\n",
       "            background-color:  #aa55ff;\n",
       "            color:  #000000;\n",
       "        }#T_eb107_row18_col1,#T_eb107_row19_col1,#T_eb107_row20_col1{\n",
       "            background-color:  #a25dff;\n",
       "            color:  #000000;\n",
       "        }#T_eb107_row21_col1{\n",
       "            background-color:  #807fff;\n",
       "            color:  #000000;\n",
       "        }#T_eb107_row22_col1{\n",
       "            background-color:  #3bc4ff;\n",
       "            color:  #000000;\n",
       "        }#T_eb107_row23_col1,#T_eb107_row24_col1,#T_eb107_row25_col1{\n",
       "            background-color:  #33ccff;\n",
       "            color:  #000000;\n",
       "        }#T_eb107_row26_col1{\n",
       "            background-color:  #2ad5ff;\n",
       "            color:  #000000;\n",
       "        }#T_eb107_row27_col1{\n",
       "            background-color:  #22ddff;\n",
       "            color:  #000000;\n",
       "        }#T_eb107_row28_col1,#T_eb107_row29_col1{\n",
       "            background-color:  #11eeff;\n",
       "            color:  #000000;\n",
       "        }#T_eb107_row30_col1,#T_eb107_row31_col1{\n",
       "            background-color:  #08f7ff;\n",
       "            color:  #000000;\n",
       "        }#T_eb107_row32_col1{\n",
       "            background-color:  #00ffff;\n",
       "            color:  #000000;\n",
       "        }</style><table id=\"T_eb107_\" style='display:inline'><caption>Man City (3rd)</caption><thead>    <tr>        <th class=\"blank level0\" ></th>        <th class=\"col_heading level0 col0\" >short_name</th>        <th class=\"col_heading level0 col1\" >overall</th>    </tr></thead><tbody>\n",
       "                <tr>\n",
       "                        <th id=\"T_eb107_level0_row0\" class=\"row_heading level0 row0\" >12</th>\n",
       "                        <td id=\"T_eb107_row0_col0\" class=\"data row0 col0\" >S. Agüero</td>\n",
       "                        <td id=\"T_eb107_row0_col1\" class=\"data row0 col1\" >89</td>\n",
       "            </tr>\n",
       "            <tr>\n",
       "                        <th id=\"T_eb107_level0_row1\" class=\"row_heading level0 row1\" >18</th>\n",
       "                        <td id=\"T_eb107_row1_col0\" class=\"data row1 col0\" >K. De Bruyne</td>\n",
       "                        <td id=\"T_eb107_row1_col1\" class=\"data row1 col1\" >88</td>\n",
       "            </tr>\n",
       "            <tr>\n",
       "                        <th id=\"T_eb107_level0_row2\" class=\"row_heading level0 row2\" >38</th>\n",
       "                        <td id=\"T_eb107_row2_col0\" class=\"data row2 col0\" >David Silva</td>\n",
       "                        <td id=\"T_eb107_row2_col1\" class=\"data row2 col1\" >87</td>\n",
       "            </tr>\n",
       "            <tr>\n",
       "                        <th id=\"T_eb107_level0_row3\" class=\"row_heading level0 row3\" >49</th>\n",
       "                        <td id=\"T_eb107_row3_col0\" class=\"data row3 col0\" >V. Kompany</td>\n",
       "                        <td id=\"T_eb107_row3_col1\" class=\"data row3 col1\" >86</td>\n",
       "            </tr>\n",
       "            <tr>\n",
       "                        <th id=\"T_eb107_level0_row4\" class=\"row_heading level0 row4\" >65</th>\n",
       "                        <td id=\"T_eb107_row4_col0\" class=\"data row4 col0\" >I. Gündoğan</td>\n",
       "                        <td id=\"T_eb107_row4_col1\" class=\"data row4 col1\" >85</td>\n",
       "            </tr>\n",
       "            <tr>\n",
       "                        <th id=\"T_eb107_level0_row5\" class=\"row_heading level0 row5\" >76</th>\n",
       "                        <td id=\"T_eb107_row5_col0\" class=\"data row5 col0\" >C. Bravo</td>\n",
       "                        <td id=\"T_eb107_row5_col1\" class=\"data row5 col1\" >85</td>\n",
       "            </tr>\n",
       "            <tr>\n",
       "                        <th id=\"T_eb107_level0_row6\" class=\"row_heading level0 row6\" >80</th>\n",
       "                        <td id=\"T_eb107_row6_col0\" class=\"data row6 col0\" >N. Otamendi</td>\n",
       "                        <td id=\"T_eb107_row6_col1\" class=\"data row6 col1\" >85</td>\n",
       "            </tr>\n",
       "            <tr>\n",
       "                        <th id=\"T_eb107_level0_row7\" class=\"row_heading level0 row7\" >108</th>\n",
       "                        <td id=\"T_eb107_row7_col0\" class=\"data row7 col0\" >Y. Touré</td>\n",
       "                        <td id=\"T_eb107_row7_col1\" class=\"data row7 col1\" >84</td>\n",
       "            </tr>\n",
       "            <tr>\n",
       "                        <th id=\"T_eb107_level0_row8\" class=\"row_heading level0 row8\" >188</th>\n",
       "                        <td id=\"T_eb107_row8_col0\" class=\"data row8 col0\" >Nolito</td>\n",
       "                        <td id=\"T_eb107_row8_col1\" class=\"data row8 col1\" >83</td>\n",
       "            </tr>\n",
       "            <tr>\n",
       "                        <th id=\"T_eb107_level0_row9\" class=\"row_heading level0 row9\" >196</th>\n",
       "                        <td id=\"T_eb107_row9_col0\" class=\"data row9 col0\" >R. Sterling</td>\n",
       "                        <td id=\"T_eb107_row9_col1\" class=\"data row9 col1\" >82</td>\n",
       "            </tr>\n",
       "            <tr>\n",
       "                        <th id=\"T_eb107_level0_row10\" class=\"row_heading level0 row10\" >237</th>\n",
       "                        <td id=\"T_eb107_row10_col0\" class=\"data row10 col0\" >P. Zabaleta</td>\n",
       "                        <td id=\"T_eb107_row10_col1\" class=\"data row10 col1\" >82</td>\n",
       "            </tr>\n",
       "            <tr>\n",
       "                        <th id=\"T_eb107_level0_row11\" class=\"row_heading level0 row11\" >248</th>\n",
       "                        <td id=\"T_eb107_row11_col0\" class=\"data row11 col0\" >B. Sagna</td>\n",
       "                        <td id=\"T_eb107_row11_col1\" class=\"data row11 col1\" >82</td>\n",
       "            </tr>\n",
       "            <tr>\n",
       "                        <th id=\"T_eb107_level0_row12\" class=\"row_heading level0 row12\" >345</th>\n",
       "                        <td id=\"T_eb107_row12_col0\" class=\"data row12 col0\" >Fernandinho</td>\n",
       "                        <td id=\"T_eb107_row12_col1\" class=\"data row12 col1\" >81</td>\n",
       "            </tr>\n",
       "            <tr>\n",
       "                        <th id=\"T_eb107_level0_row13\" class=\"row_heading level0 row13\" >467</th>\n",
       "                        <td id=\"T_eb107_row13_col0\" class=\"data row13 col0\" >Jesús Navas</td>\n",
       "                        <td id=\"T_eb107_row13_col1\" class=\"data row13 col1\" >80</td>\n",
       "            </tr>\n",
       "            <tr>\n",
       "                        <th id=\"T_eb107_level0_row14\" class=\"row_heading level0 row14\" >471</th>\n",
       "                        <td id=\"T_eb107_row14_col0\" class=\"data row14 col0\" >G. Clichy</td>\n",
       "                        <td id=\"T_eb107_row14_col1\" class=\"data row14 col1\" >80</td>\n",
       "            </tr>\n",
       "            <tr>\n",
       "                        <th id=\"T_eb107_level0_row15\" class=\"row_heading level0 row15\" >689</th>\n",
       "                        <td id=\"T_eb107_row15_col0\" class=\"data row15 col0\" >A. Kolarov</td>\n",
       "                        <td id=\"T_eb107_row15_col1\" class=\"data row15 col1\" >79</td>\n",
       "            </tr>\n",
       "            <tr>\n",
       "                        <th id=\"T_eb107_level0_row16\" class=\"row_heading level0 row16\" >687</th>\n",
       "                        <td id=\"T_eb107_row16_col0\" class=\"data row16 col0\" >Fernando</td>\n",
       "                        <td id=\"T_eb107_row16_col1\" class=\"data row16 col1\" >79</td>\n",
       "            </tr>\n",
       "            <tr>\n",
       "                        <th id=\"T_eb107_level0_row17\" class=\"row_heading level0 row17\" >527</th>\n",
       "                        <td id=\"T_eb107_row17_col0\" class=\"data row17 col0\" >L. Sané</td>\n",
       "                        <td id=\"T_eb107_row17_col1\" class=\"data row17 col1\" >79</td>\n",
       "            </tr>\n",
       "            <tr>\n",
       "                        <th id=\"T_eb107_level0_row18\" class=\"row_heading level0 row18\" >710</th>\n",
       "                        <td id=\"T_eb107_row18_col0\" class=\"data row18 col0\" >J. Stones</td>\n",
       "                        <td id=\"T_eb107_row18_col1\" class=\"data row18 col1\" >78</td>\n",
       "            </tr>\n",
       "            <tr>\n",
       "                        <th id=\"T_eb107_level0_row19\" class=\"row_heading level0 row19\" >782</th>\n",
       "                        <td id=\"T_eb107_row19_col0\" class=\"data row19 col0\" >F. Delph</td>\n",
       "                        <td id=\"T_eb107_row19_col1\" class=\"data row19 col1\" >78</td>\n",
       "            </tr>\n",
       "            <tr>\n",
       "                        <th id=\"T_eb107_level0_row20\" class=\"row_heading level0 row20\" >836</th>\n",
       "                        <td id=\"T_eb107_row20_col0\" class=\"data row20 col0\" >W. Caballero</td>\n",
       "                        <td id=\"T_eb107_row20_col1\" class=\"data row20 col1\" >78</td>\n",
       "            </tr>\n",
       "            <tr>\n",
       "                        <th id=\"T_eb107_level0_row21\" class=\"row_heading level0 row21\" >2078</th>\n",
       "                        <td id=\"T_eb107_row21_col0\" class=\"data row21 col0\" >K. Iheanacho</td>\n",
       "                        <td id=\"T_eb107_row21_col1\" class=\"data row21 col1\" >74</td>\n",
       "            </tr>\n",
       "            <tr>\n",
       "                        <th id=\"T_eb107_level0_row22\" class=\"row_heading level0 row22\" >8365</th>\n",
       "                        <td id=\"T_eb107_row22_col0\" class=\"data row22 col0\" >T. Ambrose</td>\n",
       "                        <td id=\"T_eb107_row22_col1\" class=\"data row22 col1\" >66</td>\n",
       "            </tr>\n",
       "            <tr>\n",
       "                        <th id=\"T_eb107_level0_row23\" class=\"row_heading level0 row23\" >9339</th>\n",
       "                        <td id=\"T_eb107_row23_col0\" class=\"data row23 col0\" >Pablo Maffeo</td>\n",
       "                        <td id=\"T_eb107_row23_col1\" class=\"data row23 col1\" >65</td>\n",
       "            </tr>\n",
       "            <tr>\n",
       "                        <th id=\"T_eb107_level0_row24\" class=\"row_heading level0 row24\" >9352</th>\n",
       "                        <td id=\"T_eb107_row24_col0\" class=\"data row24 col0\" >Angeliño</td>\n",
       "                        <td id=\"T_eb107_row24_col1\" class=\"data row24 col1\" >65</td>\n",
       "            </tr>\n",
       "            <tr>\n",
       "                        <th id=\"T_eb107_level0_row25\" class=\"row_heading level0 row25\" >9367</th>\n",
       "                        <td id=\"T_eb107_row25_col0\" class=\"data row25 col0\" >A. Gunn</td>\n",
       "                        <td id=\"T_eb107_row25_col1\" class=\"data row25 col1\" >65</td>\n",
       "            </tr>\n",
       "            <tr>\n",
       "                        <th id=\"T_eb107_level0_row26\" class=\"row_heading level0 row26\" >10320</th>\n",
       "                        <td id=\"T_eb107_row26_col0\" class=\"data row26 col0\" >Brahim Díaz</td>\n",
       "                        <td id=\"T_eb107_row26_col1\" class=\"data row26 col1\" >64</td>\n",
       "            </tr>\n",
       "            <tr>\n",
       "                        <th id=\"T_eb107_level0_row27\" class=\"row_heading level0 row27\" >11269</th>\n",
       "                        <td id=\"T_eb107_row27_col0\" class=\"data row27 col0\" >Aleix García</td>\n",
       "                        <td id=\"T_eb107_row27_col1\" class=\"data row27 col1\" >63</td>\n",
       "            </tr>\n",
       "            <tr>\n",
       "                        <th id=\"T_eb107_level0_row28\" class=\"row_heading level0 row28\" >12784</th>\n",
       "                        <td id=\"T_eb107_row28_col0\" class=\"data row28 col0\" >C. Humphreys-Grant</td>\n",
       "                        <td id=\"T_eb107_row28_col1\" class=\"data row28 col1\" >61</td>\n",
       "            </tr>\n",
       "            <tr>\n",
       "                        <th id=\"T_eb107_level0_row29\" class=\"row_heading level0 row29\" >12874</th>\n",
       "                        <td id=\"T_eb107_row29_col0\" class=\"data row29 col0\" >I. Lawlor</td>\n",
       "                        <td id=\"T_eb107_row29_col1\" class=\"data row29 col1\" >61</td>\n",
       "            </tr>\n",
       "            <tr>\n",
       "                        <th id=\"T_eb107_level0_row30\" class=\"row_heading level0 row30\" >13445</th>\n",
       "                        <td id=\"T_eb107_row30_col0\" class=\"data row30 col0\" >W. Patching</td>\n",
       "                        <td id=\"T_eb107_row30_col1\" class=\"data row30 col1\" >60</td>\n",
       "            </tr>\n",
       "            <tr>\n",
       "                        <th id=\"T_eb107_level0_row31\" class=\"row_heading level0 row31\" >13508</th>\n",
       "                        <td id=\"T_eb107_row31_col0\" class=\"data row31 col0\" >A. Nemane</td>\n",
       "                        <td id=\"T_eb107_row31_col1\" class=\"data row31 col1\" >60</td>\n",
       "            </tr>\n",
       "            <tr>\n",
       "                        <th id=\"T_eb107_level0_row32\" class=\"row_heading level0 row32\" >14076</th>\n",
       "                        <td id=\"T_eb107_row32_col0\" class=\"data row32 col0\" >T. Adarabioyo</td>\n",
       "                        <td id=\"T_eb107_row32_col1\" class=\"data row32 col1\" >59</td>\n",
       "            </tr>\n",
       "    </tbody></table>"
      ]
     },
     "metadata": {},
     "output_type": "display_data"
    }
   ],
   "source": [
    "display_html(mu_16_17._repr_html_()+cfc_16_17._repr_html_()+spurs_16_17._repr_html_()+mc_16_17._repr_html_(),raw=True)"
   ]
  },
  {
   "cell_type": "code",
   "execution_count": null,
   "metadata": {},
   "outputs": [],
   "source": []
  }
 ],
 "metadata": {
  "kernelspec": {
   "display_name": "Python 3",
   "language": "python",
   "name": "python3"
  },
  "language_info": {
   "codemirror_mode": {
    "name": "ipython",
    "version": 3
   },
   "file_extension": ".py",
   "mimetype": "text/x-python",
   "name": "python",
   "nbconvert_exporter": "python",
   "pygments_lexer": "ipython3",
   "version": "3.9.1"
  }
 },
 "nbformat": 4,
 "nbformat_minor": 4
}
